{
  "nbformat": 4,
  "nbformat_minor": 0,
  "metadata": {
    "colab": {
      "provenance": [],
      "gpuType": "T4"
    },
    "kernelspec": {
      "name": "python3",
      "display_name": "Python 3"
    },
    "language_info": {
      "name": "python"
    },
    "accelerator": "GPU"
  },
  "cells": [
    {
      "cell_type": "code",
      "execution_count": 1,
      "metadata": {
        "colab": {
          "base_uri": "https://localhost:8080/"
        },
        "id": "wVGmBzmBs_2Q",
        "outputId": "8f64efca-eccb-417c-e03a-8fd95c8f274e"
      },
      "outputs": [
        {
          "output_type": "stream",
          "name": "stdout",
          "text": [
            "Mounted at /gdrive\n",
            "/gdrive/My Drive/Applied_AI/train\n"
          ]
        }
      ],
      "source": [
        "from google.colab import drive\n",
        "drive.mount('/gdrive')\n",
        "%cd /gdrive/My Drive/Applied_AI/train"
      ]
    },
    {
      "cell_type": "code",
      "source": [
        "from scipy.io import loadmat\n",
        "import numpy as np, os, sys, joblib\n",
        "import matplotlib.pyplot as plt\n",
        "import math\n",
        "from tqdm import tqdm\n",
        "import pandas as pd\n",
        "import random\n",
        "import tensorflow as tf\n",
        "import sklearn\n",
        "from collections import Counter\n",
        "\n",
        "SEED = 1234\n",
        "np.random.seed(SEED)\n",
        "pd.core.common._random_stat = SEED\n",
        "random.seed(SEED)\n",
        "os.environ['PYTHONHASHSEED'] = str(SEED)"
      ],
      "metadata": {
        "id": "TKVLeathtJUv"
      },
      "execution_count": 2,
      "outputs": []
    },
    {
      "cell_type": "code",
      "source": [
        "from sklearn.model_selection import train_test_split\n",
        "import os\n",
        "import re"
      ],
      "metadata": {
        "id": "YHNgk9_6tQR3"
      },
      "execution_count": 3,
      "outputs": []
    },
    {
      "cell_type": "code",
      "source": [
        "path_to_data = \"/gdrive/My Drive/Applied_AI/train\""
      ],
      "metadata": {
        "id": "EE3aHHDftSmF"
      },
      "execution_count": 4,
      "outputs": []
    },
    {
      "cell_type": "code",
      "source": [
        "def load_data(file):\n",
        "\n",
        "  original = loadmat(file) #  dictionary with variable names as keys, and loaded matrices as values\n",
        "\n",
        "  spk_file = file.replace('.mat', '_spk.mat')\n",
        "  spk = loadmat(spk_file)\n",
        "\n",
        "  ann_file = file.replace('.mat', '_ann.mat')\n",
        "  ann = loadmat(ann_file)\n",
        "\n",
        "  return original, spk, ann"
      ],
      "metadata": {
        "id": "lpFx7BJYtXh2"
      },
      "execution_count": 5,
      "outputs": []
    },
    {
      "cell_type": "code",
      "source": [
        "def filter_files_by_pattern(directory, pattern):\n",
        "    \"\"\"\n",
        "    Filter files in a directory based on a specified pattern.\n",
        "\n",
        "    Parameters:\n",
        "    - directory: The directory containing the files.\n",
        "    - pattern: The regular expression pattern to match filenames.\n",
        "\n",
        "    Returns:\n",
        "    - List of filenames matching the pattern.\n",
        "    \"\"\"\n",
        "    files = os.listdir(directory)\n",
        "    filtered_files = [file for file in files if re.match(pattern, file)]\n",
        "    return filtered_files"
      ],
      "metadata": {
        "id": "Epu0GFrYta5W"
      },
      "execution_count": 6,
      "outputs": []
    },
    {
      "cell_type": "code",
      "source": [
        "directory = path_to_data\n",
        "pattern = r'S\\d{3}_\\d{3}\\.mat'  # Regular expression pattern matching 'SXXX_YYY.mat'\n",
        "\n",
        "filtered_files = filter_files_by_pattern(directory, pattern)\n",
        "print(filtered_files)"
      ],
      "metadata": {
        "colab": {
          "base_uri": "https://localhost:8080/"
        },
        "id": "kRJNY33Gtbft",
        "outputId": "cd074910-56b8-40a7-ab6e-7f6a84014397"
      },
      "execution_count": 7,
      "outputs": [
        {
          "output_type": "stream",
          "name": "stdout",
          "text": [
            "['S120_250.mat', 'S117_250.mat', 'S108_250.mat', 'S110_250.mat', 'S114_250.mat', 'S106_250.mat', 'S112_250.mat', 'S115_250.mat', 'S121_250.mat', 'S113_250.mat', 'S109_250.mat', 'S116_250.mat', 'S102_250.mat', 'S111_250.mat', 'S119_250.mat', 'S091_250.mat', 'S098_250.mat', 'S118_250.mat', 'S104_250.mat', 'S101_250.mat', 'S087_250.mat', 'S100_250.mat', 'S096_250.mat', 'S084_250.mat', 'S093_250.mat', 'S095_250.mat', 'S092_250.mat', 'S103_250.mat', 'S088_250.mat', 'S097_250.mat', 'S099_250.mat', 'S105_250.mat', 'S094_250.mat', 'S058_128.mat', 'S046_128.mat', 'S054_128.mat', 'S049_128.mat', 'S039_128.mat', 'S061_128.mat', 'S082_250.mat', 'S060_128.mat', 'S083_250.mat', 'S055_128.mat', 'S059_128.mat', 'S052_128.mat', 'S044_128.mat', 'S079_250.mat', 'S048_128.mat', 'S041_128.mat', 'S090_250.mat', 'S062_128.mat', 'S086_250.mat', 'S053_128.mat', 'S081_250.mat', 'S057_128.mat', 'S089_250.mat', 'S080_250.mat', 'S085_250.mat', 'S042_128.mat', 'S043_128.mat', 'S051_128.mat', 'S015_128.mat', 'S020_128.mat', 'S021_128.mat', 'S022_128.mat', 'S032_128.mat', 'S035_128.mat', 'S038_128.mat', 'S036_128.mat', 'S010_128.mat', 'S034_128.mat', 'S107_250.mat', 'S023_128.mat', 'S025_128.mat', 'S030_128.mat', 'S014_128.mat', 'S040_128.mat', 'S024_128.mat', 'S018_128.mat', 'S026_128.mat', 'S045_128.mat', 'S029_128.mat', 'S031_128.mat', 'S050_128.mat', 'S028_128.mat', 'S027_128.mat', 'S037_128.mat', 'S019_128.mat', 'S047_128.mat', 'S033_128.mat', 'S007_128.mat', 'S016_128.mat', 'S013_128.mat', 'S005_128.mat', 'S003_128.mat', 'S011_128.mat', 'S001_128.mat', 'S004_128.mat', 'S009_128.mat', 'S006_128.mat', 'S002_128.mat', 'S017_128.mat', 'S056_128.mat', 'S012_128.mat', 'S008_128.mat']\n"
          ]
        }
      ]
    },
    {
      "cell_type": "code",
      "source": [
        "train_files = filtered_files[:round(len(filtered_files)*0.8)]"
      ],
      "metadata": {
        "id": "FLUMQvvStgth"
      },
      "execution_count": 8,
      "outputs": []
    },
    {
      "cell_type": "code",
      "source": [
        "train_files"
      ],
      "metadata": {
        "colab": {
          "base_uri": "https://localhost:8080/"
        },
        "id": "bZ_v5zVHtjXR",
        "outputId": "527e7620-79ea-4ed1-cc1a-6c2841ba4e7e"
      },
      "execution_count": 9,
      "outputs": [
        {
          "output_type": "execute_result",
          "data": {
            "text/plain": [
              "['S120_250.mat',\n",
              " 'S117_250.mat',\n",
              " 'S108_250.mat',\n",
              " 'S110_250.mat',\n",
              " 'S114_250.mat',\n",
              " 'S106_250.mat',\n",
              " 'S112_250.mat',\n",
              " 'S115_250.mat',\n",
              " 'S121_250.mat',\n",
              " 'S113_250.mat',\n",
              " 'S109_250.mat',\n",
              " 'S116_250.mat',\n",
              " 'S102_250.mat',\n",
              " 'S111_250.mat',\n",
              " 'S119_250.mat',\n",
              " 'S091_250.mat',\n",
              " 'S098_250.mat',\n",
              " 'S118_250.mat',\n",
              " 'S104_250.mat',\n",
              " 'S101_250.mat',\n",
              " 'S087_250.mat',\n",
              " 'S100_250.mat',\n",
              " 'S096_250.mat',\n",
              " 'S084_250.mat',\n",
              " 'S093_250.mat',\n",
              " 'S095_250.mat',\n",
              " 'S092_250.mat',\n",
              " 'S103_250.mat',\n",
              " 'S088_250.mat',\n",
              " 'S097_250.mat',\n",
              " 'S099_250.mat',\n",
              " 'S105_250.mat',\n",
              " 'S094_250.mat',\n",
              " 'S058_128.mat',\n",
              " 'S046_128.mat',\n",
              " 'S054_128.mat',\n",
              " 'S049_128.mat',\n",
              " 'S039_128.mat',\n",
              " 'S061_128.mat',\n",
              " 'S082_250.mat',\n",
              " 'S060_128.mat',\n",
              " 'S083_250.mat',\n",
              " 'S055_128.mat',\n",
              " 'S059_128.mat',\n",
              " 'S052_128.mat',\n",
              " 'S044_128.mat',\n",
              " 'S079_250.mat',\n",
              " 'S048_128.mat',\n",
              " 'S041_128.mat',\n",
              " 'S090_250.mat',\n",
              " 'S062_128.mat',\n",
              " 'S086_250.mat',\n",
              " 'S053_128.mat',\n",
              " 'S081_250.mat',\n",
              " 'S057_128.mat',\n",
              " 'S089_250.mat',\n",
              " 'S080_250.mat',\n",
              " 'S085_250.mat',\n",
              " 'S042_128.mat',\n",
              " 'S043_128.mat',\n",
              " 'S051_128.mat',\n",
              " 'S015_128.mat',\n",
              " 'S020_128.mat',\n",
              " 'S021_128.mat',\n",
              " 'S022_128.mat',\n",
              " 'S032_128.mat',\n",
              " 'S035_128.mat',\n",
              " 'S038_128.mat',\n",
              " 'S036_128.mat',\n",
              " 'S010_128.mat',\n",
              " 'S034_128.mat',\n",
              " 'S107_250.mat',\n",
              " 'S023_128.mat',\n",
              " 'S025_128.mat',\n",
              " 'S030_128.mat',\n",
              " 'S014_128.mat',\n",
              " 'S040_128.mat',\n",
              " 'S024_128.mat',\n",
              " 'S018_128.mat',\n",
              " 'S026_128.mat',\n",
              " 'S045_128.mat',\n",
              " 'S029_128.mat',\n",
              " 'S031_128.mat',\n",
              " 'S050_128.mat']"
            ]
          },
          "metadata": {},
          "execution_count": 9
        }
      ]
    },
    {
      "cell_type": "code",
      "source": [
        "validation_files = filtered_files[(round(len(filtered_files)*0.8)):]"
      ],
      "metadata": {
        "id": "HB_RgYs9tleR"
      },
      "execution_count": 10,
      "outputs": []
    },
    {
      "cell_type": "code",
      "source": [
        "validation_files"
      ],
      "metadata": {
        "colab": {
          "base_uri": "https://localhost:8080/"
        },
        "id": "7eHFZxyutogQ",
        "outputId": "ec158dd8-1431-4f3a-9c88-ecdecb3d4c35"
      },
      "execution_count": 11,
      "outputs": [
        {
          "output_type": "execute_result",
          "data": {
            "text/plain": [
              "['S028_128.mat',\n",
              " 'S027_128.mat',\n",
              " 'S037_128.mat',\n",
              " 'S019_128.mat',\n",
              " 'S047_128.mat',\n",
              " 'S033_128.mat',\n",
              " 'S007_128.mat',\n",
              " 'S016_128.mat',\n",
              " 'S013_128.mat',\n",
              " 'S005_128.mat',\n",
              " 'S003_128.mat',\n",
              " 'S011_128.mat',\n",
              " 'S001_128.mat',\n",
              " 'S004_128.mat',\n",
              " 'S009_128.mat',\n",
              " 'S006_128.mat',\n",
              " 'S002_128.mat',\n",
              " 'S017_128.mat',\n",
              " 'S056_128.mat',\n",
              " 'S012_128.mat',\n",
              " 'S008_128.mat']"
            ]
          },
          "metadata": {},
          "execution_count": 11
        }
      ]
    },
    {
      "cell_type": "code",
      "source": [
        "train = []\n",
        "ecg_train = []\n",
        "spk_train = []\n",
        "ann_train = []\n",
        "\n",
        "for file in train_files:\n",
        "  ecg, spk, ann = load_data(path_to_data + '/' + file)\n",
        "  ecg_train.append(ecg)\n",
        "  spk_train.append(spk)\n",
        "  ann_train.append(ann)\n",
        "\n",
        "  train.append(path_to_data + '/' + file)"
      ],
      "metadata": {
        "id": "tI65XqvztrI4"
      },
      "execution_count": 12,
      "outputs": []
    },
    {
      "cell_type": "code",
      "source": [
        "validation = []\n",
        "ecg_validation = []\n",
        "spk_validation = []\n",
        "ann_validation = []\n",
        "\n",
        "for file in validation_files:\n",
        "\n",
        "  ecg, spk, ann = load_data(path_to_data + '/' + file)\n",
        "  ecg_validation.append(ecg)\n",
        "  spk_validation.append(spk)\n",
        "  ann_validation.append(ann)\n",
        "\n",
        "  validation.append(path_to_data + '/' + file)"
      ],
      "metadata": {
        "id": "Lr6F7mJEuydx"
      },
      "execution_count": 13,
      "outputs": []
    },
    {
      "cell_type": "code",
      "source": [
        "! pip install neurokit2 tdqm"
      ],
      "metadata": {
        "colab": {
          "base_uri": "https://localhost:8080/"
        },
        "id": "NZFViw9bu03s",
        "outputId": "84e99ea9-ff74-4d95-a039-79c2b7ca7c39"
      },
      "execution_count": 14,
      "outputs": [
        {
          "output_type": "stream",
          "name": "stdout",
          "text": [
            "Collecting neurokit2\n",
            "  Downloading neurokit2-0.2.7-py2.py3-none-any.whl (1.3 MB)\n",
            "\u001b[2K     \u001b[90m━━━━━━━━━━━━━━━━━━━━━━━━━━━━━━━━━━━━━━━━\u001b[0m \u001b[32m1.3/1.3 MB\u001b[0m \u001b[31m7.4 MB/s\u001b[0m eta \u001b[36m0:00:00\u001b[0m\n",
            "\u001b[?25hCollecting tdqm\n",
            "  Downloading tdqm-0.0.1.tar.gz (1.4 kB)\n",
            "  Preparing metadata (setup.py) ... \u001b[?25l\u001b[?25hdone\n",
            "Requirement already satisfied: numpy in /usr/local/lib/python3.10/dist-packages (from neurokit2) (1.25.2)\n",
            "Requirement already satisfied: pandas in /usr/local/lib/python3.10/dist-packages (from neurokit2) (1.5.3)\n",
            "Requirement already satisfied: scipy in /usr/local/lib/python3.10/dist-packages (from neurokit2) (1.11.4)\n",
            "Requirement already satisfied: scikit-learn>=1.0.0 in /usr/local/lib/python3.10/dist-packages (from neurokit2) (1.2.2)\n",
            "Requirement already satisfied: matplotlib in /usr/local/lib/python3.10/dist-packages (from neurokit2) (3.7.1)\n",
            "Requirement already satisfied: tqdm in /usr/local/lib/python3.10/dist-packages (from tdqm) (4.66.2)\n",
            "Requirement already satisfied: joblib>=1.1.1 in /usr/local/lib/python3.10/dist-packages (from scikit-learn>=1.0.0->neurokit2) (1.3.2)\n",
            "Requirement already satisfied: threadpoolctl>=2.0.0 in /usr/local/lib/python3.10/dist-packages (from scikit-learn>=1.0.0->neurokit2) (3.3.0)\n",
            "Requirement already satisfied: contourpy>=1.0.1 in /usr/local/lib/python3.10/dist-packages (from matplotlib->neurokit2) (1.2.0)\n",
            "Requirement already satisfied: cycler>=0.10 in /usr/local/lib/python3.10/dist-packages (from matplotlib->neurokit2) (0.12.1)\n",
            "Requirement already satisfied: fonttools>=4.22.0 in /usr/local/lib/python3.10/dist-packages (from matplotlib->neurokit2) (4.49.0)\n",
            "Requirement already satisfied: kiwisolver>=1.0.1 in /usr/local/lib/python3.10/dist-packages (from matplotlib->neurokit2) (1.4.5)\n",
            "Requirement already satisfied: packaging>=20.0 in /usr/local/lib/python3.10/dist-packages (from matplotlib->neurokit2) (24.0)\n",
            "Requirement already satisfied: pillow>=6.2.0 in /usr/local/lib/python3.10/dist-packages (from matplotlib->neurokit2) (9.4.0)\n",
            "Requirement already satisfied: pyparsing>=2.3.1 in /usr/local/lib/python3.10/dist-packages (from matplotlib->neurokit2) (3.1.2)\n",
            "Requirement already satisfied: python-dateutil>=2.7 in /usr/local/lib/python3.10/dist-packages (from matplotlib->neurokit2) (2.8.2)\n",
            "Requirement already satisfied: pytz>=2020.1 in /usr/local/lib/python3.10/dist-packages (from pandas->neurokit2) (2023.4)\n",
            "Requirement already satisfied: six>=1.5 in /usr/local/lib/python3.10/dist-packages (from python-dateutil>=2.7->matplotlib->neurokit2) (1.16.0)\n",
            "Building wheels for collected packages: tdqm\n",
            "  Building wheel for tdqm (setup.py) ... \u001b[?25l\u001b[?25hdone\n",
            "  Created wheel for tdqm: filename=tdqm-0.0.1-py3-none-any.whl size=1323 sha256=fb4654f34ed22208c90c5b8f4f5931e0f897c52ddb777df76f3a067fb1ad29f0\n",
            "  Stored in directory: /root/.cache/pip/wheels/37/31/b8/7b711038035720ba0df14376af06e5e76b9bd61759c861ad92\n",
            "Successfully built tdqm\n",
            "Installing collected packages: tdqm, neurokit2\n",
            "Successfully installed neurokit2-0.2.7 tdqm-0.0.1\n"
          ]
        }
      ]
    },
    {
      "cell_type": "code",
      "source": [
        "def freq(filename):\n",
        "  if '128' in filename:\n",
        "    return 128\n",
        "  else:\n",
        "    return 250"
      ],
      "metadata": {
        "id": "35XDkwZXu37f"
      },
      "execution_count": 15,
      "outputs": []
    },
    {
      "cell_type": "code",
      "source": [
        "\n",
        "import matplotlib.pyplot as plt\n",
        "\n",
        "# plot a piece of one ECG signal\n",
        "plt.plot(ecg_train[1]['ppg'][:,0])\n",
        "plt.xlim(0,1000)\n",
        "plt.ylim(-5,5)"
      ],
      "metadata": {
        "colab": {
          "base_uri": "https://localhost:8080/",
          "height": 447
        },
        "id": "iBQrn_PRu80I",
        "outputId": "bf303f84-eb70-4354-9209-f06710340f5f"
      },
      "execution_count": 16,
      "outputs": [
        {
          "output_type": "execute_result",
          "data": {
            "text/plain": [
              "(-5.0, 5.0)"
            ]
          },
          "metadata": {},
          "execution_count": 16
        },
        {
          "output_type": "display_data",
          "data": {
            "text/plain": [
              "<Figure size 640x480 with 1 Axes>"
            ],
            "image/png": "[encoded data removed]"
          },
          "metadata": {}
        }
      ]
    },
    {
      "cell_type": "code",
      "source": [
        "# Utility: given the filename of a signal it returns the sampling frequency\n",
        "def ecg_freq(filename):\n",
        "  if '128' in filename:\n",
        "    return 128\n",
        "  else:\n",
        "    return 250"
      ],
      "metadata": {
        "id": "NDGBAARdvX3X"
      },
      "execution_count": 17,
      "outputs": []
    },
    {
      "cell_type": "code",
      "source": [
        "import scipy"
      ],
      "metadata": {
        "id": "M9iEDFy2vc2T"
      },
      "execution_count": 18,
      "outputs": []
    },
    {
      "cell_type": "code",
      "source": [
        "# Resample to 250 Hz training ECG signals\n",
        "\n",
        "resampled_ecg_1_train = []\n",
        "#resampled_ecg_2_train = []\n",
        "for i in range(len(ecg_train)):\n",
        "   secs_1 = len(ecg_train[i]['ppg'][:,0])/ecg_freq(train[i]) # Number of seconds in signal X\n",
        "   #secs_2 = len(ecg_train[i]['ppg'][:,1])/ecg_freq(train[i]) # Number of seconds in signal X\n",
        "   samps_1 = secs_1*250     # Number of samples to downsample\n",
        "   #samps_2 = secs_2*250\n",
        "   resampled_ecg_1_train.append(scipy.signal.resample(ecg_train[i]['ppg'][:,0] , int(samps_1)))\n",
        "   #resampled_ecg_2_train.append(scipy.signal.resample(ecg_train[i]['ppg'][:,1] , int(samps_2)))"
      ],
      "metadata": {
        "id": "HTus1ZAxvfeb"
      },
      "execution_count": 19,
      "outputs": []
    },
    {
      "cell_type": "code",
      "source": [
        "\n",
        "# Resample to 250 Hz validation ECG signals\n",
        "\n",
        "resampled_ecg_1_validation = []\n",
        "#resampled_ecg_2_validation = []\n",
        "for i in range(len(ecg_validation)):\n",
        "   secs_1 = len(ecg_validation[i]['ppg'][:,0])/ecg_freq(validation[i]) # Number of seconds in signal X\n",
        "   #secs_2 = len(ecgs_validation[i]['ecg'][:,1])/ecg_freq(filenames_validation[i]) # Number of seconds in signal X\n",
        "   samps_1 = secs_1*250     # Number of samples to downsample\n",
        "   #samps_2 = secs_2*250\n",
        "   resampled_ecg_1_validation.append(scipy.signal.resample(ecg_validation[i]['ppg'][:,0] , int(samps_1)))\n",
        "   #resampled_ecg_2_validation.append(scipy.signal.resample(ecgs_validation[i]['ecg'][:,1] , int(samps_2)))"
      ],
      "metadata": {
        "id": "EQZk69I-0f1j"
      },
      "execution_count": 20,
      "outputs": []
    },
    {
      "cell_type": "code",
      "source": [
        "# look the effect of signal resampling\n",
        "beat = 50\n",
        "plt.plot(ecg_train[beat]['ppg'][:,0])\n",
        "plt.plot(resampled_ecg_1_train[beat])\n",
        "plt.legend(['original 128Hz', 'resampled 250Hz'])\n",
        "plt.xlim(0, 1000)\n",
        "plt.ylim(-5,5)\n",
        "\n",
        "ecg_freq(train[beat])"
      ],
      "metadata": {
        "colab": {
          "base_uri": "https://localhost:8080/",
          "height": 447
        },
        "id": "GZJ9LagYyMBw",
        "outputId": "c32a7469-0dcf-436b-e697-d84a58248b50"
      },
      "execution_count": 21,
      "outputs": [
        {
          "output_type": "execute_result",
          "data": {
            "text/plain": [
              "128"
            ]
          },
          "metadata": {},
          "execution_count": 21
        },
        {
          "output_type": "display_data",
          "data": {
            "text/plain": [
              "<Figure size 640x480 with 1 Axes>"
            ],
            "image/png": "[encoded data removed]"
          },
          "metadata": {}
        }
      ]
    },
    {
      "cell_type": "code",
      "source": [
        "# Use firwin with a Kaiser window to create a lowpass FIR filter.\n",
        "taps = scipy.signal.firwin(12, 100/125, fs = 250)\n"
      ],
      "metadata": {
        "id": "wUCEEpAdzRmi"
      },
      "execution_count": 22,
      "outputs": []
    },
    {
      "cell_type": "code",
      "source": [
        "len(resampled_ecg_1_train)"
      ],
      "metadata": {
        "colab": {
          "base_uri": "https://localhost:8080/"
        },
        "id": "SsPfEeOitcJz",
        "outputId": "118074a2-4cca-443a-c4ff-f9eced851c96"
      },
      "execution_count": 23,
      "outputs": [
        {
          "output_type": "execute_result",
          "data": {
            "text/plain": [
              "84"
            ]
          },
          "metadata": {},
          "execution_count": 23
        }
      ]
    },
    {
      "cell_type": "code",
      "source": [
        "len(resampled_ecg_1_validation)"
      ],
      "metadata": {
        "colab": {
          "base_uri": "https://localhost:8080/"
        },
        "id": "UR46Jy6Gtz9z",
        "outputId": "63a002ac-9d9d-4db8-95ef-2dc84d40efdc"
      },
      "execution_count": 24,
      "outputs": [
        {
          "output_type": "execute_result",
          "data": {
            "text/plain": [
              "21"
            ]
          },
          "metadata": {},
          "execution_count": 24
        }
      ]
    },
    {
      "cell_type": "code",
      "source": [
        "mf600 = int(250 * 0.6) - 1\n",
        "mf200 = int(250 * 0.2) - 1\n",
        "for i in range(len(resampled_ecg_1_train)):\n",
        "  resampled_ecg_1_train[i] = scipy.signal.lfilter(taps, 1.0, resampled_ecg_1_train[i] - scipy.signal.medfilt(scipy.signal.medfilt(resampled_ecg_1_train[i], mf200), mf600))\n",
        "  #resampled_ecg_2_train[i] = scipy.signal.lfilter(taps, 1.0, resampled_ecg_2_train[i] - scipy.signal.medfilt(scipy.signal.medfilt(resampled_ecg_2_train[i], mf200), mf600))\n",
        "\n",
        "\n",
        "for i in range(len(resampled_ecg_1_validation)):\n",
        "  resampled_ecg_1_validation[i] = scipy.signal.lfilter(taps, 1.0, resampled_ecg_1_validation[i] - scipy.signal.medfilt(scipy.signal.medfilt(resampled_ecg_1_validation[i], mf200), mf600))\n",
        "  #resampled_ecg_2_validation[i] = scipy.signal.lfilter(taps, 1.0, resampled_ecg_2_validation[i] - scipy.signal.medfilt(scipy.signal.medfilt(resampled_ecg_2_validation[i], mf200), mf600))\n"
      ],
      "metadata": {
        "id": "iBI7YqcAzTJD"
      },
      "execution_count": 25,
      "outputs": []
    },
    {
      "cell_type": "code",
      "source": [
        "# plot the effect of the denoising procedure showing a piece of ECG before and after the applications of filters\n",
        "\n",
        "x = 50\n",
        "plt.figure(figsize=(20, 5))\n",
        "plt.plot(ecg_train[x]['ppg'][:,0])\n",
        "plt.xlim(3500, 4000)\n",
        "plt.ylim(-10,10)\n",
        "plt.figure(figsize=(20, 5))\n",
        "plt.plot(resampled_ecg_1_train[x])\n",
        "plt.xlim(3500, 4000)\n",
        "plt.ylim(-10,10)\n",
        "ecg_freq(train[x])\n"
      ],
      "metadata": {
        "colab": {
          "base_uri": "https://localhost:8080/",
          "height": 692
        },
        "id": "ICDrQiPBz2Fq",
        "outputId": "2e1eff1c-9c27-4d05-9825-9209fcfb4c06"
      },
      "execution_count": 26,
      "outputs": [
        {
          "output_type": "execute_result",
          "data": {
            "text/plain": [
              "128"
            ]
          },
          "metadata": {},
          "execution_count": 26
        },
        {
          "output_type": "display_data",
          "data": {
            "text/plain": [
              "<Figure size 2000x500 with 1 Axes>"
            ],
            "image/png": "[encoded data removed]"
          },
          "metadata": {}
        },
        {
          "output_type": "display_data",
          "data": {
            "text/plain": [
              "<Figure size 2000x500 with 1 Axes>"
            ],
            "image/png": "[encoded data removed]"
          },
          "metadata": {}
        }
      ]
    },
    {
      "cell_type": "code",
      "source": [
        "spk_train[0]['speaks']"
      ],
      "metadata": {
        "colab": {
          "base_uri": "https://localhost:8080/"
        },
        "id": "U1pxOK5yvko4",
        "outputId": "f6f40379-4d09-4db4-da72-b9f7ec6a6d3f"
      },
      "execution_count": 27,
      "outputs": [
        {
          "output_type": "execute_result",
          "data": {
            "text/plain": [
              "array([[   211],\n",
              "       [   430],\n",
              "       [   633],\n",
              "       ...,\n",
              "       [449512],\n",
              "       [449709],\n",
              "       [449911]], dtype=int32)"
            ]
          },
          "metadata": {},
          "execution_count": 27
        }
      ]
    },
    {
      "cell_type": "code",
      "source": [
        "def from_freq_to_freq(sample, ini_freq, freq = 250):\n",
        "   secs = sample/ini_freq # Number of seconds in signal X\n",
        "   samp = secs*freq       # Number of samples to downsample\n",
        "   return int(samp)"
      ],
      "metadata": {
        "id": "prMxzCdtuDw4"
      },
      "execution_count": 28,
      "outputs": []
    },
    {
      "cell_type": "code",
      "source": [
        "# This parameter is the number of samples considered to segment the ECG signal (the segment will be the samples of current R peak +/- win)\n",
        "\n",
        "win = 250"
      ],
      "metadata": {
        "id": "9PwaWshYwCMg"
      },
      "execution_count": 29,
      "outputs": []
    },
    {
      "cell_type": "code",
      "source": [
        "# Extract all the segments (single heartbeats) from the original raw signals\n",
        "\n",
        "heartbeats_train_1 = []\n",
        "#heartbeats_train_2 = []\n",
        "heartbeats_validation_1 = []\n",
        "#heartbeats_validation_2 = []\n",
        "\n",
        "for i in range(len(ecg_train)):\n",
        "  for j in range(len(spk_train[i]['speaks'])):\n",
        "   if(from_freq_to_freq(spk_train[i]['speaks'][j],ecg_freq(train[i])) < win or from_freq_to_freq(spk_train[i]['speaks'][j],ecg_freq(train[i]))  + win > from_freq_to_freq(spk_train[i]['speaks'][-1],ecg_freq(train[i])) or j < 40 or (len(spk_train[i]['speaks']) - (j+1) < 40)): #skipping beats that are too much close to the initial and to the end of the signal\n",
        "    ann_train[i]['labels'][j] = 'A'\n",
        "    spk_train[i]['speaks'][j] = 0\n",
        "   else:\n",
        "    heartbeats_train_1.append(resampled_ecg_1_train[i][from_freq_to_freq(spk_train[i]['speaks'][j],ecg_freq(train[i]))  - win : from_freq_to_freq(spk_train[i]['speaks'][j],ecg_freq(train[i]))  + win])\n",
        "    #heartbeats_train_2.append(resampled_ecg_2_train[i][from_freq_to_freq(rpks_train[i]['rpeaks'][j],ecg_freq(filenames_train[i]))  - win : from_freq_to_freq(rpks_train[i]['rpeaks'][j],ecg_freq(filenames_train[i]))  + win])\n",
        "\n",
        "for i in range(len(ecg_validation)):\n",
        "  for j in range(len(spk_validation[i]['speaks'])):\n",
        "   if(from_freq_to_freq(spk_validation[i]['speaks'][j],ecg_freq(validation[i])) < win or from_freq_to_freq(spk_validation[i]['speaks'][j],ecg_freq(validation[i])) + win > from_freq_to_freq(spk_validation[i]['speaks'][-1],ecg_freq(validation[i]))): #skipping beats that are too much close to the initial and to the end of the signal\n",
        "    ann_validation[i]['labels'][j] = 'A'\n",
        "    spk_validation[i]['speaks'][j] = 0\n",
        "   else:\n",
        "    heartbeats_validation_1.append(resampled_ecg_1_validation[i][from_freq_to_freq(spk_validation[i]['speaks'][j],ecg_freq(validation[i]))  - win : from_freq_to_freq(spk_validation[i]['speaks'][j],ecg_freq(validation[i]))  + win])\n",
        "    #heartbeats_validation_2.append(resampled_ecg_2_validation[i][from_freq_to_freq(rpks_validation[i]['rpeaks'][j],ecg_freq(filenames_validation[i]))  - win : from_freq_to_freq(rpks_validation[i]['rpeaks'][j],ecg_freq(filenames_validation[i]))  + win])\n"
      ],
      "metadata": {
        "colab": {
          "base_uri": "https://localhost:8080/"
        },
        "id": "VH67kTh5wINz",
        "outputId": "cbab128f-ead2-48ff-e0a8-4c8932c4d726"
      },
      "execution_count": 30,
      "outputs": [
        {
          "output_type": "stream",
          "name": "stderr",
          "text": [
            "<ipython-input-28-ead6d838464d>:4: DeprecationWarning: Conversion of an array with ndim > 0 to a scalar is deprecated, and will error in future. Ensure you extract a single element from your array before performing this operation. (Deprecated NumPy 1.25.)\n",
            "  return int(samp)\n"
          ]
        }
      ]
    },
    {
      "cell_type": "code",
      "source": [
        "len(spk_train[0]['speaks']), len(np.delete(spk_train[0]['speaks'], 0))"
      ],
      "metadata": {
        "colab": {
          "base_uri": "https://localhost:8080/"
        },
        "id": "8sIWCmY6x99l",
        "outputId": "11217acf-7e27-49ad-ce8d-5d59ac17539a"
      },
      "execution_count": 31,
      "outputs": [
        {
          "output_type": "execute_result",
          "data": {
            "text/plain": [
              "(1890, 1889)"
            ]
          },
          "metadata": {},
          "execution_count": 31
        }
      ]
    },
    {
      "cell_type": "code",
      "source": [
        "len(heartbeats_train_1), len(heartbeats_validation_1)"
      ],
      "metadata": {
        "colab": {
          "base_uri": "https://localhost:8080/"
        },
        "id": "0ERBL3V9yBrq",
        "outputId": "fde6fff0-3c76-4122-cfc3-0107b9461562"
      },
      "execution_count": 32,
      "outputs": [
        {
          "output_type": "execute_result",
          "data": {
            "text/plain": [
              "(191294, 48543)"
            ]
          },
          "metadata": {},
          "execution_count": 32
        }
      ]
    },
    {
      "cell_type": "code",
      "source": [
        "import matplotlib.pyplot as plt\n",
        "\n",
        "# plot an example of segment\n",
        "plt.plot(heartbeats_train_1[150])"
      ],
      "metadata": {
        "colab": {
          "base_uri": "https://localhost:8080/",
          "height": 447
        },
        "id": "_IYUacv_yOos",
        "outputId": "a4ed6915-4857-4ff0-e71b-33b59700b4f8"
      },
      "execution_count": 33,
      "outputs": [
        {
          "output_type": "execute_result",
          "data": {
            "text/plain": [
              "[<matplotlib.lines.Line2D at 0x7ed3c134fd60>]"
            ]
          },
          "metadata": {},
          "execution_count": 33
        },
        {
          "output_type": "display_data",
          "data": {
            "text/plain": [
              "<Figure size 640x480 with 1 Axes>"
            ],
            "image/png": "[encoded data removed]"
          },
          "metadata": {}
        }
      ]
    },
    {
      "cell_type": "code",
      "source": [
        "labels_train = []\n",
        "labels_validation = []\n",
        "\n",
        "for i in range(len(ecg_train)):\n",
        "  for j in range(len(ann_train[i]['labels'])):\n",
        "    if(ann_train[i]['labels'][j] != 'A'):\n",
        "     labels_train.append(ann_train[i]['labels'][j])\n",
        "\n",
        "for i in range(len(ecg_validation)):\n",
        "  for j in range(len(ann_validation[i]['labels'])):\n",
        "    if(ann_validation[i]['labels'][j] != 'A'):\n",
        "     labels_validation.append(ann_validation[i]['labels'][j])\n"
      ],
      "metadata": {
        "id": "3NDqbq30yRkr"
      },
      "execution_count": 34,
      "outputs": []
    },
    {
      "cell_type": "code",
      "source": [
        "classes_name = ['N', 'S', 'V']"
      ],
      "metadata": {
        "id": "fsTFT7lqyc5Y"
      },
      "execution_count": 35,
      "outputs": []
    },
    {
      "cell_type": "code",
      "source": [
        "len(labels_train), len(heartbeats_train_1)"
      ],
      "metadata": {
        "colab": {
          "base_uri": "https://localhost:8080/"
        },
        "id": "RCuW_z1kyhLi",
        "outputId": "a2dbbc0f-a737-41ba-c455-dac2aa779021"
      },
      "execution_count": 36,
      "outputs": [
        {
          "output_type": "execute_result",
          "data": {
            "text/plain": [
              "(191294, 191294)"
            ]
          },
          "metadata": {},
          "execution_count": 36
        }
      ]
    },
    {
      "cell_type": "code",
      "source": [
        "len(labels_validation), len(heartbeats_validation_1)"
      ],
      "metadata": {
        "colab": {
          "base_uri": "https://localhost:8080/"
        },
        "id": "gUEpwHYgyiOO",
        "outputId": "91285074-8e7b-4288-d357-769721a5f1be"
      },
      "execution_count": 37,
      "outputs": [
        {
          "output_type": "execute_result",
          "data": {
            "text/plain": [
              "(48543, 48543)"
            ]
          },
          "metadata": {},
          "execution_count": 37
        }
      ]
    },
    {
      "cell_type": "code",
      "source": [
        "from sklearn.preprocessing import OneHotEncoder, LabelEncoder\n",
        "\n",
        "label_encoder = LabelEncoder()\n",
        "integer_encoded = label_encoder.fit_transform(labels_train)\n",
        "\n",
        "#One hot encoding of the target values\n",
        "ohe = OneHotEncoder(sparse=False)\n",
        "integer_encoded = integer_encoded.reshape(len(integer_encoded), 1)\n",
        "target_ohe_train = ohe.fit_transform(integer_encoded)\n",
        "\n",
        "integer_encoded = label_encoder.fit_transform(labels_validation)\n",
        "\n",
        "#One hot encoding of the target values\n",
        "ohe = OneHotEncoder(sparse=False)\n",
        "integer_encoded = integer_encoded.reshape(len(integer_encoded), 1)\n",
        "target_ohe_validation = ohe.fit_transform(integer_encoded)\n"
      ],
      "metadata": {
        "colab": {
          "base_uri": "https://localhost:8080/"
        },
        "id": "9-G6F-fHymsK",
        "outputId": "620f6173-cbc3-41a3-ad73-e47c787f4a77"
      },
      "execution_count": 38,
      "outputs": [
        {
          "output_type": "stream",
          "name": "stderr",
          "text": [
            "/usr/local/lib/python3.10/dist-packages/sklearn/preprocessing/_encoders.py:868: FutureWarning: `sparse` was renamed to `sparse_output` in version 1.2 and will be removed in 1.4. `sparse_output` is ignored unless you leave `sparse` to its default value.\n",
            "  warnings.warn(\n",
            "/usr/local/lib/python3.10/dist-packages/sklearn/preprocessing/_encoders.py:868: FutureWarning: `sparse` was renamed to `sparse_output` in version 1.2 and will be removed in 1.4. `sparse_output` is ignored unless you leave `sparse` to its default value.\n",
            "  warnings.warn(\n"
          ]
        }
      ]
    },
    {
      "cell_type": "code",
      "source": [
        "label_encoder.inverse_transform([0,1,2])"
      ],
      "metadata": {
        "colab": {
          "base_uri": "https://localhost:8080/"
        },
        "id": "XpGrcPq_yrDZ",
        "outputId": "4a5a6033-4fca-43b8-dfa0-d59d15a18829"
      },
      "execution_count": 39,
      "outputs": [
        {
          "output_type": "execute_result",
          "data": {
            "text/plain": [
              "array(['N', 'S', 'V'], dtype='<U1')"
            ]
          },
          "metadata": {},
          "execution_count": 39
        }
      ]
    },
    {
      "cell_type": "code",
      "source": [
        "ohe.inverse_transform([[1, 0, 0], [0,1,0], [0,0,1]])"
      ],
      "metadata": {
        "colab": {
          "base_uri": "https://localhost:8080/"
        },
        "id": "Lj2sNBJOytsJ",
        "outputId": "c114d0bb-fa6c-42a1-a875-3eca3a3b04ca"
      },
      "execution_count": 40,
      "outputs": [
        {
          "output_type": "execute_result",
          "data": {
            "text/plain": [
              "array([[0],\n",
              "       [1],\n",
              "       [2]])"
            ]
          },
          "metadata": {},
          "execution_count": 40
        }
      ]
    },
    {
      "cell_type": "code",
      "source": [
        "y_train = target_ohe_train\n",
        "y_val = target_ohe_validation"
      ],
      "metadata": {
        "id": "FyVUjPbfywop"
      },
      "execution_count": 41,
      "outputs": []
    },
    {
      "cell_type": "code",
      "source": [
        "X_train_1 = tf.keras.preprocessing.sequence.pad_sequences(heartbeats_train_1, maxlen=win * 2, dtype='float32', truncating='post',padding=\"post\")\n",
        "#X_train_2 = tf.keras.preprocessing.sequence.pad_sequences(heartbeats_train_2, maxlen=win * 2, dtype='float32', truncating='post',padding=\"post\")\n",
        "X_val_1 = tf.keras.preprocessing.sequence.pad_sequences(heartbeats_validation_1, maxlen=win * 2, dtype='float32', truncating='post',padding=\"post\")\n",
        "#X_val_2 = tf.keras.preprocessing.sequence.pad_sequences(heartbeats_validation_2, maxlen=win * 2, dtype='float32', truncating='post',padding=\"post\")\n"
      ],
      "metadata": {
        "id": "VZrh2N7fyzPy"
      },
      "execution_count": 42,
      "outputs": []
    },
    {
      "cell_type": "code",
      "source": [
        "y_train.shape"
      ],
      "metadata": {
        "colab": {
          "base_uri": "https://localhost:8080/"
        },
        "id": "YdDVjQkRy6yE",
        "outputId": "0e3ed3bc-8edd-4937-e817-6c7c95ed853c"
      },
      "execution_count": 43,
      "outputs": [
        {
          "output_type": "execute_result",
          "data": {
            "text/plain": [
              "(191294, 3)"
            ]
          },
          "metadata": {},
          "execution_count": 43
        }
      ]
    },
    {
      "cell_type": "code",
      "source": [
        "X_train_1.shape"
      ],
      "metadata": {
        "colab": {
          "base_uri": "https://localhost:8080/"
        },
        "id": "Xftbks2ky-Eg",
        "outputId": "52a93197-481c-4668-8158-a570f39677e3"
      },
      "execution_count": 44,
      "outputs": [
        {
          "output_type": "execute_result",
          "data": {
            "text/plain": [
              "(191294, 500)"
            ]
          },
          "metadata": {},
          "execution_count": 44
        }
      ]
    },
    {
      "cell_type": "code",
      "source": [
        "X_train = []\n",
        "for i in range(len(X_train_1)):\n",
        "  X_train.append(X_train_1[i])\n",
        "\n",
        "X_train = np.asarray(X_train)"
      ],
      "metadata": {
        "id": "eoiWIt3NzCxg"
      },
      "execution_count": 45,
      "outputs": []
    },
    {
      "cell_type": "code",
      "source": [
        "\n",
        "X_val = []\n",
        "for i in range(len(X_val_1)):\n",
        "  X_val.append(X_val_1[i])\n",
        "\n",
        "X_val = np.asarray(X_val)"
      ],
      "metadata": {
        "id": "cNSMKYM-zKmx"
      },
      "execution_count": 46,
      "outputs": []
    },
    {
      "cell_type": "code",
      "source": [
        "plt.plot(X_train[900])\n",
        "\n",
        "X_train.shape\n"
      ],
      "metadata": {
        "colab": {
          "base_uri": "https://localhost:8080/",
          "height": 447
        },
        "id": "GveUSpo6zPgB",
        "outputId": "59bb6925-e723-475f-ec56-3ed006e8543c"
      },
      "execution_count": 47,
      "outputs": [
        {
          "output_type": "execute_result",
          "data": {
            "text/plain": [
              "(191294, 500)"
            ]
          },
          "metadata": {},
          "execution_count": 47
        },
        {
          "output_type": "display_data",
          "data": {
            "text/plain": [
              "<Figure size 640x480 with 1 Axes>"
            ],
            "image/png": "[encoded data removed]"
          },
          "metadata": {}
        }
      ]
    },
    {
      "cell_type": "code",
      "source": [
        "X_train = np.asarray(X_train_1)\n",
        "X_val = np.asarray(X_val_1)\n"
      ],
      "metadata": {
        "id": "muaH-dZxzYQS"
      },
      "execution_count": 48,
      "outputs": []
    },
    {
      "cell_type": "code",
      "source": [
        "# Normalize data (used for resnet, not for vgg)\n",
        "mean = np.mean(X_train, axis=1).mean(axis=0)\n",
        "std = np.std(X_train, axis=1).mean(axis=0)\n",
        "\n",
        "X_train = (X_train - mean)/std\n",
        "X_val = (X_val - mean)/std\n",
        "\n",
        "mean, std"
      ],
      "metadata": {
        "colab": {
          "base_uri": "https://localhost:8080/"
        },
        "id": "HSxX09ytz2RT",
        "outputId": "e76c1ba3-4f09-491f-fc7f-78f50fea60e3"
      },
      "execution_count": 49,
      "outputs": [
        {
          "output_type": "execute_result",
          "data": {
            "text/plain": [
              "(0.05635994, 2.5021503)"
            ]
          },
          "metadata": {},
          "execution_count": 49
        }
      ]
    },
    {
      "cell_type": "code",
      "source": [
        "len(X_train), len(X_train > 3)"
      ],
      "metadata": {
        "colab": {
          "base_uri": "https://localhost:8080/"
        },
        "id": "r_gM7LgEz5px",
        "outputId": "7dff1dd2-5fb4-44aa-a5f9-7ba32073da2b"
      },
      "execution_count": 50,
      "outputs": [
        {
          "output_type": "execute_result",
          "data": {
            "text/plain": [
              "(191294, 191294)"
            ]
          },
          "metadata": {},
          "execution_count": 50
        }
      ]
    },
    {
      "cell_type": "code",
      "source": [
        "import matplotlib.pyplot as plt\n",
        "\n",
        "beat = 10000\n",
        "plt.plot(X_train[beat])\n",
        "labels_train[beat]\n"
      ],
      "metadata": {
        "colab": {
          "base_uri": "https://localhost:8080/",
          "height": 448
        },
        "id": "0uVF_ZxJz7R0",
        "outputId": "80eda9dc-c96d-44eb-c58c-85efe61badc5"
      },
      "execution_count": 51,
      "outputs": [
        {
          "output_type": "execute_result",
          "data": {
            "text/plain": [
              "'N'"
            ],
            "application/vnd.google.colaboratory.intrinsic+json": {
              "type": "string"
            }
          },
          "metadata": {},
          "execution_count": 51
        },
        {
          "output_type": "display_data",
          "data": {
            "text/plain": [
              "<Figure size 640x480 with 1 Axes>"
            ],
            "image/png": "[encoded data removed]"
          },
          "metadata": {}
        }
      ]
    },
    {
      "cell_type": "code",
      "source": [
        "y_l = y_train.tolist()\n",
        "len([i for i in y_l if i == [1,0,0]]), len([i for i in y_l if i == [0,1,0]]), len([i for i in y_l if i == [0,0,1]])"
      ],
      "metadata": {
        "colab": {
          "base_uri": "https://localhost:8080/"
        },
        "id": "woNxbcro0Cnw",
        "outputId": "19593c4b-9df6-4181-c70a-8749c61933ec"
      },
      "execution_count": 52,
      "outputs": [
        {
          "output_type": "execute_result",
          "data": {
            "text/plain": [
              "(178168, 7402, 5724)"
            ]
          },
          "metadata": {},
          "execution_count": 52
        }
      ]
    },
    {
      "cell_type": "code",
      "source": [
        "import sklearn\n",
        "X_train, y_train = sklearn.utils.shuffle(X_train, y_train)\n",
        ""
      ],
      "metadata": {
        "id": "pzYMsnhARQSY"
      },
      "execution_count": 53,
      "outputs": []
    },
    {
      "cell_type": "code",
      "source": [
        "# Considering class imbalance: class weightning to reduce the bias in the dataset\n",
        "\n",
        "from sklearn.utils.class_weight import compute_class_weight\n",
        "\n",
        "y_integers = np.argmax(y_train, axis=1)\n",
        "\n",
        "class_weights = compute_class_weight(\n",
        "                                      class_weight = \"balanced\",\n",
        "                                      classes = np.unique(y_integers),\n",
        "                                      y = y_integers\n",
        "                                    )\n",
        "\n",
        "class_weights = dict(zip(np.unique(y_integers), class_weights))\n",
        "class_weights\n",
        ""
      ],
      "metadata": {
        "colab": {
          "base_uri": "https://localhost:8080/"
        },
        "id": "nDBUjpkkSIq_",
        "outputId": "7fd42693-3bca-4b95-fd99-b9820e10d05e"
      },
      "execution_count": 54,
      "outputs": [
        {
          "output_type": "execute_result",
          "data": {
            "text/plain": [
              "{0: 0.3578906799574933, 1: 8.61451859857696, 2: 11.139878872583274}"
            ]
          },
          "metadata": {},
          "execution_count": 54
        }
      ]
    },
    {
      "cell_type": "code",
      "source": [
        "X_train.shape, y_train.shape"
      ],
      "metadata": {
        "colab": {
          "base_uri": "https://localhost:8080/"
        },
        "id": "i_v9ToqUSKuH",
        "outputId": "7c246d08-7bbb-46ee-ac9f-18167952eee1"
      },
      "execution_count": 55,
      "outputs": [
        {
          "output_type": "execute_result",
          "data": {
            "text/plain": [
              "((191294, 500), (191294, 3))"
            ]
          },
          "metadata": {},
          "execution_count": 55
        }
      ]
    },
    {
      "cell_type": "code",
      "source": [
        "#class weights for validation set\n",
        "from sklearn.utils.class_weight import compute_class_weight\n",
        "\n",
        "y_integers = np.argmax(y_val, axis=1)\n",
        "\n",
        "class_weights_val = compute_class_weight(\n",
        "                                      class_weight = \"balanced\",\n",
        "                                      classes = np.unique(y_integers),\n",
        "                                      y = y_integers\n",
        "                                    )"
      ],
      "metadata": {
        "id": "9rHEmOuGSW9J"
      },
      "execution_count": 56,
      "outputs": []
    },
    {
      "cell_type": "code",
      "source": [
        "class_weights_val"
      ],
      "metadata": {
        "colab": {
          "base_uri": "https://localhost:8080/"
        },
        "id": "qoE0_SDnSX43",
        "outputId": "c333c15d-dbf8-491e-e8cb-4053581ef5c6"
      },
      "execution_count": 57,
      "outputs": [
        {
          "output_type": "execute_result",
          "data": {
            "text/plain": [
              "array([0.36476555, 7.6759962 , 7.79807229])"
            ]
          },
          "metadata": {},
          "execution_count": 57
        }
      ]
    },
    {
      "cell_type": "code",
      "source": [
        "decode = dict(N =  0, S = 1, V  = 2)"
      ],
      "metadata": {
        "id": "6CW6aF6ESddU"
      },
      "execution_count": 58,
      "outputs": []
    },
    {
      "cell_type": "code",
      "source": [
        "samples_class_weights = []\n",
        "for y in y_val:\n",
        "  samples_class_weights.append(class_weights_val[ohe.inverse_transform([y])[0][0]])"
      ],
      "metadata": {
        "id": "v9aqX5BpSrYR"
      },
      "execution_count": 59,
      "outputs": []
    },
    {
      "cell_type": "code",
      "source": [
        "# Here we load validation data, training data can be loaded with the batch generator below\n",
        "\n",
        "train_data = tf.data.Dataset.from_tensor_slices((X_train, y_train))\n",
        "validation_data = tf.data.Dataset.from_tensor_slices((X_val, y_val, samples_class_weights))\n",
        ""
      ],
      "metadata": {
        "id": "6zLXhnQlSt3X"
      },
      "execution_count": 73,
      "outputs": []
    },
    {
      "cell_type": "code",
      "source": [
        "import seaborn as sns\n",
        "from sklearn.metrics import ConfusionMatrixDisplay, classification_report\n",
        "from sklearn.metrics import confusion_matrix\n",
        "\n",
        "#utility to plot confusion matrix and evaluation metrics\n",
        "def evaluate_on_valid(model, batch_size, valid_to_use):\n",
        "  #Computing the prediction of the model on the validation set\n",
        "  predictions = []\n",
        "  for element in valid_to_use.batch(batch_size).as_numpy_iterator():\n",
        "      predictions.append(model.predict(element[0]))\n",
        "\n",
        "  predictions_f = [item for sublist in predictions for item in sublist]\n",
        "\n",
        "  predictions_oh = []\n",
        "  #transform prediction into one-hot-encoding\n",
        "  for i in range(len(predictions_f)):\n",
        "      predictions_oh.append(tf.one_hot(tf.argmax(predictions_f[i]), depth=3))\n",
        "\n",
        "  #Compute the true and prediction array in order to plot the confusion matrix\n",
        "  y = []\n",
        "\n",
        "  for y_t in y_val.tolist():\n",
        "      if(y_t == [1, 0, 0]):\n",
        "          y.append('N')\n",
        "      if(y_t == [0, 1 ,0]):\n",
        "          y.append('S')\n",
        "      if(y_t == [0, 0 ,1]):\n",
        "          y.append('V')\n",
        "\n",
        "  y_pred = []\n",
        "\n",
        "  for y_t in predictions_oh:\n",
        "      if(all(tf.equal(y_t, tf.constant([1, 0, 0], dtype=np.float32)))):\n",
        "          y_pred.append('N')\n",
        "      elif(all(tf.equal(y_t, tf.constant([0, 1, 0], dtype=np.float32)))):\n",
        "          y_pred.append('S')\n",
        "      elif(all(tf.equal(y_t, tf.constant([0, 0, 1], dtype=np.float32)))):\n",
        "          y_pred.append('V')\n",
        "      else:\n",
        "          print(y_t)\n",
        "\n",
        "  # Plot confusion matrix and metrics\n",
        "  ConfusionMatrixDisplay.from_predictions(y, y_pred, labels = ['N', 'S', 'V'])\n",
        "  ConfusionMatrixDisplay.from_predictions(y, y_pred, normalize='true', labels = ['N', 'S', 'V'])\n",
        "\n",
        "  print(classification_report(y,y_pred))"
      ],
      "metadata": {
        "id": "RooeTXhFSxTw"
      },
      "execution_count": 80,
      "outputs": []
    },
    {
      "cell_type": "code",
      "source": [
        "import tensorflow as tf\n",
        "\n",
        "# Assuming win is defined somewhere earlier in your code\n",
        "win = 250\n",
        "\n",
        "# Define the seed for reproducibility\n",
        "SEED = 42\n",
        "\n",
        "vgg = tf.keras.Sequential()\n",
        "\n",
        "vgg.add(tf.keras.layers.Conv1D(input_shape=(500, 1), filters=32, kernel_size=3, padding=\"same\", activation=\"relu\", kernel_initializer=tf.keras.initializers.GlorotUniform(SEED)))\n",
        "vgg.add(tf.keras.layers.Conv1D(filters=32, kernel_size=3, padding=\"same\", activation=\"relu\", kernel_initializer=tf.keras.initializers.GlorotUniform(SEED)))\n",
        "vgg.add(tf.keras.layers.MaxPooling1D(pool_size=2, strides=2))\n",
        "vgg.add(tf.keras.layers.Conv1D(filters=64, kernel_size=3, padding=\"same\", activation=\"relu\", kernel_initializer=tf.keras.initializers.GlorotUniform(SEED)))\n",
        "vgg.add(tf.keras.layers.Conv1D(filters=64, kernel_size=3, padding=\"same\", activation=\"relu\", kernel_initializer=tf.keras.initializers.GlorotUniform(SEED)))\n",
        "vgg.add(tf.keras.layers.MaxPooling1D(pool_size=2, strides=2))\n",
        "vgg.add(tf.keras.layers.Conv1D(filters=128, kernel_size=3, padding=\"same\", activation=\"relu\", kernel_initializer=tf.keras.initializers.GlorotUniform(SEED)))\n",
        "vgg.add(tf.keras.layers.Conv1D(filters=128, kernel_size=3, padding=\"same\", activation=\"relu\", kernel_initializer=tf.keras.initializers.GlorotUniform(SEED)))\n",
        "vgg.add(tf.keras.layers.Conv1D(filters=128, kernel_size=3, padding=\"same\", activation=\"relu\", kernel_initializer=tf.keras.initializers.GlorotUniform(SEED)))\n",
        "vgg.add(tf.keras.layers.MaxPooling1D(pool_size=2, strides=2))\n",
        "vgg.add(tf.keras.layers.Conv1D(filters=256, kernel_size=3, padding=\"same\", activation=\"relu\", kernel_initializer=tf.keras.initializers.GlorotUniform(SEED)))\n",
        "vgg.add(tf.keras.layers.Conv1D(filters=256, kernel_size=3, padding=\"same\", activation=\"relu\", kernel_initializer=tf.keras.initializers.GlorotUniform(SEED)))\n",
        "vgg.add(tf.keras.layers.Conv1D(filters=256, kernel_size=3, padding=\"same\", activation=\"relu\", kernel_initializer=tf.keras.initializers.GlorotUniform(SEED)))\n",
        "vgg.add(tf.keras.layers.MaxPooling1D(pool_size=2, strides=2))\n",
        "vgg.add(tf.keras.layers.Conv1D(filters=256, kernel_size=3, padding=\"same\", activation=\"relu\", kernel_initializer=tf.keras.initializers.GlorotUniform(SEED)))\n",
        "vgg.add(tf.keras.layers.Conv1D(filters=256, kernel_size=3, padding=\"same\", activation=\"relu\", kernel_initializer=tf.keras.initializers.GlorotUniform(SEED)))\n",
        "vgg.add(tf.keras.layers.Conv1D(filters=256, kernel_size=3, padding=\"same\", activation=\"relu\", kernel_initializer=tf.keras.initializers.GlorotUniform(SEED)))\n",
        "vgg.add(tf.keras.layers.MaxPooling1D(pool_size=2, strides=2))\n",
        "vgg.add(tf.keras.layers.Flatten())\n",
        "vgg.add(tf.keras.layers.Dense(128, activation='relu', kernel_initializer=tf.keras.initializers.GlorotUniform(SEED)))\n",
        "vgg.add(tf.keras.layers.Dropout(0.3, seed=SEED))\n",
        "vgg.add(tf.keras.layers.Dense(3, activation='softmax'))\n",
        "\n",
        "vgg.compile(\n",
        "    optimizer=tf.keras.optimizers.Adam(learning_rate=1e-6),\n",
        "    loss='categorical_crossentropy',\n",
        "    metrics=['accuracy',\n",
        "             tf.keras.metrics.Precision(class_id=0),\n",
        "             tf.keras.metrics.Recall(class_id=0),\n",
        "             tf.keras.metrics.Precision(class_id=1),\n",
        "             tf.keras.metrics.Recall(class_id=1),\n",
        "             tf.keras.metrics.Precision(class_id=2),\n",
        "             tf.keras.metrics.Recall(class_id=2)]\n",
        ")"
      ],
      "metadata": {
        "id": "wgq5atdjSzyu"
      },
      "execution_count": 75,
      "outputs": []
    },
    {
      "cell_type": "code",
      "source": [
        "vgg.summary()"
      ],
      "metadata": {
        "colab": {
          "base_uri": "https://localhost:8080/"
        },
        "id": "x5kTxsC9S1g_",
        "outputId": "ecbd11a3-1362-41fb-b4af-66740d174bcb"
      },
      "execution_count": 84,
      "outputs": [
        {
          "output_type": "stream",
          "name": "stdout",
          "text": [
            "Model: \"sequential_1\"\n",
            "_________________________________________________________________\n",
            " Layer (type)                Output Shape              Param #   \n",
            "=================================================================\n",
            " conv1d_13 (Conv1D)          (None, 500, 32)           128       \n",
            "                                                                 \n",
            " conv1d_14 (Conv1D)          (None, 500, 32)           3104      \n",
            "                                                                 \n",
            " max_pooling1d_5 (MaxPoolin  (None, 250, 32)           0         \n",
            " g1D)                                                            \n",
            "                                                                 \n",
            " conv1d_15 (Conv1D)          (None, 250, 64)           6208      \n",
            "                                                                 \n",
            " conv1d_16 (Conv1D)          (None, 250, 64)           12352     \n",
            "                                                                 \n",
            " max_pooling1d_6 (MaxPoolin  (None, 125, 64)           0         \n",
            " g1D)                                                            \n",
            "                                                                 \n",
            " conv1d_17 (Conv1D)          (None, 125, 128)          24704     \n",
            "                                                                 \n",
            " conv1d_18 (Conv1D)          (None, 125, 128)          49280     \n",
            "                                                                 \n",
            " conv1d_19 (Conv1D)          (None, 125, 128)          49280     \n",
            "                                                                 \n",
            " max_pooling1d_7 (MaxPoolin  (None, 62, 128)           0         \n",
            " g1D)                                                            \n",
            "                                                                 \n",
            " conv1d_20 (Conv1D)          (None, 62, 256)           98560     \n",
            "                                                                 \n",
            " conv1d_21 (Conv1D)          (None, 62, 256)           196864    \n",
            "                                                                 \n",
            " conv1d_22 (Conv1D)          (None, 62, 256)           196864    \n",
            "                                                                 \n",
            " max_pooling1d_8 (MaxPoolin  (None, 31, 256)           0         \n",
            " g1D)                                                            \n",
            "                                                                 \n",
            " conv1d_23 (Conv1D)          (None, 31, 256)           196864    \n",
            "                                                                 \n",
            " conv1d_24 (Conv1D)          (None, 31, 256)           196864    \n",
            "                                                                 \n",
            " conv1d_25 (Conv1D)          (None, 31, 256)           196864    \n",
            "                                                                 \n",
            " max_pooling1d_9 (MaxPoolin  (None, 15, 256)           0         \n",
            " g1D)                                                            \n",
            "                                                                 \n",
            " flatten_1 (Flatten)         (None, 3840)              0         \n",
            "                                                                 \n",
            " dense_2 (Dense)             (None, 128)               491648    \n",
            "                                                                 \n",
            " dropout_1 (Dropout)         (None, 128)               0         \n",
            "                                                                 \n",
            " dense_3 (Dense)             (None, 3)                 387       \n",
            "                                                                 \n",
            "=================================================================\n",
            "Total params: 1719971 (6.56 MB)\n",
            "Trainable params: 1719971 (6.56 MB)\n",
            "Non-trainable params: 0 (0.00 Byte)\n",
            "_________________________________________________________________\n"
          ]
        }
      ]
    },
    {
      "cell_type": "code",
      "source": [
        "history = vgg.fit(train_data.batch(32),\n",
        "    validation_data=validation_data.batch(32),\n",
        "    shuffle= True,\n",
        "    epochs = 10,\n",
        "    callbacks = tf.keras.callbacks.EarlyStopping(monitor='val_loss', mode='min', patience=5, restore_best_weights=True),\n",
        ").history #10 epoche"
      ],
      "metadata": {
        "colab": {
          "base_uri": "https://localhost:8080/"
        },
        "id": "_URM0cd8S3zT",
        "outputId": "4c4b34a0-9cf0-43da-8734-e985e0aa4ac0"
      },
      "execution_count": 76,
      "outputs": [
        {
          "output_type": "stream",
          "name": "stdout",
          "text": [
            "Epoch 1/10\n",
            "5974/5978 [============================>.] - ETA: 0s - loss: 0.4326 - accuracy: 0.9299 - precision_3: 0.9315 - recall_3: 0.8886 - precision_4: 0.0000e+00 - recall_4: 0.0000e+00 - precision_5: 0.0000e+00 - recall_5: 0.0000e+00"
          ]
        },
        {
          "output_type": "stream",
          "name": "stderr",
          "text": [
            "WARNING:tensorflow:`evaluate()` received a value for `sample_weight`, but `weighted_metrics` were not provided.  Did you mean to pass metrics to `weighted_metrics` in `compile()`?  If this is intentional you can pass `weighted_metrics=[]` to `compile()` in order to silence this warning.\n"
          ]
        },
        {
          "output_type": "stream",
          "name": "stdout",
          "text": [
            "\b\b\b\b\b\b\b\b\b\b\b\b\b\b\b\b\b\b\b\b\b\b\b\b\b\b\b\b\b\b\b\b\b\b\b\b\b\b\b\b\b\b\b\b\b\b\b\b\b\b\b\b\b\b\b\b\b\b\b\b\b\b\b\b\b\b\b\b\b\b\b\b\b\b\b\b\b\b\b\b\b\b\b\b\b\b\b\b\b\b\b\b\b\b\b\b\b\b\b\b\b\b\b\b\b\b\b\b\b\b\b\b\b\b\b\b\b\b\b\b\b\b\b\b\b\b\b\b\b\b\b\b\b\b\b\b\b\b\b\b\b\b\b\b\b\b\b\b\b\b\b\b\b\b\b\b\b\b\b\b\b\b\b\b\b\b\b\b\b\b\b\b\b\b\b\b\b\b\b\b\b\b\b\b\b\b\b\b\b\b\b\b\b\b\b\b\b\b\b\b\b\b\b\b\b\b\b\b\b\b\b\b\b\b\b\b\b\b\b\b\b\b\b\b\b\r5978/5978 [==============================] - 82s 13ms/step - loss: 0.4325 - accuracy: 0.9299 - precision_3: 0.9315 - recall_3: 0.8887 - precision_4: 0.0000e+00 - recall_4: 0.0000e+00 - precision_5: 0.0000e+00 - recall_5: 0.0000e+00 - val_loss: 2.3128 - val_accuracy: 0.9138 - val_precision_3: 0.9138 - val_recall_3: 1.0000 - val_precision_4: 0.0000e+00 - val_recall_4: 0.0000e+00 - val_precision_5: 0.0000e+00 - val_recall_5: 0.0000e+00\n",
            "Epoch 2/10\n",
            "5976/5978 [============================>.] - ETA: 0s - loss: 0.3009 - accuracy: 0.9314 - precision_3: 0.9314 - recall_3: 1.0000 - precision_4: 0.0000e+00 - recall_4: 0.0000e+00 - precision_5: 0.0000e+00 - recall_5: 0.0000e+00"
          ]
        },
        {
          "output_type": "stream",
          "name": "stderr",
          "text": [
            "WARNING:tensorflow:`evaluate()` received a value for `sample_weight`, but `weighted_metrics` were not provided.  Did you mean to pass metrics to `weighted_metrics` in `compile()`?  If this is intentional you can pass `weighted_metrics=[]` to `compile()` in order to silence this warning.\n"
          ]
        },
        {
          "output_type": "stream",
          "name": "stdout",
          "text": [
            "\b\b\b\b\b\b\b\b\b\b\b\b\b\b\b\b\b\b\b\b\b\b\b\b\b\b\b\b\b\b\b\b\b\b\b\b\b\b\b\b\b\b\b\b\b\b\b\b\b\b\b\b\b\b\b\b\b\b\b\b\b\b\b\b\b\b\b\b\b\b\b\b\b\b\b\b\b\b\b\b\b\b\b\b\b\b\b\b\b\b\b\b\b\b\b\b\b\b\b\b\b\b\b\b\b\b\b\b\b\b\b\b\b\b\b\b\b\b\b\b\b\b\b\b\b\b\b\b\b\b\b\b\b\b\b\b\b\b\b\b\b\b\b\b\b\b\b\b\b\b\b\b\b\b\b\b\b\b\b\b\b\b\b\b\b\b\b\b\b\b\b\b\b\b\b\b\b\b\b\b\b\b\b\b\b\b\b\b\b\b\b\b\b\b\b\b\b\b\b\b\b\b\b\b\b\b\b\b\b\b\b\b\b\b\b\b\b\b\b\b\b\b\b\b\b\r5978/5978 [==============================] - 77s 13ms/step - loss: 0.3009 - accuracy: 0.9314 - precision_3: 0.9314 - recall_3: 1.0000 - precision_4: 0.0000e+00 - recall_4: 0.0000e+00 - precision_5: 0.0000e+00 - recall_5: 0.0000e+00 - val_loss: 2.2487 - val_accuracy: 0.9138 - val_precision_3: 0.9138 - val_recall_3: 1.0000 - val_precision_4: 0.0000e+00 - val_recall_4: 0.0000e+00 - val_precision_5: 0.0000e+00 - val_recall_5: 0.0000e+00\n",
            "Epoch 3/10\n",
            "5977/5978 [============================>.] - ETA: 0s - loss: 0.2955 - accuracy: 0.9314 - precision_3: 0.9314 - recall_3: 1.0000 - precision_4: 0.0000e+00 - recall_4: 0.0000e+00 - precision_5: 0.0000e+00 - recall_5: 0.0000e+00"
          ]
        },
        {
          "output_type": "stream",
          "name": "stderr",
          "text": [
            "WARNING:tensorflow:`evaluate()` received a value for `sample_weight`, but `weighted_metrics` were not provided.  Did you mean to pass metrics to `weighted_metrics` in `compile()`?  If this is intentional you can pass `weighted_metrics=[]` to `compile()` in order to silence this warning.\n"
          ]
        },
        {
          "output_type": "stream",
          "name": "stdout",
          "text": [
            "\b\b\b\b\b\b\b\b\b\b\b\b\b\b\b\b\b\b\b\b\b\b\b\b\b\b\b\b\b\b\b\b\b\b\b\b\b\b\b\b\b\b\b\b\b\b\b\b\b\b\b\b\b\b\b\b\b\b\b\b\b\b\b\b\b\b\b\b\b\b\b\b\b\b\b\b\b\b\b\b\b\b\b\b\b\b\b\b\b\b\b\b\b\b\b\b\b\b\b\b\b\b\b\b\b\b\b\b\b\b\b\b\b\b\b\b\b\b\b\b\b\b\b\b\b\b\b\b\b\b\b\b\b\b\b\b\b\b\b\b\b\b\b\b\b\b\b\b\b\b\b\b\b\b\b\b\b\b\b\b\b\b\b\b\b\b\b\b\b\b\b\b\b\b\b\b\b\b\b\b\b\b\b\b\b\b\b\b\b\b\b\b\b\b\b\b\b\b\b\b\b\b\b\b\b\b\b\b\b\b\b\b\b\b\b\b\b\b\b\b\b\b\b\b\b\r5978/5978 [==============================] - 76s 13ms/step - loss: 0.2955 - accuracy: 0.9314 - precision_3: 0.9314 - recall_3: 1.0000 - precision_4: 0.0000e+00 - recall_4: 0.0000e+00 - precision_5: 0.0000e+00 - recall_5: 0.0000e+00 - val_loss: 2.2037 - val_accuracy: 0.9138 - val_precision_3: 0.9138 - val_recall_3: 1.0000 - val_precision_4: 0.0000e+00 - val_recall_4: 0.0000e+00 - val_precision_5: 0.0000e+00 - val_recall_5: 0.0000e+00\n",
            "Epoch 4/10\n",
            "5978/5978 [==============================] - ETA: 0s - loss: 0.2888 - accuracy: 0.9314 - precision_3: 0.9314 - recall_3: 1.0000 - precision_4: 0.0000e+00 - recall_4: 0.0000e+00 - precision_5: 0.0000e+00 - recall_5: 0.0000e+00"
          ]
        },
        {
          "output_type": "stream",
          "name": "stderr",
          "text": [
            "WARNING:tensorflow:`evaluate()` received a value for `sample_weight`, but `weighted_metrics` were not provided.  Did you mean to pass metrics to `weighted_metrics` in `compile()`?  If this is intentional you can pass `weighted_metrics=[]` to `compile()` in order to silence this warning.\n"
          ]
        },
        {
          "output_type": "stream",
          "name": "stdout",
          "text": [
            "\b\b\b\b\b\b\b\b\b\b\b\b\b\b\b\b\b\b\b\b\b\b\b\b\b\b\b\b\b\b\b\b\b\b\b\b\b\b\b\b\b\b\b\b\b\b\b\b\b\b\b\b\b\b\b\b\b\b\b\b\b\b\b\b\b\b\b\b\b\b\b\b\b\b\b\b\b\b\b\b\b\b\b\b\b\b\b\b\b\b\b\b\b\b\b\b\b\b\b\b\b\b\b\b\b\b\b\b\b\b\b\b\b\b\b\b\b\b\b\b\b\b\b\b\b\b\b\b\b\b\b\b\b\b\b\b\b\b\b\b\b\b\b\b\b\b\b\b\b\b\b\b\b\b\b\b\b\b\b\b\b\b\b\b\b\b\b\b\b\b\b\b\b\b\b\b\b\b\b\b\b\b\b\b\b\b\b\b\b\b\b\b\b\b\b\b\b\b\b\b\b\b\b\b\b\b\b\b\b\b\b\b\b\b\b\b\b\b\b\b\b\b\b\b\b\r5978/5978 [==============================] - 78s 13ms/step - loss: 0.2888 - accuracy: 0.9314 - precision_3: 0.9314 - recall_3: 1.0000 - precision_4: 0.0000e+00 - recall_4: 0.0000e+00 - precision_5: 0.0000e+00 - recall_5: 0.0000e+00 - val_loss: 2.1240 - val_accuracy: 0.9138 - val_precision_3: 0.9138 - val_recall_3: 1.0000 - val_precision_4: 0.0000e+00 - val_recall_4: 0.0000e+00 - val_precision_5: 0.0000e+00 - val_recall_5: 0.0000e+00\n",
            "Epoch 5/10\n",
            "5978/5978 [==============================] - ETA: 0s - loss: 0.2727 - accuracy: 0.9314 - precision_3: 0.9314 - recall_3: 0.9999 - precision_4: 0.0000e+00 - recall_4: 0.0000e+00 - precision_5: 0.0000e+00 - recall_5: 0.0000e+00"
          ]
        },
        {
          "output_type": "stream",
          "name": "stderr",
          "text": [
            "WARNING:tensorflow:`evaluate()` received a value for `sample_weight`, but `weighted_metrics` were not provided.  Did you mean to pass metrics to `weighted_metrics` in `compile()`?  If this is intentional you can pass `weighted_metrics=[]` to `compile()` in order to silence this warning.\n"
          ]
        },
        {
          "output_type": "stream",
          "name": "stdout",
          "text": [
            "\b\b\b\b\b\b\b\b\b\b\b\b\b\b\b\b\b\b\b\b\b\b\b\b\b\b\b\b\b\b\b\b\b\b\b\b\b\b\b\b\b\b\b\b\b\b\b\b\b\b\b\b\b\b\b\b\b\b\b\b\b\b\b\b\b\b\b\b\b\b\b\b\b\b\b\b\b\b\b\b\b\b\b\b\b\b\b\b\b\b\b\b\b\b\b\b\b\b\b\b\b\b\b\b\b\b\b\b\b\b\b\b\b\b\b\b\b\b\b\b\b\b\b\b\b\b\b\b\b\b\b\b\b\b\b\b\b\b\b\b\b\b\b\b\b\b\b\b\b\b\b\b\b\b\b\b\b\b\b\b\b\b\b\b\b\b\b\b\b\b\b\b\b\b\b\b\b\b\b\b\b\b\b\b\b\b\b\b\b\b\b\b\b\b\b\b\b\b\b\b\b\b\b\b\b\b\b\b\b\b\b\b\b\b\b\b\b\b\b\b\b\b\b\b\b\r5978/5978 [==============================] - 83s 14ms/step - loss: 0.2727 - accuracy: 0.9314 - precision_3: 0.9314 - recall_3: 0.9999 - precision_4: 0.0000e+00 - recall_4: 0.0000e+00 - precision_5: 0.0000e+00 - recall_5: 0.0000e+00 - val_loss: 1.9336 - val_accuracy: 0.9137 - val_precision_3: 0.9140 - val_recall_3: 0.9998 - val_precision_4: 0.0000e+00 - val_recall_4: 0.0000e+00 - val_precision_5: 0.0000e+00 - val_recall_5: 0.0000e+00\n",
            "Epoch 6/10\n",
            "5977/5978 [============================>.] - ETA: 0s - loss: 0.2490 - accuracy: 0.9318 - precision_3: 0.9342 - recall_3: 0.9988 - precision_4: 0.0000e+00 - recall_4: 0.0000e+00 - precision_5: 0.0000e+00 - recall_5: 0.0000e+00"
          ]
        },
        {
          "output_type": "stream",
          "name": "stderr",
          "text": [
            "WARNING:tensorflow:`evaluate()` received a value for `sample_weight`, but `weighted_metrics` were not provided.  Did you mean to pass metrics to `weighted_metrics` in `compile()`?  If this is intentional you can pass `weighted_metrics=[]` to `compile()` in order to silence this warning.\n"
          ]
        },
        {
          "output_type": "stream",
          "name": "stdout",
          "text": [
            "\b\b\b\b\b\b\b\b\b\b\b\b\b\b\b\b\b\b\b\b\b\b\b\b\b\b\b\b\b\b\b\b\b\b\b\b\b\b\b\b\b\b\b\b\b\b\b\b\b\b\b\b\b\b\b\b\b\b\b\b\b\b\b\b\b\b\b\b\b\b\b\b\b\b\b\b\b\b\b\b\b\b\b\b\b\b\b\b\b\b\b\b\b\b\b\b\b\b\b\b\b\b\b\b\b\b\b\b\b\b\b\b\b\b\b\b\b\b\b\b\b\b\b\b\b\b\b\b\b\b\b\b\b\b\b\b\b\b\b\b\b\b\b\b\b\b\b\b\b\b\b\b\b\b\b\b\b\b\b\b\b\b\b\b\b\b\b\b\b\b\b\b\b\b\b\b\b\b\b\b\b\b\b\b\b\b\b\b\b\b\b\b\b\b\b\b\b\b\b\b\b\b\b\b\b\b\b\b\b\b\b\b\b\b\b\b\b\b\b\b\b\b\b\b\b\r5978/5978 [==============================] - 83s 14ms/step - loss: 0.2490 - accuracy: 0.9318 - precision_3: 0.9342 - recall_3: 0.9988 - precision_4: 0.0000e+00 - recall_4: 0.0000e+00 - precision_5: 0.0000e+00 - recall_5: 0.0000e+00 - val_loss: 1.8123 - val_accuracy: 0.9178 - val_precision_3: 0.9273 - val_recall_3: 0.9954 - val_precision_4: 0.0000e+00 - val_recall_4: 0.0000e+00 - val_precision_5: 0.0000e+00 - val_recall_5: 0.0000e+00\n",
            "Epoch 7/10\n",
            "5975/5978 [============================>.] - ETA: 0s - loss: 0.2358 - accuracy: 0.9332 - precision_3: 0.9394 - recall_3: 0.9960 - precision_4: 0.3333 - recall_4: 6.7568e-04 - precision_5: 0.9091 - recall_5: 0.0017"
          ]
        },
        {
          "output_type": "stream",
          "name": "stderr",
          "text": [
            "WARNING:tensorflow:`evaluate()` received a value for `sample_weight`, but `weighted_metrics` were not provided.  Did you mean to pass metrics to `weighted_metrics` in `compile()`?  If this is intentional you can pass `weighted_metrics=[]` to `compile()` in order to silence this warning.\n"
          ]
        },
        {
          "output_type": "stream",
          "name": "stdout",
          "text": [
            "\b\b\b\b\b\b\b\b\b\b\b\b\b\b\b\b\b\b\b\b\b\b\b\b\b\b\b\b\b\b\b\b\b\b\b\b\b\b\b\b\b\b\b\b\b\b\b\b\b\b\b\b\b\b\b\b\b\b\b\b\b\b\b\b\b\b\b\b\b\b\b\b\b\b\b\b\b\b\b\b\b\b\b\b\b\b\b\b\b\b\b\b\b\b\b\b\b\b\b\b\b\b\b\b\b\b\b\b\b\b\b\b\b\b\b\b\b\b\b\b\b\b\b\b\b\b\b\b\b\b\b\b\b\b\b\b\b\b\b\b\b\b\b\b\b\b\b\b\b\b\b\b\b\b\b\b\b\b\b\b\b\b\b\b\b\b\b\b\b\b\b\b\b\b\b\b\b\b\b\b\b\b\b\b\b\b\b\b\b\b\b\b\b\b\b\b\b\b\b\b\b\b\b\b\b\b\b\b\b\b\b\b\b\r5978/5978 [==============================] - 84s 14ms/step - loss: 0.2358 - accuracy: 0.9332 - precision_3: 0.9394 - recall_3: 0.9960 - precision_4: 0.3333 - recall_4: 6.7549e-04 - precision_5: 0.9091 - recall_5: 0.0017 - val_loss: 1.7736 - val_accuracy: 0.9203 - val_precision_3: 0.9311 - val_recall_3: 0.9913 - val_precision_4: 0.3333 - val_recall_4: 4.7438e-04 - val_precision_5: 0.5000 - val_recall_5: 4.8193e-04\n",
            "Epoch 8/10\n",
            "5978/5978 [==============================] - ETA: 0s - loss: 0.2283 - accuracy: 0.9343 - precision_3: 0.9425 - recall_3: 0.9948 - precision_4: 0.4203 - recall_4: 0.0039 - precision_5: 0.8966 - recall_5: 0.0091"
          ]
        },
        {
          "output_type": "stream",
          "name": "stderr",
          "text": [
            "WARNING:tensorflow:`evaluate()` received a value for `sample_weight`, but `weighted_metrics` were not provided.  Did you mean to pass metrics to `weighted_metrics` in `compile()`?  If this is intentional you can pass `weighted_metrics=[]` to `compile()` in order to silence this warning.\n"
          ]
        },
        {
          "output_type": "stream",
          "name": "stdout",
          "text": [
            "\b\b\b\b\b\b\b\b\b\b\b\b\b\b\b\b\b\b\b\b\b\b\b\b\b\b\b\b\b\b\b\b\b\b\b\b\b\b\b\b\b\b\b\b\b\b\b\b\b\b\b\b\b\b\b\b\b\b\b\b\b\b\b\b\b\b\b\b\b\b\b\b\b\b\b\b\b\b\b\b\b\b\b\b\b\b\b\b\b\b\b\b\b\b\b\b\b\b\b\b\b\b\b\b\b\b\b\b\b\b\b\b\b\b\b\b\b\b\b\b\b\b\b\b\b\b\b\b\b\b\b\b\b\b\b\b\b\b\b\b\b\b\b\b\b\b\b\b\b\b\b\b\b\b\b\b\b\b\b\b\b\b\b\b\b\b\b\b\b\b\b\b\b\b\b\b\b\b\b\b\b\b\b\b\b\b\b\b\b\b\b\b\b\b\b\b\b\b\b\b\b\b\b\b\b\b\b\b\b\r5978/5978 [==============================] - 84s 14ms/step - loss: 0.2283 - accuracy: 0.9343 - precision_3: 0.9425 - recall_3: 0.9948 - precision_4: 0.4203 - recall_4: 0.0039 - precision_5: 0.8966 - recall_5: 0.0091 - val_loss: 1.7491 - val_accuracy: 0.9197 - val_precision_3: 0.9335 - val_recall_3: 0.9884 - val_precision_4: 0.1176 - val_recall_4: 0.0019 - val_precision_5: 0.7500 - val_recall_5: 0.0043\n",
            "Epoch 9/10\n",
            "5978/5978 [==============================] - ETA: 0s - loss: 0.2223 - accuracy: 0.9360 - precision_3: 0.9458 - recall_3: 0.9943 - precision_4: 0.6291 - recall_4: 0.0181 - precision_5: 0.8489 - recall_5: 0.0206"
          ]
        },
        {
          "output_type": "stream",
          "name": "stderr",
          "text": [
            "WARNING:tensorflow:`evaluate()` received a value for `sample_weight`, but `weighted_metrics` were not provided.  Did you mean to pass metrics to `weighted_metrics` in `compile()`?  If this is intentional you can pass `weighted_metrics=[]` to `compile()` in order to silence this warning.\n"
          ]
        },
        {
          "output_type": "stream",
          "name": "stdout",
          "text": [
            "\b\b\b\b\b\b\b\b\b\b\b\b\b\b\b\b\b\b\b\b\b\b\b\b\b\b\b\b\b\b\b\b\b\b\b\b\b\b\b\b\b\b\b\b\b\b\b\b\b\b\b\b\b\b\b\b\b\b\b\b\b\b\b\b\b\b\b\b\b\b\b\b\b\b\b\b\b\b\b\b\b\b\b\b\b\b\b\b\b\b\b\b\b\b\b\b\b\b\b\b\b\b\b\b\b\b\b\b\b\b\b\b\b\b\b\b\b\b\b\b\b\b\b\b\b\b\b\b\b\b\b\b\b\b\b\b\b\b\b\b\b\b\b\b\b\b\b\b\b\b\b\b\b\b\b\b\b\b\b\b\b\b\b\b\b\b\b\b\b\b\b\b\b\b\b\b\b\b\b\b\b\b\b\b\b\b\b\b\b\b\b\b\b\b\b\b\b\b\b\b\b\b\b\b\b\b\b\b\b\r5978/5978 [==============================] - 83s 14ms/step - loss: 0.2223 - accuracy: 0.9360 - precision_3: 0.9458 - recall_3: 0.9943 - precision_4: 0.6291 - recall_4: 0.0181 - precision_5: 0.8489 - recall_5: 0.0206 - val_loss: 1.7353 - val_accuracy: 0.9174 - val_precision_3: 0.9351 - val_recall_3: 0.9839 - val_precision_4: 0.0571 - val_recall_4: 0.0038 - val_precision_5: 0.8163 - val_recall_5: 0.0193\n",
            "Epoch 10/10\n",
            "5974/5978 [============================>.] - ETA: 0s - loss: 0.2168 - accuracy: 0.9388 - precision_3: 0.9492 - recall_3: 0.9941 - precision_4: 0.7794 - recall_4: 0.0635 - precision_5: 0.8339 - recall_5: 0.0395"
          ]
        },
        {
          "output_type": "stream",
          "name": "stderr",
          "text": [
            "WARNING:tensorflow:`evaluate()` received a value for `sample_weight`, but `weighted_metrics` were not provided.  Did you mean to pass metrics to `weighted_metrics` in `compile()`?  If this is intentional you can pass `weighted_metrics=[]` to `compile()` in order to silence this warning.\n"
          ]
        },
        {
          "output_type": "stream",
          "name": "stdout",
          "text": [
            "\b\b\b\b\b\b\b\b\b\b\b\b\b\b\b\b\b\b\b\b\b\b\b\b\b\b\b\b\b\b\b\b\b\b\b\b\b\b\b\b\b\b\b\b\b\b\b\b\b\b\b\b\b\b\b\b\b\b\b\b\b\b\b\b\b\b\b\b\b\b\b\b\b\b\b\b\b\b\b\b\b\b\b\b\b\b\b\b\b\b\b\b\b\b\b\b\b\b\b\b\b\b\b\b\b\b\b\b\b\b\b\b\b\b\b\b\b\b\b\b\b\b\b\b\b\b\b\b\b\b\b\b\b\b\b\b\b\b\b\b\b\b\b\b\b\b\b\b\b\b\b\b\b\b\b\b\b\b\b\b\b\b\b\b\b\b\b\b\b\b\b\b\b\b\b\b\b\b\b\b\b\b\b\b\b\b\b\b\b\b\b\b\b\b\b\b\b\b\b\b\b\b\b\b\b\b\b\b\b\r5978/5978 [==============================] - 86s 14ms/step - loss: 0.2167 - accuracy: 0.9388 - precision_3: 0.9492 - recall_3: 0.9941 - precision_4: 0.7794 - recall_4: 0.0635 - precision_5: 0.8339 - recall_5: 0.0395 - val_loss: 1.7102 - val_accuracy: 0.9147 - val_precision_3: 0.9368 - val_recall_3: 0.9811 - val_precision_4: 0.0460 - val_recall_4: 0.0071 - val_precision_5: 0.6441 - val_recall_5: 0.0366\n"
          ]
        }
      ]
    }
  ]
}