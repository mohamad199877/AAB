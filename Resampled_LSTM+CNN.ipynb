{
  "cells": [
    {
      "cell_type": "code",
      "execution_count": 2,
      "metadata": {
        "colab": {
          "base_uri": "https://localhost:8080/"
        },
        "id": "wVGmBzmBs_2Q",
        "outputId": "ddd10495-16cb-44d8-ff01-1e8c92610ff3"
      },
      "outputs": [
        {
          "output_type": "stream",
          "name": "stdout",
          "text": [
            "Drive already mounted at /gdrive; to attempt to forcibly remount, call drive.mount(\"/gdrive\", force_remount=True).\n",
            "/gdrive/My Drive/train\n"
          ]
        }
      ],
      "source": [
        "from google.colab import drive\n",
        "drive.mount('/gdrive')\n",
        "%cd /gdrive/My Drive/train"
      ]
    },
    {
      "cell_type": "code",
      "execution_count": 3,
      "metadata": {
        "id": "TKVLeathtJUv"
      },
      "outputs": [],
      "source": [
        "from scipy.io import loadmat\n",
        "import numpy as np, os, sys, joblib\n",
        "import matplotlib.pyplot as plt\n",
        "import math\n",
        "from tqdm import tqdm\n",
        "import pandas as pd\n",
        "import random\n",
        "import tensorflow as tf\n",
        "from tensorflow.keras.models import Sequential\n",
        "import sklearn\n",
        "from collections import Counter\n",
        "import matplotlib.pyplot as plt\n",
        "import seaborn as sns\n",
        "from sklearn.metrics import confusion_matrix\n",
        "import itertools\n",
        "\n",
        "\n",
        "\n",
        "SEED = 1234\n",
        "np.random.seed(SEED)\n",
        "pd.core.common._random_stat = SEED\n",
        "random.seed(SEED)\n",
        "os.environ['PYTHONHASHSEED'] = str(SEED)"
      ]
    },
    {
      "cell_type": "code",
      "execution_count": 4,
      "metadata": {
        "id": "YHNgk9_6tQR3"
      },
      "outputs": [],
      "source": [
        "from sklearn.model_selection import train_test_split\n",
        "import os\n",
        "import re"
      ]
    },
    {
      "cell_type": "code",
      "execution_count": 5,
      "metadata": {
        "id": "EE3aHHDftSmF"
      },
      "outputs": [],
      "source": [
        "path_to_data = \"/gdrive/My Drive/train\""
      ]
    },
    {
      "cell_type": "code",
      "execution_count": 6,
      "metadata": {
        "id": "lpFx7BJYtXh2"
      },
      "outputs": [],
      "source": [
        "def load_data(file):\n",
        "\n",
        "  original = loadmat(file) #  dictionary with variable names as keys, and loaded matrices as values\n",
        "\n",
        "  spk_file = file.replace('.mat', '_spk.mat')\n",
        "  spk = loadmat(spk_file)\n",
        "\n",
        "  ann_file = file.replace('.mat', '_ann.mat')\n",
        "  ann = loadmat(ann_file)\n",
        "\n",
        "  return original, spk, ann"
      ]
    },
    {
      "cell_type": "code",
      "execution_count": 7,
      "metadata": {
        "id": "Epu0GFrYta5W"
      },
      "outputs": [],
      "source": [
        "def filter_files_by_pattern(directory, pattern):\n",
        "    \"\"\"\n",
        "    Filter files in a directory based on a specified pattern.\n",
        "\n",
        "    Parameters:\n",
        "    - directory: The directory containing the files.\n",
        "    - pattern: The regular expression pattern to match filenames.\n",
        "\n",
        "    Returns:\n",
        "    - List of filenames matching the pattern.\n",
        "    \"\"\"\n",
        "    files = os.listdir(directory)\n",
        "    filtered_files = [file for file in files if re.match(pattern, file)]\n",
        "    return filtered_files"
      ]
    },
    {
      "cell_type": "code",
      "execution_count": 8,
      "metadata": {
        "id": "kRJNY33Gtbft",
        "colab": {
          "base_uri": "https://localhost:8080/"
        },
        "outputId": "57c26394-0f97-45a6-b5ee-bad34dfb2741"
      },
      "outputs": [
        {
          "output_type": "stream",
          "name": "stdout",
          "text": [
            "['S120_250.mat', 'S117_250.mat', 'S108_250.mat', 'S110_250.mat', 'S114_250.mat', 'S106_250.mat', 'S112_250.mat', 'S115_250.mat', 'S121_250.mat', 'S113_250.mat', 'S109_250.mat', 'S116_250.mat', 'S102_250.mat', 'S111_250.mat', 'S119_250.mat', 'S091_250.mat', 'S098_250.mat', 'S118_250.mat', 'S104_250.mat', 'S101_250.mat', 'S087_250.mat', 'S100_250.mat', 'S096_250.mat', 'S084_250.mat', 'S093_250.mat', 'S095_250.mat', 'S092_250.mat', 'S103_250.mat', 'S088_250.mat', 'S097_250.mat', 'S099_250.mat', 'S105_250.mat', 'S094_250.mat', 'S058_128.mat', 'S046_128.mat', 'S054_128.mat', 'S049_128.mat', 'S039_128.mat', 'S061_128.mat', 'S082_250.mat', 'S060_128.mat', 'S083_250.mat', 'S055_128.mat', 'S059_128.mat', 'S052_128.mat', 'S044_128.mat', 'S079_250.mat', 'S048_128.mat', 'S041_128.mat', 'S090_250.mat', 'S062_128.mat', 'S086_250.mat', 'S053_128.mat', 'S081_250.mat', 'S057_128.mat', 'S089_250.mat', 'S080_250.mat', 'S085_250.mat', 'S042_128.mat', 'S043_128.mat', 'S051_128.mat', 'S015_128.mat', 'S020_128.mat', 'S021_128.mat', 'S022_128.mat', 'S032_128.mat', 'S035_128.mat', 'S038_128.mat', 'S036_128.mat', 'S010_128.mat', 'S034_128.mat', 'S107_250.mat', 'S023_128.mat', 'S025_128.mat', 'S030_128.mat', 'S014_128.mat', 'S040_128.mat', 'S024_128.mat', 'S018_128.mat', 'S026_128.mat', 'S045_128.mat', 'S029_128.mat', 'S031_128.mat', 'S050_128.mat', 'S028_128.mat', 'S027_128.mat', 'S037_128.mat', 'S019_128.mat', 'S047_128.mat', 'S033_128.mat', 'S007_128.mat', 'S016_128.mat', 'S013_128.mat', 'S005_128.mat', 'S003_128.mat', 'S011_128.mat', 'S001_128.mat', 'S004_128.mat', 'S009_128.mat', 'S006_128.mat', 'S002_128.mat', 'S017_128.mat', 'S056_128.mat', 'S012_128.mat', 'S008_128.mat']\n"
          ]
        }
      ],
      "source": [
        "directory = path_to_data\n",
        "pattern = r'S\\d{3}_\\d{3}\\.mat'  # Regular expression pattern matching 'SXXX_YYY.mat'\n",
        "\n",
        "filtered_files = filter_files_by_pattern(directory, pattern)\n",
        "print(filtered_files)"
      ]
    },
    {
      "cell_type": "code",
      "execution_count": 9,
      "metadata": {
        "id": "FLUMQvvStgth"
      },
      "outputs": [],
      "source": [
        "train_files = filtered_files[:round(len(filtered_files)*0.8)]"
      ]
    },
    {
      "cell_type": "code",
      "execution_count": 10,
      "metadata": {
        "id": "bZ_v5zVHtjXR",
        "colab": {
          "base_uri": "https://localhost:8080/"
        },
        "outputId": "66c769b4-496b-46b0-afb0-ee529204ca08"
      },
      "outputs": [
        {
          "output_type": "execute_result",
          "data": {
            "text/plain": [
              "['S120_250.mat',\n",
              " 'S117_250.mat',\n",
              " 'S108_250.mat',\n",
              " 'S110_250.mat',\n",
              " 'S114_250.mat',\n",
              " 'S106_250.mat',\n",
              " 'S112_250.mat',\n",
              " 'S115_250.mat',\n",
              " 'S121_250.mat',\n",
              " 'S113_250.mat',\n",
              " 'S109_250.mat',\n",
              " 'S116_250.mat',\n",
              " 'S102_250.mat',\n",
              " 'S111_250.mat',\n",
              " 'S119_250.mat',\n",
              " 'S091_250.mat',\n",
              " 'S098_250.mat',\n",
              " 'S118_250.mat',\n",
              " 'S104_250.mat',\n",
              " 'S101_250.mat',\n",
              " 'S087_250.mat',\n",
              " 'S100_250.mat',\n",
              " 'S096_250.mat',\n",
              " 'S084_250.mat',\n",
              " 'S093_250.mat',\n",
              " 'S095_250.mat',\n",
              " 'S092_250.mat',\n",
              " 'S103_250.mat',\n",
              " 'S088_250.mat',\n",
              " 'S097_250.mat',\n",
              " 'S099_250.mat',\n",
              " 'S105_250.mat',\n",
              " 'S094_250.mat',\n",
              " 'S058_128.mat',\n",
              " 'S046_128.mat',\n",
              " 'S054_128.mat',\n",
              " 'S049_128.mat',\n",
              " 'S039_128.mat',\n",
              " 'S061_128.mat',\n",
              " 'S082_250.mat',\n",
              " 'S060_128.mat',\n",
              " 'S083_250.mat',\n",
              " 'S055_128.mat',\n",
              " 'S059_128.mat',\n",
              " 'S052_128.mat',\n",
              " 'S044_128.mat',\n",
              " 'S079_250.mat',\n",
              " 'S048_128.mat',\n",
              " 'S041_128.mat',\n",
              " 'S090_250.mat',\n",
              " 'S062_128.mat',\n",
              " 'S086_250.mat',\n",
              " 'S053_128.mat',\n",
              " 'S081_250.mat',\n",
              " 'S057_128.mat',\n",
              " 'S089_250.mat',\n",
              " 'S080_250.mat',\n",
              " 'S085_250.mat',\n",
              " 'S042_128.mat',\n",
              " 'S043_128.mat',\n",
              " 'S051_128.mat',\n",
              " 'S015_128.mat',\n",
              " 'S020_128.mat',\n",
              " 'S021_128.mat',\n",
              " 'S022_128.mat',\n",
              " 'S032_128.mat',\n",
              " 'S035_128.mat',\n",
              " 'S038_128.mat',\n",
              " 'S036_128.mat',\n",
              " 'S010_128.mat',\n",
              " 'S034_128.mat',\n",
              " 'S107_250.mat',\n",
              " 'S023_128.mat',\n",
              " 'S025_128.mat',\n",
              " 'S030_128.mat',\n",
              " 'S014_128.mat',\n",
              " 'S040_128.mat',\n",
              " 'S024_128.mat',\n",
              " 'S018_128.mat',\n",
              " 'S026_128.mat',\n",
              " 'S045_128.mat',\n",
              " 'S029_128.mat',\n",
              " 'S031_128.mat',\n",
              " 'S050_128.mat']"
            ]
          },
          "metadata": {},
          "execution_count": 10
        }
      ],
      "source": [
        "train_files"
      ]
    },
    {
      "cell_type": "code",
      "execution_count": 11,
      "metadata": {
        "id": "HB_RgYs9tleR"
      },
      "outputs": [],
      "source": [
        "validation_files = filtered_files[(round(len(filtered_files)*0.8)):]"
      ]
    },
    {
      "cell_type": "code",
      "execution_count": 12,
      "metadata": {
        "id": "7eHFZxyutogQ",
        "colab": {
          "base_uri": "https://localhost:8080/"
        },
        "outputId": "a3fcce54-8563-43e4-e449-ddb3622484d0"
      },
      "outputs": [
        {
          "output_type": "execute_result",
          "data": {
            "text/plain": [
              "['S028_128.mat',\n",
              " 'S027_128.mat',\n",
              " 'S037_128.mat',\n",
              " 'S019_128.mat',\n",
              " 'S047_128.mat',\n",
              " 'S033_128.mat',\n",
              " 'S007_128.mat',\n",
              " 'S016_128.mat',\n",
              " 'S013_128.mat',\n",
              " 'S005_128.mat',\n",
              " 'S003_128.mat',\n",
              " 'S011_128.mat',\n",
              " 'S001_128.mat',\n",
              " 'S004_128.mat',\n",
              " 'S009_128.mat',\n",
              " 'S006_128.mat',\n",
              " 'S002_128.mat',\n",
              " 'S017_128.mat',\n",
              " 'S056_128.mat',\n",
              " 'S012_128.mat',\n",
              " 'S008_128.mat']"
            ]
          },
          "metadata": {},
          "execution_count": 12
        }
      ],
      "source": [
        "validation_files"
      ]
    },
    {
      "cell_type": "code",
      "execution_count": 13,
      "metadata": {
        "id": "tI65XqvztrI4"
      },
      "outputs": [],
      "source": [
        "train = []\n",
        "ecg_train = []\n",
        "spk_train = []\n",
        "ann_train = []\n",
        "\n",
        "for file in train_files:\n",
        "  ecg, spk, ann = load_data(path_to_data + '/' + file)\n",
        "  ecg_train.append(ecg)\n",
        "  spk_train.append(spk)\n",
        "  ann_train.append(ann)\n",
        "\n",
        "  train.append(path_to_data + '/' + file)"
      ]
    },
    {
      "cell_type": "code",
      "execution_count": 14,
      "metadata": {
        "id": "Lr6F7mJEuydx"
      },
      "outputs": [],
      "source": [
        "validation = []\n",
        "ecg_validation = []\n",
        "spk_validation = []\n",
        "ann_validation = []\n",
        "\n",
        "for file in validation_files:\n",
        "\n",
        "  ecg, spk, ann = load_data(path_to_data + '/' + file)\n",
        "  ecg_validation.append(ecg)\n",
        "  spk_validation.append(spk)\n",
        "  ann_validation.append(ann)\n",
        "\n",
        "  validation.append(path_to_data + '/' + file)"
      ]
    },
    {
      "cell_type": "code",
      "execution_count": 15,
      "metadata": {
        "id": "NZFViw9bu03s",
        "colab": {
          "base_uri": "https://localhost:8080/"
        },
        "outputId": "aa74de53-690f-41a2-d7cd-a2f02de6b205"
      },
      "outputs": [
        {
          "output_type": "stream",
          "name": "stdout",
          "text": [
            "Requirement already satisfied: neurokit2 in /usr/local/lib/python3.10/dist-packages (0.2.7)\n",
            "Requirement already satisfied: tdqm in /usr/local/lib/python3.10/dist-packages (0.0.1)\n",
            "Requirement already satisfied: numpy in /usr/local/lib/python3.10/dist-packages (from neurokit2) (1.25.2)\n",
            "Requirement already satisfied: pandas in /usr/local/lib/python3.10/dist-packages (from neurokit2) (1.5.3)\n",
            "Requirement already satisfied: scipy in /usr/local/lib/python3.10/dist-packages (from neurokit2) (1.11.4)\n",
            "Requirement already satisfied: scikit-learn>=1.0.0 in /usr/local/lib/python3.10/dist-packages (from neurokit2) (1.2.2)\n",
            "Requirement already satisfied: matplotlib in /usr/local/lib/python3.10/dist-packages (from neurokit2) (3.7.1)\n",
            "Requirement already satisfied: tqdm in /usr/local/lib/python3.10/dist-packages (from tdqm) (4.66.2)\n",
            "Requirement already satisfied: joblib>=1.1.1 in /usr/local/lib/python3.10/dist-packages (from scikit-learn>=1.0.0->neurokit2) (1.3.2)\n",
            "Requirement already satisfied: threadpoolctl>=2.0.0 in /usr/local/lib/python3.10/dist-packages (from scikit-learn>=1.0.0->neurokit2) (3.4.0)\n",
            "Requirement already satisfied: contourpy>=1.0.1 in /usr/local/lib/python3.10/dist-packages (from matplotlib->neurokit2) (1.2.0)\n",
            "Requirement already satisfied: cycler>=0.10 in /usr/local/lib/python3.10/dist-packages (from matplotlib->neurokit2) (0.12.1)\n",
            "Requirement already satisfied: fonttools>=4.22.0 in /usr/local/lib/python3.10/dist-packages (from matplotlib->neurokit2) (4.50.0)\n",
            "Requirement already satisfied: kiwisolver>=1.0.1 in /usr/local/lib/python3.10/dist-packages (from matplotlib->neurokit2) (1.4.5)\n",
            "Requirement already satisfied: packaging>=20.0 in /usr/local/lib/python3.10/dist-packages (from matplotlib->neurokit2) (24.0)\n",
            "Requirement already satisfied: pillow>=6.2.0 in /usr/local/lib/python3.10/dist-packages (from matplotlib->neurokit2) (9.4.0)\n",
            "Requirement already satisfied: pyparsing>=2.3.1 in /usr/local/lib/python3.10/dist-packages (from matplotlib->neurokit2) (3.1.2)\n",
            "Requirement already satisfied: python-dateutil>=2.7 in /usr/local/lib/python3.10/dist-packages (from matplotlib->neurokit2) (2.8.2)\n",
            "Requirement already satisfied: pytz>=2020.1 in /usr/local/lib/python3.10/dist-packages (from pandas->neurokit2) (2023.4)\n",
            "Requirement already satisfied: six>=1.5 in /usr/local/lib/python3.10/dist-packages (from python-dateutil>=2.7->matplotlib->neurokit2) (1.16.0)\n"
          ]
        }
      ],
      "source": [
        "! pip install neurokit2 tdqm"
      ]
    },
    {
      "cell_type": "code",
      "execution_count": 16,
      "metadata": {
        "id": "35XDkwZXu37f"
      },
      "outputs": [],
      "source": [
        "def freq(filename):\n",
        "  if '128' in filename:\n",
        "    return 128\n",
        "  else:\n",
        "    return 250"
      ]
    },
    {
      "cell_type": "code",
      "execution_count": 17,
      "metadata": {
        "id": "iBQrn_PRu80I",
        "colab": {
          "base_uri": "https://localhost:8080/",
          "height": 447
        },
        "outputId": "c15e7ace-c333-43de-d937-732ebfee132a"
      },
      "outputs": [
        {
          "output_type": "execute_result",
          "data": {
            "text/plain": [
              "(-5.0, 5.0)"
            ]
          },
          "metadata": {},
          "execution_count": 17
        },
        {
          "output_type": "display_data",
          "data": {
            "text/plain": [
              "<Figure size 640x480 with 1 Axes>"
            ],
            "image/png": "[encoded data removed]"
          },
          "metadata": {}
        }
      ],
      "source": [
        "\n",
        "import matplotlib.pyplot as plt\n",
        "\n",
        "# plot a piece of one ECG signal\n",
        "plt.plot(ecg_train[1]['ppg'][:,0])\n",
        "plt.xlim(0,1000)\n",
        "plt.ylim(-5,5)"
      ]
    },
    {
      "cell_type": "code",
      "execution_count": 18,
      "metadata": {
        "id": "NDGBAARdvX3X"
      },
      "outputs": [],
      "source": [
        "# Utility: given the filename of a signal it returns the sampling frequency\n",
        "def ecg_freq(filename):\n",
        "  if '128' in filename:\n",
        "    return 128\n",
        "  else:\n",
        "    return 250"
      ]
    },
    {
      "cell_type": "code",
      "execution_count": 19,
      "metadata": {
        "id": "M9iEDFy2vc2T"
      },
      "outputs": [],
      "source": [
        "import scipy"
      ]
    },
    {
      "cell_type": "code",
      "execution_count": 20,
      "metadata": {
        "id": "HTus1ZAxvfeb"
      },
      "outputs": [],
      "source": [
        "# Resample to 250 Hz training ECG signals\n",
        "\n",
        "resampled_ecg_1_train = []\n",
        "\n",
        "for i in range(len(ecg_train)):\n",
        "   secs_1 = len(ecg_train[i]['ppg'][:,0])/ecg_freq(train[i]) # Number of seconds in signal X\n",
        "   samps_1 = secs_1*250     # Number of samples to downsample\n",
        "   resampled_ecg_1_train.append(scipy.signal.resample(ecg_train[i]['ppg'][:,0] , int(samps_1)))"
      ]
    },
    {
      "cell_type": "code",
      "execution_count": 21,
      "metadata": {
        "id": "EQZk69I-0f1j"
      },
      "outputs": [],
      "source": [
        "\n",
        "# Resample to 250 Hz validation ECG signals\n",
        "\n",
        "resampled_ecg_1_validation = []\n",
        "\n",
        "for i in range(len(ecg_validation)):\n",
        "   secs_1 = len(ecg_validation[i]['ppg'][:,0])/ecg_freq(validation[i]) # Number of seconds in signal X\n",
        "   samps_1 = secs_1*250     # Number of samples to downsample\n",
        "   resampled_ecg_1_validation.append(scipy.signal.resample(ecg_validation[i]['ppg'][:,0] , int(samps_1)))"
      ]
    },
    {
      "cell_type": "code",
      "execution_count": 22,
      "metadata": {
        "id": "GZJ9LagYyMBw",
        "colab": {
          "base_uri": "https://localhost:8080/",
          "height": 447
        },
        "outputId": "a8366218-aebf-4311-8fa4-12e8c9e49cb9"
      },
      "outputs": [
        {
          "output_type": "execute_result",
          "data": {
            "text/plain": [
              "128"
            ]
          },
          "metadata": {},
          "execution_count": 22
        },
        {
          "output_type": "display_data",
          "data": {
            "text/plain": [
              "<Figure size 640x480 with 1 Axes>"
            ],
            "image/png": "[encoded data removed]"
          },
          "metadata": {}
        }
      ],
      "source": [
        "# look the effect of signal resampling\n",
        "beat = 50\n",
        "plt.plot(ecg_train[beat]['ppg'][:,0])\n",
        "plt.plot(resampled_ecg_1_train[beat])\n",
        "plt.legend(['original 128Hz', 'resampled 250Hz'])\n",
        "plt.xlim(0, 1000)\n",
        "plt.ylim(-5,5)\n",
        "\n",
        "ecg_freq(train[beat])"
      ]
    },
    {
      "cell_type": "code",
      "execution_count": 23,
      "metadata": {
        "id": "wUCEEpAdzRmi"
      },
      "outputs": [],
      "source": [
        "# Use firwin with a Kaiser window to create a lowpass FIR filter.\n",
        "taps = scipy.signal.firwin(12, 35/125, fs = 250)"
      ]
    },
    {
      "cell_type": "code",
      "execution_count": 24,
      "metadata": {
        "id": "SsPfEeOitcJz",
        "colab": {
          "base_uri": "https://localhost:8080/"
        },
        "outputId": "937516f7-af35-4b79-ef86-bedcf50c0775"
      },
      "outputs": [
        {
          "output_type": "execute_result",
          "data": {
            "text/plain": [
              "84"
            ]
          },
          "metadata": {},
          "execution_count": 24
        }
      ],
      "source": [
        "len(resampled_ecg_1_train)"
      ]
    },
    {
      "cell_type": "code",
      "execution_count": 25,
      "metadata": {
        "id": "UR46Jy6Gtz9z",
        "colab": {
          "base_uri": "https://localhost:8080/"
        },
        "outputId": "a059cc61-33aa-49f5-e0f5-8729f367900b"
      },
      "outputs": [
        {
          "output_type": "execute_result",
          "data": {
            "text/plain": [
              "21"
            ]
          },
          "metadata": {},
          "execution_count": 25
        }
      ],
      "source": [
        "len(resampled_ecg_1_validation)"
      ]
    },
    {
      "cell_type": "code",
      "execution_count": 26,
      "metadata": {
        "id": "iBI7YqcAzTJD"
      },
      "outputs": [],
      "source": [
        "mf600 = int(250 * 0.6) - 1\n",
        "mf200 = int(250 * 0.2) - 1\n",
        "for i in range(len(resampled_ecg_1_train)):\n",
        "  resampled_ecg_1_train[i] = scipy.signal.lfilter(taps, 1.0, resampled_ecg_1_train[i] - scipy.signal.medfilt(scipy.signal.medfilt(resampled_ecg_1_train[i], mf200), mf600))\n",
        "\n",
        "\n",
        "\n",
        "for i in range(len(resampled_ecg_1_validation)):\n",
        "  resampled_ecg_1_validation[i] = scipy.signal.lfilter(taps, 1.0, resampled_ecg_1_validation[i] - scipy.signal.medfilt(scipy.signal.medfilt(resampled_ecg_1_validation[i], mf200), mf600))\n"
      ]
    },
    {
      "cell_type": "code",
      "execution_count": 27,
      "metadata": {
        "id": "ICDrQiPBz2Fq",
        "colab": {
          "base_uri": "https://localhost:8080/",
          "height": 692
        },
        "outputId": "1563308c-2c8c-4357-f293-202aab1c4253"
      },
      "outputs": [
        {
          "output_type": "execute_result",
          "data": {
            "text/plain": [
              "128"
            ]
          },
          "metadata": {},
          "execution_count": 27
        },
        {
          "output_type": "display_data",
          "data": {
            "text/plain": [
              "<Figure size 2000x500 with 1 Axes>"
            ],
            "image/png": "[encoded data removed]"
          },
          "metadata": {}
        },
        {
          "output_type": "display_data",
          "data": {
            "text/plain": [
              "<Figure size 2000x500 with 1 Axes>"
            ],
            "image/png": "[encoded data removed]"
          },
          "metadata": {}
        }
      ],
      "source": [
        "# plot the effect of the denoising procedure showing a piece of ECG before and after the applications of filters\n",
        "\n",
        "x = 50\n",
        "plt.figure(figsize=(20, 5))\n",
        "plt.plot(ecg_train[x]['ppg'][:,0])\n",
        "plt.xlim(3500, 4000)\n",
        "plt.ylim(-10,10)\n",
        "plt.figure(figsize=(20, 5))\n",
        "plt.plot(resampled_ecg_1_train[x])\n",
        "plt.xlim(3500, 4000)\n",
        "plt.ylim(-10,10)\n",
        "ecg_freq(train[x])\n"
      ]
    },
    {
      "cell_type": "code",
      "execution_count": 28,
      "metadata": {
        "id": "U1pxOK5yvko4",
        "colab": {
          "base_uri": "https://localhost:8080/"
        },
        "outputId": "e5013291-2bfc-4bc5-baee-8ce27f121bb3"
      },
      "outputs": [
        {
          "output_type": "execute_result",
          "data": {
            "text/plain": [
              "array([[   211],\n",
              "       [   430],\n",
              "       [   633],\n",
              "       ...,\n",
              "       [449512],\n",
              "       [449709],\n",
              "       [449911]], dtype=int32)"
            ]
          },
          "metadata": {},
          "execution_count": 28
        }
      ],
      "source": [
        "spk_train[0]['speaks']"
      ]
    },
    {
      "cell_type": "code",
      "source": [
        "spk_train[1]['speaks']"
      ],
      "metadata": {
        "id": "z8HUSu_YRL49",
        "colab": {
          "base_uri": "https://localhost:8080/"
        },
        "outputId": "d8fe8e73-cdac-49eb-c340-0b459d6470ad"
      },
      "execution_count": 29,
      "outputs": [
        {
          "output_type": "execute_result",
          "data": {
            "text/plain": [
              "array([[   247],\n",
              "       [   497],\n",
              "       [   746],\n",
              "       ...,\n",
              "       [449531],\n",
              "       [449736],\n",
              "       [449935]], dtype=int32)"
            ]
          },
          "metadata": {},
          "execution_count": 29
        }
      ]
    },
    {
      "cell_type": "code",
      "execution_count": 30,
      "metadata": {
        "id": "prMxzCdtuDw4"
      },
      "outputs": [],
      "source": [
        "def from_freq_to_freq(sample, ini_freq, freq = 250):\n",
        "   secs = sample/ini_freq # Number of seconds in signal X\n",
        "   samp = secs*freq       # Number of samples to downsample\n",
        "   return int(samp)"
      ]
    },
    {
      "cell_type": "code",
      "execution_count": 31,
      "metadata": {
        "id": "9PwaWshYwCMg"
      },
      "outputs": [],
      "source": [
        "# This parameter is the number of samples considered to segment the ECG signal (the segment will be the samples of current R peak +/- win)\n",
        "win = 250"
      ]
    },
    {
      "cell_type": "code",
      "execution_count": 32,
      "metadata": {
        "id": "VH67kTh5wINz",
        "colab": {
          "base_uri": "https://localhost:8080/"
        },
        "outputId": "f4989ac9-8869-4dc1-a208-d40b0653dc7e"
      },
      "outputs": [
        {
          "output_type": "stream",
          "name": "stderr",
          "text": [
            "<ipython-input-30-ead6d838464d>:4: DeprecationWarning: Conversion of an array with ndim > 0 to a scalar is deprecated, and will error in future. Ensure you extract a single element from your array before performing this operation. (Deprecated NumPy 1.25.)\n",
            "  return int(samp)\n"
          ]
        }
      ],
      "source": [
        "# Extract all the segments (single heartbeats) from the original raw signals\n",
        "\n",
        "heartbeats_train_1 = []\n",
        "heartbeats_validation_1 = []\n",
        "\n",
        "for i in range(len(ecg_train)):\n",
        "  for j in range(len(spk_train[i]['speaks'])):\n",
        "   if(from_freq_to_freq(spk_train[i]['speaks'][j],ecg_freq(train[i])) < win or from_freq_to_freq(spk_train[i]['speaks'][j],ecg_freq(train[i]))  + win > from_freq_to_freq(spk_train[i]['speaks'][-1],ecg_freq(train[i])) or j < 40 or (len(spk_train[i]['speaks']) - (j+1) < 40)): #skipping beats that are too much close to the initial and to the end of the signal\n",
        "    ann_train[i]['labels'][j] = 'A'\n",
        "    spk_train[i]['speaks'][j] = 0\n",
        "   else:\n",
        "    heartbeats_train_1.append(resampled_ecg_1_train[i][from_freq_to_freq(spk_train[i]['speaks'][j],ecg_freq(train[i]))  - win : from_freq_to_freq(spk_train[i]['speaks'][j],ecg_freq(train[i]))  + win])\n",
        "    #heartbeats_train_2.append(resampled_ecg_2_train[i][from_freq_to_freq(rpks_train[i]['rpeaks'][j],ecg_freq(filenames_train[i]))  - win : from_freq_to_freq(rpks_train[i]['rpeaks'][j],ecg_freq(filenames_train[i]))  + win])\n",
        "\n",
        "for i in range(len(ecg_validation)):\n",
        "  for j in range(len(spk_validation[i]['speaks'])):\n",
        "   if(from_freq_to_freq(spk_validation[i]['speaks'][j],ecg_freq(validation[i])) < win or from_freq_to_freq(spk_validation[i]['speaks'][j],ecg_freq(validation[i])) + win > from_freq_to_freq(spk_validation[i]['speaks'][-1],ecg_freq(validation[i]))): #skipping beats that are too much close to the initial and to the end of the signal\n",
        "    ann_validation[i]['labels'][j] = 'A'\n",
        "    spk_validation[i]['speaks'][j] = 0\n",
        "   else:\n",
        "    heartbeats_validation_1.append(resampled_ecg_1_validation[i][from_freq_to_freq(spk_validation[i]['speaks'][j],ecg_freq(validation[i]))  - win : from_freq_to_freq(spk_validation[i]['speaks'][j],ecg_freq(validation[i]))  + win])\n",
        "    #heartbeats_validation_2.append(resampled_ecg_2_validation[i][from_freq_to_freq(rpks_validation[i]['rpeaks'][j],ecg_freq(filenames_validation[i]))  - win : from_freq_to_freq(rpks_validation[i]['rpeaks'][j],ecg_freq(filenames_validation[i]))  + win])\n"
      ]
    },
    {
      "cell_type": "code",
      "execution_count": 33,
      "metadata": {
        "id": "8sIWCmY6x99l",
        "colab": {
          "base_uri": "https://localhost:8080/"
        },
        "outputId": "67da171b-61c0-4250-b432-8ec486c3d4d4"
      },
      "outputs": [
        {
          "output_type": "execute_result",
          "data": {
            "text/plain": [
              "(1890, 1889)"
            ]
          },
          "metadata": {},
          "execution_count": 33
        }
      ],
      "source": [
        "len(spk_train[0]['speaks']), len(np.delete(spk_train[0]['speaks'], 0))"
      ]
    },
    {
      "cell_type": "code",
      "execution_count": 34,
      "metadata": {
        "id": "0ERBL3V9yBrq",
        "colab": {
          "base_uri": "https://localhost:8080/"
        },
        "outputId": "92ac997c-fec8-4baa-ddc2-2ab2ec9e1c25"
      },
      "outputs": [
        {
          "output_type": "execute_result",
          "data": {
            "text/plain": [
              "(191294, 48543)"
            ]
          },
          "metadata": {},
          "execution_count": 34
        }
      ],
      "source": [
        "len(heartbeats_train_1), len(heartbeats_validation_1)"
      ]
    },
    {
      "cell_type": "code",
      "execution_count": 35,
      "metadata": {
        "id": "_IYUacv_yOos",
        "colab": {
          "base_uri": "https://localhost:8080/",
          "height": 447
        },
        "outputId": "b03a65b4-b2c4-42b7-e8ad-15b99a2e01a7"
      },
      "outputs": [
        {
          "output_type": "execute_result",
          "data": {
            "text/plain": [
              "[<matplotlib.lines.Line2D at 0x7fb2c6aa4850>]"
            ]
          },
          "metadata": {},
          "execution_count": 35
        },
        {
          "output_type": "display_data",
          "data": {
            "text/plain": [
              "<Figure size 640x480 with 1 Axes>"
            ],
            "image/png": "[encoded data removed]"
          },
          "metadata": {}
        }
      ],
      "source": [
        "import matplotlib.pyplot as plt\n",
        "\n",
        "# plot an example of segment\n",
        "plt.plot(heartbeats_train_1[100])"
      ]
    },
    {
      "cell_type": "code",
      "execution_count": 36,
      "metadata": {
        "id": "3NDqbq30yRkr"
      },
      "outputs": [],
      "source": [
        "labels_train = []\n",
        "labels_validation = []\n",
        "\n",
        "for i in range(len(ecg_train)):\n",
        "  for j in range(len(ann_train[i]['labels'])):\n",
        "    if(ann_train[i]['labels'][j] != 'A'):\n",
        "     labels_train.append(ann_train[i]['labels'][j])\n",
        "\n",
        "for i in range(len(ecg_validation)):\n",
        "  for j in range(len(ann_validation[i]['labels'])):\n",
        "    if(ann_validation[i]['labels'][j] != 'A'):\n",
        "     labels_validation.append(ann_validation[i]['labels'][j])\n"
      ]
    },
    {
      "cell_type": "code",
      "execution_count": 37,
      "metadata": {
        "id": "fsTFT7lqyc5Y"
      },
      "outputs": [],
      "source": [
        "classes_name = ['N', 'S', 'V']"
      ]
    },
    {
      "cell_type": "code",
      "execution_count": 38,
      "metadata": {
        "id": "RCuW_z1kyhLi",
        "colab": {
          "base_uri": "https://localhost:8080/"
        },
        "outputId": "18b5651b-c821-4bfa-df82-7b028683799d"
      },
      "outputs": [
        {
          "output_type": "execute_result",
          "data": {
            "text/plain": [
              "(191294, 191294)"
            ]
          },
          "metadata": {},
          "execution_count": 38
        }
      ],
      "source": [
        "len(labels_train), len(heartbeats_train_1)"
      ]
    },
    {
      "cell_type": "code",
      "execution_count": 39,
      "metadata": {
        "id": "gUEpwHYgyiOO",
        "colab": {
          "base_uri": "https://localhost:8080/"
        },
        "outputId": "05b9aebf-a5db-43e8-a27e-dad3f9ec1161"
      },
      "outputs": [
        {
          "output_type": "execute_result",
          "data": {
            "text/plain": [
              "(48543, 48543)"
            ]
          },
          "metadata": {},
          "execution_count": 39
        }
      ],
      "source": [
        "len(labels_validation), len(heartbeats_validation_1)"
      ]
    },
    {
      "cell_type": "code",
      "execution_count": 40,
      "metadata": {
        "id": "9-G6F-fHymsK",
        "colab": {
          "base_uri": "https://localhost:8080/"
        },
        "outputId": "59fea4fa-a694-4117-be2e-16692737a35d"
      },
      "outputs": [
        {
          "output_type": "stream",
          "name": "stderr",
          "text": [
            "/usr/local/lib/python3.10/dist-packages/sklearn/preprocessing/_encoders.py:868: FutureWarning: `sparse` was renamed to `sparse_output` in version 1.2 and will be removed in 1.4. `sparse_output` is ignored unless you leave `sparse` to its default value.\n",
            "  warnings.warn(\n",
            "/usr/local/lib/python3.10/dist-packages/sklearn/preprocessing/_encoders.py:868: FutureWarning: `sparse` was renamed to `sparse_output` in version 1.2 and will be removed in 1.4. `sparse_output` is ignored unless you leave `sparse` to its default value.\n",
            "  warnings.warn(\n"
          ]
        }
      ],
      "source": [
        "from sklearn.preprocessing import OneHotEncoder, LabelEncoder\n",
        "\n",
        "label_encoder = LabelEncoder()\n",
        "integer_encoded = label_encoder.fit_transform(labels_train)\n",
        "\n",
        "#One hot encoding of the target values\n",
        "ohe = OneHotEncoder(sparse=False)\n",
        "integer_encoded = integer_encoded.reshape(len(integer_encoded), 1)\n",
        "target_ohe_train = ohe.fit_transform(integer_encoded)\n",
        "\n",
        "integer_encoded = label_encoder.fit_transform(labels_validation)\n",
        "\n",
        "#One hot encoding of the target values\n",
        "ohe = OneHotEncoder(sparse=False)\n",
        "integer_encoded = integer_encoded.reshape(len(integer_encoded), 1)\n",
        "target_ohe_validation = ohe.fit_transform(integer_encoded)\n"
      ]
    },
    {
      "cell_type": "code",
      "execution_count": 41,
      "metadata": {
        "id": "XpGrcPq_yrDZ",
        "colab": {
          "base_uri": "https://localhost:8080/"
        },
        "outputId": "c4b7dd60-b4fa-4ed6-d6d0-72008e915ad6"
      },
      "outputs": [
        {
          "output_type": "execute_result",
          "data": {
            "text/plain": [
              "array(['N', 'S', 'V'], dtype='<U1')"
            ]
          },
          "metadata": {},
          "execution_count": 41
        }
      ],
      "source": [
        "label_encoder.inverse_transform([0,1,2])"
      ]
    },
    {
      "cell_type": "code",
      "execution_count": 42,
      "metadata": {
        "id": "Lj2sNBJOytsJ",
        "colab": {
          "base_uri": "https://localhost:8080/"
        },
        "outputId": "2e3d5f1c-e212-41fc-93b2-f175b4b44479"
      },
      "outputs": [
        {
          "output_type": "execute_result",
          "data": {
            "text/plain": [
              "array([[0],\n",
              "       [1],\n",
              "       [2]])"
            ]
          },
          "metadata": {},
          "execution_count": 42
        }
      ],
      "source": [
        "ohe.inverse_transform([[1, 0, 0], [0,1,0], [0,0,1]])"
      ]
    },
    {
      "cell_type": "code",
      "execution_count": 43,
      "metadata": {
        "id": "FyVUjPbfywop"
      },
      "outputs": [],
      "source": [
        "y_train = target_ohe_train\n",
        "y_val = target_ohe_validation"
      ]
    },
    {
      "cell_type": "code",
      "execution_count": 44,
      "metadata": {
        "id": "VZrh2N7fyzPy"
      },
      "outputs": [],
      "source": [
        "X_train_1 = tf.keras.preprocessing.sequence.pad_sequences(heartbeats_train_1, maxlen=win * 2, dtype='float32', truncating='post',padding=\"post\")\n",
        "#X_train_2 = tf.keras.preprocessing.sequence.pad_sequences(heartbeats_train_2, maxlen=win * 2, dtype='float32', truncating='post',padding=\"post\")\n",
        "X_val_1 = tf.keras.preprocessing.sequence.pad_sequences(heartbeats_validation_1, maxlen=win * 2, dtype='float32', truncating='post',padding=\"post\")\n",
        "#X_val_2 = tf.keras.preprocessing.sequence.pad_sequences(heartbeats_validation_2, maxlen=win * 2, dtype='float32', truncating='post',padding=\"post\")\n"
      ]
    },
    {
      "cell_type": "code",
      "execution_count": 45,
      "metadata": {
        "id": "YdDVjQkRy6yE",
        "colab": {
          "base_uri": "https://localhost:8080/"
        },
        "outputId": "ea9beba9-84d4-408b-db7a-eccd3287f91f"
      },
      "outputs": [
        {
          "output_type": "execute_result",
          "data": {
            "text/plain": [
              "(191294, 3)"
            ]
          },
          "metadata": {},
          "execution_count": 45
        }
      ],
      "source": [
        "y_train.shape"
      ]
    },
    {
      "cell_type": "code",
      "source": [
        "y_val.shape"
      ],
      "metadata": {
        "id": "ZN7OxaOuXFFr",
        "colab": {
          "base_uri": "https://localhost:8080/"
        },
        "outputId": "20de04c2-2f2f-4233-cfdb-629116a77c59"
      },
      "execution_count": 46,
      "outputs": [
        {
          "output_type": "execute_result",
          "data": {
            "text/plain": [
              "(48543, 3)"
            ]
          },
          "metadata": {},
          "execution_count": 46
        }
      ]
    },
    {
      "cell_type": "code",
      "execution_count": 47,
      "metadata": {
        "id": "Xftbks2ky-Eg",
        "colab": {
          "base_uri": "https://localhost:8080/"
        },
        "outputId": "d7b50b14-4e7b-446c-9287-44728e3fd7c9"
      },
      "outputs": [
        {
          "output_type": "execute_result",
          "data": {
            "text/plain": [
              "(191294, 500)"
            ]
          },
          "metadata": {},
          "execution_count": 47
        }
      ],
      "source": [
        "X_train_1.shape"
      ]
    },
    {
      "cell_type": "code",
      "source": [
        "X_val_1.shape"
      ],
      "metadata": {
        "id": "xN_hYx-yXK9q",
        "colab": {
          "base_uri": "https://localhost:8080/"
        },
        "outputId": "633b932c-e9d0-4d09-a237-4595fd5572c6"
      },
      "execution_count": 48,
      "outputs": [
        {
          "output_type": "execute_result",
          "data": {
            "text/plain": [
              "(48543, 500)"
            ]
          },
          "metadata": {},
          "execution_count": 48
        }
      ]
    },
    {
      "cell_type": "code",
      "execution_count": 49,
      "metadata": {
        "id": "eoiWIt3NzCxg"
      },
      "outputs": [],
      "source": [
        "X_train = []\n",
        "for i in range(len(X_train_1)):\n",
        "  X_train.append(X_train_1[i])\n",
        "\n",
        "X_train = np.asarray(X_train)"
      ]
    },
    {
      "cell_type": "code",
      "execution_count": 50,
      "metadata": {
        "id": "cNSMKYM-zKmx"
      },
      "outputs": [],
      "source": [
        "\n",
        "X_val = []\n",
        "for i in range(len(X_val_1)):\n",
        "  X_val.append(X_val_1[i])\n",
        "\n",
        "X_val = np.asarray(X_val)"
      ]
    },
    {
      "cell_type": "code",
      "execution_count": 51,
      "metadata": {
        "id": "GveUSpo6zPgB",
        "colab": {
          "base_uri": "https://localhost:8080/",
          "height": 447
        },
        "outputId": "9f14fdb4-68b0-47e3-fadb-8c887621b562"
      },
      "outputs": [
        {
          "output_type": "execute_result",
          "data": {
            "text/plain": [
              "(191294, 500)"
            ]
          },
          "metadata": {},
          "execution_count": 51
        },
        {
          "output_type": "display_data",
          "data": {
            "text/plain": [
              "<Figure size 640x480 with 1 Axes>"
            ],
            "image/png": "[encoded data removed]"
          },
          "metadata": {}
        }
      ],
      "source": [
        "plt.plot(X_train[900])\n",
        "\n",
        "X_train.shape\n"
      ]
    },
    {
      "cell_type": "code",
      "execution_count": 52,
      "metadata": {
        "id": "muaH-dZxzYQS"
      },
      "outputs": [],
      "source": [
        "X_train = np.asarray(X_train_1)\n",
        "X_val = np.asarray(X_val_1)\n"
      ]
    },
    {
      "cell_type": "code",
      "execution_count": 53,
      "metadata": {
        "id": "HSxX09ytz2RT",
        "colab": {
          "base_uri": "https://localhost:8080/"
        },
        "outputId": "80dc67eb-c537-453f-bf47-7e0b12c1840c"
      },
      "outputs": [
        {
          "output_type": "execute_result",
          "data": {
            "text/plain": [
              "(0.05635992, 2.502132)"
            ]
          },
          "metadata": {},
          "execution_count": 53
        }
      ],
      "source": [
        "# Normalize data (used for resnet, not for vgg)\n",
        "mean = np.mean(X_train, axis=1).mean(axis=0)\n",
        "std = np.std(X_train, axis=1).mean(axis=0)\n",
        "\n",
        "X_train = (X_train - mean)/std\n",
        "X_val = (X_val - mean)/std\n",
        "\n",
        "mean, std"
      ]
    },
    {
      "cell_type": "code",
      "execution_count": 54,
      "metadata": {
        "id": "r_gM7LgEz5px",
        "colab": {
          "base_uri": "https://localhost:8080/"
        },
        "outputId": "c28ef6e2-0e9f-4c2b-e8f5-5f41013b4bef"
      },
      "outputs": [
        {
          "output_type": "execute_result",
          "data": {
            "text/plain": [
              "(191294, 191294)"
            ]
          },
          "metadata": {},
          "execution_count": 54
        }
      ],
      "source": [
        "len(X_train), len(X_train > 3)"
      ]
    },
    {
      "cell_type": "code",
      "execution_count": 55,
      "metadata": {
        "id": "0uVF_ZxJz7R0",
        "colab": {
          "base_uri": "https://localhost:8080/",
          "height": 448
        },
        "outputId": "d6191475-1c7f-4591-c88a-5cb52be5c7ea"
      },
      "outputs": [
        {
          "output_type": "execute_result",
          "data": {
            "text/plain": [
              "'N'"
            ],
            "application/vnd.google.colaboratory.intrinsic+json": {
              "type": "string"
            }
          },
          "metadata": {},
          "execution_count": 55
        },
        {
          "output_type": "display_data",
          "data": {
            "text/plain": [
              "<Figure size 640x480 with 1 Axes>"
            ],
            "image/png": "[encoded data removed]"
          },
          "metadata": {}
        }
      ],
      "source": [
        "import matplotlib.pyplot as plt\n",
        "\n",
        "beat = 10000\n",
        "plt.plot(X_train[beat])\n",
        "labels_train[beat]\n"
      ]
    },
    {
      "cell_type": "code",
      "execution_count": 56,
      "metadata": {
        "id": "woNxbcro0Cnw",
        "colab": {
          "base_uri": "https://localhost:8080/"
        },
        "outputId": "4e2ae9b5-dab5-4a59-d542-1dc9dbaff285"
      },
      "outputs": [
        {
          "output_type": "execute_result",
          "data": {
            "text/plain": [
              "(178168, 7402, 5724)"
            ]
          },
          "metadata": {},
          "execution_count": 56
        }
      ],
      "source": [
        "y_l = y_train.tolist()\n",
        "len([i for i in y_l if i == [1,0,0]]), len([i for i in y_l if i == [0,1,0]]), len([i for i in y_l if i == [0,0,1]])"
      ]
    },
    {
      "cell_type": "code",
      "execution_count": 57,
      "metadata": {
        "id": "pzYMsnhARQSY"
      },
      "outputs": [],
      "source": [
        "import sklearn\n",
        "X_train, y_train = sklearn.utils.shuffle(X_train, y_train)\n"
      ]
    },
    {
      "cell_type": "code",
      "execution_count": 58,
      "metadata": {
        "id": "nDBUjpkkSIq_",
        "colab": {
          "base_uri": "https://localhost:8080/"
        },
        "outputId": "6f3cac9f-b0af-465a-f198-5f6dfd281bc7"
      },
      "outputs": [
        {
          "output_type": "execute_result",
          "data": {
            "text/plain": [
              "{0: 0.3578906799574933, 1: 8.61451859857696, 2: 11.139878872583274}"
            ]
          },
          "metadata": {},
          "execution_count": 58
        }
      ],
      "source": [
        "# Considering class imbalance: class weightning to reduce the bias in the dataset\n",
        "\n",
        "from sklearn.utils.class_weight import compute_class_weight\n",
        "\n",
        "y_integers = np.argmax(y_train, axis=1)\n",
        "\n",
        "class_weights = compute_class_weight(\n",
        "                                      class_weight = \"balanced\",\n",
        "                                      classes = np.unique(y_integers),\n",
        "                                      y = y_integers\n",
        "                                    )\n",
        "\n",
        "class_weights = dict(zip(np.unique(y_integers), class_weights))\n",
        "class_weights\n"
      ]
    },
    {
      "cell_type": "code",
      "execution_count": 59,
      "metadata": {
        "id": "i_v9ToqUSKuH",
        "colab": {
          "base_uri": "https://localhost:8080/"
        },
        "outputId": "c9a56c49-d6b9-4a68-c4f2-27ff0c06175c"
      },
      "outputs": [
        {
          "output_type": "execute_result",
          "data": {
            "text/plain": [
              "((191294, 500), (191294, 3))"
            ]
          },
          "metadata": {},
          "execution_count": 59
        }
      ],
      "source": [
        "X_train.shape, y_train.shape"
      ]
    },
    {
      "cell_type": "code",
      "execution_count": 60,
      "metadata": {
        "id": "9rHEmOuGSW9J"
      },
      "outputs": [],
      "source": [
        "#class weights for validation set\n",
        "from sklearn.utils.class_weight import compute_class_weight\n",
        "\n",
        "y_integers = np.argmax(y_val, axis=1)\n",
        "\n",
        "class_weights_val = compute_class_weight(\n",
        "                                      class_weight = \"balanced\",\n",
        "                                      classes = np.unique(y_integers),\n",
        "                                      y = y_integers\n",
        "                                    )"
      ]
    },
    {
      "cell_type": "code",
      "execution_count": 61,
      "metadata": {
        "id": "qoE0_SDnSX43",
        "colab": {
          "base_uri": "https://localhost:8080/"
        },
        "outputId": "79c10f3f-0b10-45b1-eb71-04e0739d23fa"
      },
      "outputs": [
        {
          "output_type": "execute_result",
          "data": {
            "text/plain": [
              "array([0.36476555, 7.6759962 , 7.79807229])"
            ]
          },
          "metadata": {},
          "execution_count": 61
        }
      ],
      "source": [
        "class_weights_val"
      ]
    },
    {
      "cell_type": "code",
      "execution_count": 62,
      "metadata": {
        "id": "6CW6aF6ESddU"
      },
      "outputs": [],
      "source": [
        "decode = dict(N =  0, S = 1, V  = 2)"
      ]
    },
    {
      "cell_type": "code",
      "source": [
        "X_train.shape"
      ],
      "metadata": {
        "id": "2eLybYv7ZYiN",
        "colab": {
          "base_uri": "https://localhost:8080/"
        },
        "outputId": "086d531b-9e71-415e-96b7-7c80facd0f88"
      },
      "execution_count": 63,
      "outputs": [
        {
          "output_type": "execute_result",
          "data": {
            "text/plain": [
              "(191294, 500)"
            ]
          },
          "metadata": {},
          "execution_count": 63
        }
      ]
    },
    {
      "cell_type": "code",
      "execution_count": 64,
      "metadata": {
        "id": "v9aqX5BpSrYR"
      },
      "outputs": [],
      "source": [
        "samples_class_weights = []\n",
        "for y in y_val:\n",
        "  samples_class_weights.append(class_weights_val[ohe.inverse_transform([y])[0][0]])"
      ]
    },
    {
      "cell_type": "code",
      "execution_count": 65,
      "metadata": {
        "id": "6zLXhnQlSt3X"
      },
      "outputs": [],
      "source": [
        "# Here we load validation data, training data can be loaded with the batch generator below\n",
        "\n",
        "train_data = tf.data.Dataset.from_tensor_slices((X_train, y_train))\n",
        "validation_data = tf.data.Dataset.from_tensor_slices((X_val, y_val, samples_class_weights))\n"
      ]
    },
    {
      "cell_type": "code",
      "source": [
        "len(train_data)\n"
      ],
      "metadata": {
        "id": "H8tgIwt3YzzY",
        "colab": {
          "base_uri": "https://localhost:8080/"
        },
        "outputId": "3dc13a30-9896-48e0-9257-6c16dcb864b1"
      },
      "execution_count": 66,
      "outputs": [
        {
          "output_type": "execute_result",
          "data": {
            "text/plain": [
              "191294"
            ]
          },
          "metadata": {},
          "execution_count": 66
        }
      ]
    },
    {
      "cell_type": "code",
      "source": [
        "len(validation_data)"
      ],
      "metadata": {
        "id": "SdF_-uR2Y-Ti",
        "colab": {
          "base_uri": "https://localhost:8080/"
        },
        "outputId": "95593ec4-43bd-45a8-f4c8-1c6cc83ba4de"
      },
      "execution_count": 67,
      "outputs": [
        {
          "output_type": "execute_result",
          "data": {
            "text/plain": [
              "48543"
            ]
          },
          "metadata": {},
          "execution_count": 67
        }
      ]
    },
    {
      "cell_type": "code",
      "execution_count": 68,
      "metadata": {
        "id": "RooeTXhFSxTw"
      },
      "outputs": [],
      "source": [
        "import seaborn as sns\n",
        "from sklearn.metrics import ConfusionMatrixDisplay, classification_report\n",
        "from sklearn.metrics import confusion_matrix\n",
        "\n",
        "#utility to plot confusion matrix and evaluation metrics\n",
        "def evaluate_on_valid(model, batch_size, valid_to_use):\n",
        "  #Computing the prediction of the model on the validation set\n",
        "  predictions = []\n",
        "  for element in valid_to_use.batch(batch_size).as_numpy_iterator():\n",
        "      predictions.append(model.predict(element[0]))\n",
        "\n",
        "  predictions_f = [item for sublist in predictions for item in sublist]\n",
        "\n",
        "  predictions_oh = []\n",
        "  #transform prediction into one-hot-encoding\n",
        "  for i in range(len(predictions_f)):\n",
        "      predictions_oh.append(tf.one_hot(tf.argmax(predictions_f[i]), depth=3))\n",
        "\n",
        "  #Compute the true and prediction array in order to plot the confusion matrix\n",
        "  y = []\n",
        "\n",
        "  for y_t in y_val.tolist():\n",
        "      if(y_t == [1, 0, 0]):\n",
        "          y.append('N')\n",
        "      if(y_t == [0, 1 ,0]):\n",
        "          y.append('S')\n",
        "      if(y_t == [0, 0 ,1]):\n",
        "          y.append('V')\n",
        "\n",
        "  y_pred = []\n",
        "\n",
        "  for y_t in predictions_oh:\n",
        "      if(all(tf.equal(y_t, tf.constant([1, 0, 0], dtype=np.float32)))):\n",
        "          y_pred.append('N')\n",
        "      elif(all(tf.equal(y_t, tf.constant([0, 1, 0], dtype=np.float32)))):\n",
        "          y_pred.append('S')\n",
        "      elif(all(tf.equal(y_t, tf.constant([0, 0, 1], dtype=np.float32)))):\n",
        "          y_pred.append('V')\n",
        "      else:\n",
        "          print(y_t)\n",
        "\n",
        "  # Plot confusion matrix and metrics\n",
        "  ConfusionMatrixDisplay.from_predictions(y, y_pred, labels = ['N', 'S', 'V'])\n",
        "  ConfusionMatrixDisplay.from_predictions(y, y_pred, normalize='true', labels = ['N', 'S', 'V'])\n",
        "\n",
        "  print(classification_report(y,y_pred))"
      ]
    },
    {
      "cell_type": "code",
      "execution_count": 69,
      "metadata": {
        "id": "wgq5atdjSzyu"
      },
      "outputs": [],
      "source": [
        "import tensorflow as tf\n",
        "\n",
        "# Assuming win is defined somewhere earlier in your code\n",
        "win = 250\n",
        "\n",
        "# Define the seed for reproducibility\n",
        "SEED = 42\n",
        "\n",
        "vgg = tf.keras.Sequential()\n",
        "\n",
        "vgg.add(tf.keras.layers.Conv1D(input_shape=(500, 1), filters=32, kernel_size=3, padding=\"same\", activation=\"relu\", kernel_initializer=tf.keras.initializers.GlorotUniform(SEED)))\n",
        "vgg.add(tf.keras.layers.Conv1D(filters=32, kernel_size=3, padding=\"same\", activation=\"relu\", kernel_initializer=tf.keras.initializers.GlorotUniform(SEED)))\n",
        "vgg.add(tf.keras.layers.MaxPooling1D(pool_size=2, strides=2))\n",
        "vgg.add(tf.keras.layers.Conv1D(filters=64, kernel_size=3, padding=\"same\", activation=\"relu\", kernel_initializer=tf.keras.initializers.GlorotUniform(SEED)))\n",
        "vgg.add(tf.keras.layers.Conv1D(filters=64, kernel_size=3, padding=\"same\", activation=\"relu\", kernel_initializer=tf.keras.initializers.GlorotUniform(SEED)))\n",
        "vgg.add(tf.keras.layers.MaxPooling1D(pool_size=2, strides=2))\n",
        "vgg.add(tf.keras.layers.Conv1D(filters=128, kernel_size=3, padding=\"same\", activation=\"relu\", kernel_initializer=tf.keras.initializers.GlorotUniform(SEED)))\n",
        "vgg.add(tf.keras.layers.Conv1D(filters=128, kernel_size=3, padding=\"same\", activation=\"relu\", kernel_initializer=tf.keras.initializers.GlorotUniform(SEED)))\n",
        "vgg.add(tf.keras.layers.Conv1D(filters=128, kernel_size=3, padding=\"same\", activation=\"relu\", kernel_initializer=tf.keras.initializers.GlorotUniform(SEED)))\n",
        "vgg.add(tf.keras.layers.MaxPooling1D(pool_size=2, strides=2))\n",
        "vgg.add(tf.keras.layers.Conv1D(filters=256, kernel_size=3, padding=\"same\", activation=\"relu\", kernel_initializer=tf.keras.initializers.GlorotUniform(SEED)))\n",
        "vgg.add(tf.keras.layers.Conv1D(filters=256, kernel_size=3, padding=\"same\", activation=\"relu\", kernel_initializer=tf.keras.initializers.GlorotUniform(SEED)))\n",
        "vgg.add(tf.keras.layers.Conv1D(filters=256, kernel_size=3, padding=\"same\", activation=\"relu\", kernel_initializer=tf.keras.initializers.GlorotUniform(SEED)))\n",
        "vgg.add(tf.keras.layers.MaxPooling1D(pool_size=2, strides=2))\n",
        "vgg.add(tf.keras.layers.Conv1D(filters=256, kernel_size=3, padding=\"same\", activation=\"relu\", kernel_initializer=tf.keras.initializers.GlorotUniform(SEED)))\n",
        "vgg.add(tf.keras.layers.Conv1D(filters=256, kernel_size=3, padding=\"same\", activation=\"relu\", kernel_initializer=tf.keras.initializers.GlorotUniform(SEED)))\n",
        "vgg.add(tf.keras.layers.Conv1D(filters=256, kernel_size=3, padding=\"same\", activation=\"relu\", kernel_initializer=tf.keras.initializers.GlorotUniform(SEED)))\n",
        "vgg.add(tf.keras.layers.MaxPooling1D(pool_size=2, strides=2))\n",
        "vgg.add(tf.keras.layers.Flatten())\n",
        "vgg.add(tf.keras.layers.Dense(128, activation='relu', kernel_initializer=tf.keras.initializers.GlorotUniform(SEED)))\n",
        "vgg.add(tf.keras.layers.Dropout(0.3, seed=SEED))\n",
        "vgg.add(tf.keras.layers.Dense(3, activation='softmax'))\n",
        "\n",
        "vgg.compile(\n",
        "    optimizer=tf.keras.optimizers.Adam(learning_rate=1e-6),\n",
        "    loss='categorical_crossentropy',\n",
        "    metrics=['accuracy',\n",
        "             tf.keras.metrics.Precision(class_id=0),\n",
        "             tf.keras.metrics.Recall(class_id=0),\n",
        "             tf.keras.metrics.Precision(class_id=1),\n",
        "             tf.keras.metrics.Recall(class_id=1),\n",
        "             tf.keras.metrics.Precision(class_id=2),\n",
        "             tf.keras.metrics.Recall(class_id=2)]\n",
        ")"
      ]
    },
    {
      "cell_type": "code",
      "execution_count": 70,
      "metadata": {
        "id": "x5kTxsC9S1g_",
        "colab": {
          "base_uri": "https://localhost:8080/"
        },
        "outputId": "49740fc2-d44c-4df8-a6c5-fe8c34a505ce"
      },
      "outputs": [
        {
          "output_type": "stream",
          "name": "stdout",
          "text": [
            "Model: \"sequential\"\n",
            "_________________________________________________________________\n",
            " Layer (type)                Output Shape              Param #   \n",
            "=================================================================\n",
            " conv1d (Conv1D)             (None, 500, 32)           128       \n",
            "                                                                 \n",
            " conv1d_1 (Conv1D)           (None, 500, 32)           3104      \n",
            "                                                                 \n",
            " max_pooling1d (MaxPooling1  (None, 250, 32)           0         \n",
            " D)                                                              \n",
            "                                                                 \n",
            " conv1d_2 (Conv1D)           (None, 250, 64)           6208      \n",
            "                                                                 \n",
            " conv1d_3 (Conv1D)           (None, 250, 64)           12352     \n",
            "                                                                 \n",
            " max_pooling1d_1 (MaxPoolin  (None, 125, 64)           0         \n",
            " g1D)                                                            \n",
            "                                                                 \n",
            " conv1d_4 (Conv1D)           (None, 125, 128)          24704     \n",
            "                                                                 \n",
            " conv1d_5 (Conv1D)           (None, 125, 128)          49280     \n",
            "                                                                 \n",
            " conv1d_6 (Conv1D)           (None, 125, 128)          49280     \n",
            "                                                                 \n",
            " max_pooling1d_2 (MaxPoolin  (None, 62, 128)           0         \n",
            " g1D)                                                            \n",
            "                                                                 \n",
            " conv1d_7 (Conv1D)           (None, 62, 256)           98560     \n",
            "                                                                 \n",
            " conv1d_8 (Conv1D)           (None, 62, 256)           196864    \n",
            "                                                                 \n",
            " conv1d_9 (Conv1D)           (None, 62, 256)           196864    \n",
            "                                                                 \n",
            " max_pooling1d_3 (MaxPoolin  (None, 31, 256)           0         \n",
            " g1D)                                                            \n",
            "                                                                 \n",
            " conv1d_10 (Conv1D)          (None, 31, 256)           196864    \n",
            "                                                                 \n",
            " conv1d_11 (Conv1D)          (None, 31, 256)           196864    \n",
            "                                                                 \n",
            " conv1d_12 (Conv1D)          (None, 31, 256)           196864    \n",
            "                                                                 \n",
            " max_pooling1d_4 (MaxPoolin  (None, 15, 256)           0         \n",
            " g1D)                                                            \n",
            "                                                                 \n",
            " flatten (Flatten)           (None, 3840)              0         \n",
            "                                                                 \n",
            " dense (Dense)               (None, 128)               491648    \n",
            "                                                                 \n",
            " dropout (Dropout)           (None, 128)               0         \n",
            "                                                                 \n",
            " dense_1 (Dense)             (None, 3)                 387       \n",
            "                                                                 \n",
            "=================================================================\n",
            "Total params: 1719971 (6.56 MB)\n",
            "Trainable params: 1719971 (6.56 MB)\n",
            "Non-trainable params: 0 (0.00 Byte)\n",
            "_________________________________________________________________\n"
          ]
        }
      ],
      "source": [
        "vgg.summary()"
      ]
    },
    {
      "cell_type": "code",
      "source": [
        "train_data"
      ],
      "metadata": {
        "id": "cCpCGf4Aavvs",
        "colab": {
          "base_uri": "https://localhost:8080/"
        },
        "outputId": "72fafa32-0b3c-4e34-c93e-cd290f50f9bf"
      },
      "execution_count": 71,
      "outputs": [
        {
          "output_type": "execute_result",
          "data": {
            "text/plain": [
              "<_TensorSliceDataset element_spec=(TensorSpec(shape=(500,), dtype=tf.float32, name=None), TensorSpec(shape=(3,), dtype=tf.float64, name=None))>"
            ]
          },
          "metadata": {},
          "execution_count": 71
        }
      ]
    },
    {
      "cell_type": "code",
      "execution_count": 72,
      "metadata": {
        "id": "_URM0cd8S3zT",
        "colab": {
          "base_uri": "https://localhost:8080/"
        },
        "outputId": "2dd5e28c-abe7-4a86-e117-32fcf9071af5"
      },
      "outputs": [
        {
          "output_type": "stream",
          "name": "stdout",
          "text": [
            "5978/5978 [==============================] - ETA: 0s - loss: 0.4338 - accuracy: 0.9295 - precision: 0.9315 - recall: 0.8867 - precision_1: 0.0000e+00 - recall_1: 0.0000e+00 - precision_2: 0.0000e+00 - recall_2: 0.0000e+00"
          ]
        },
        {
          "output_type": "stream",
          "name": "stderr",
          "text": [
            "WARNING:tensorflow:`evaluate()` received a value for `sample_weight`, but `weighted_metrics` were not provided.  Did you mean to pass metrics to `weighted_metrics` in `compile()`?  If this is intentional you can pass `weighted_metrics=[]` to `compile()` in order to silence this warning.\n"
          ]
        },
        {
          "output_type": "stream",
          "name": "stdout",
          "text": [
            "\b\b\b\b\b\b\b\b\b\b\b\b\b\b\b\b\b\b\b\b\b\b\b\b\b\b\b\b\b\b\b\b\b\b\b\b\b\b\b\b\b\b\b\b\b\b\b\b\b\b\b\b\b\b\b\b\b\b\b\b\b\b\b\b\b\b\b\b\b\b\b\b\b\b\b\b\b\b\b\b\b\b\b\b\b\b\b\b\b\b\b\b\b\b\b\b\b\b\b\b\b\b\b\b\b\b\b\b\b\b\b\b\b\b\b\b\b\b\b\b\b\b\b\b\b\b\b\b\b\b\b\b\b\b\b\b\b\b\b\b\b\b\b\b\b\b\b\b\b\b\b\b\b\b\b\b\b\b\b\b\b\b\b\b\b\b\b\b\b\b\b\b\b\b\b\b\b\b\b\b\b\b\b\b\b\b\b\b\b\b\b\b\b\b\b\b\b\b\b\b\b\b\b\b\b\b\b\b\b\b\b\b\b\b\b\b\b\b\b\b\b\r5978/5978 [==============================] - 93s 14ms/step - loss: 0.4338 - accuracy: 0.9295 - precision: 0.9315 - recall: 0.8867 - precision_1: 0.0000e+00 - recall_1: 0.0000e+00 - precision_2: 0.0000e+00 - recall_2: 0.0000e+00 - val_loss: 2.3022 - val_accuracy: 0.9138 - val_precision: 0.9138 - val_recall: 1.0000 - val_precision_1: 0.0000e+00 - val_recall_1: 0.0000e+00 - val_precision_2: 0.0000e+00 - val_recall_2: 0.0000e+00\n"
          ]
        }
      ],
      "source": [
        "history = vgg.fit(train_data.batch(32),\n",
        "    validation_data=validation_data.batch(32),\n",
        "    shuffle= True,\n",
        "    epochs = 1,\n",
        "    callbacks = tf.keras.callbacks.EarlyStopping(monitor='val_loss', mode='min', patience=5, restore_best_weights=True),\n",
        ").history #10 epoche"
      ]
    },
    {
      "cell_type": "code",
      "source": [
        "import matplotlib.pyplot as plt\n",
        "import seaborn as sns\n",
        "from sklearn.metrics import confusion_matrix\n",
        "\n",
        "def plot_confusion_matrix(y_true, y_pred, classes, normalize=False, title=None, cmap=plt.cm.Blues):\n",
        "    \"\"\"\n",
        "    This function prints and plots the confusion matrix.\n",
        "    Normalization can be applied by setting `normalize=True`.\n",
        "    \"\"\"\n",
        "    if not title:\n",
        "        if normalize:\n",
        "            title = 'Normalized confusion matrix'\n",
        "        else:\n",
        "            title = 'Confusion matrix, without normalization'\n",
        "\n",
        "    # Compute confusion matrix\n",
        "    cm = confusion_matrix(y_true, y_pred)\n",
        "    # Plot confusion matrix\n",
        "    plt.figure(figsize=(8, 6))\n",
        "    plt.imshow(cm, interpolation='nearest', cmap=cmap)\n",
        "    plt.title(title)\n",
        "    plt.colorbar()\n",
        "    tick_marks = range(len(classes))\n",
        "    plt.xticks(tick_marks, classes, rotation=45)\n",
        "    plt.yticks(tick_marks, classes)\n",
        "\n",
        "    if normalize:\n",
        "        cm = cm.astype('float') / cm.sum(axis=1)[:, np.newaxis]\n",
        "        print(\"Normalized confusion matrix\")\n",
        "    else:\n",
        "        print('Confusion matrix, without normalization')\n",
        "\n",
        "    print(cm)\n",
        "\n",
        "    thresh = cm.max() / 2.\n",
        "    for i, j in itertools.product(range(cm.shape[0]), range(cm.shape[1])):\n",
        "        plt.text(j, i, \"{:0.2f}\".format(cm[i, j]),\n",
        "                 horizontalalignment=\"center\",\n",
        "                 color=\"white\" if cm[i, j] > thresh else \"black\")\n",
        "\n",
        "    plt.tight_layout()\n",
        "    plt.ylabel('True label')\n",
        "    plt.xlabel('Predicted label')\n",
        "    plt.show()\n",
        "\n",
        "# Example usage:\n",
        "# Assuming y_true and y_pred are your true and predicted labels, and classes is a list of class names\n",
        "# plot_confusion_matrix(y_true, y_pred, classes)\n"
      ],
      "metadata": {
        "id": "oRpaVI7hVMM4"
      },
      "execution_count": 78,
      "outputs": []
    },
    {
      "cell_type": "code",
      "source": [
        "# Assuming you have obtained predictions on your validation dataset\n",
        "predictions_val = vgg.predict(X_val)\n",
        "\n",
        "# Transform predictions into one-hot encoding\n",
        "predictions_oh_val = []\n",
        "for i in range(len(predictions_val)):\n",
        "    predictions_oh_val.append(tf.one_hot(tf.argmax(predictions_val[i]), depth=3))\n",
        "\n",
        "# Extract true labels from the validation dataset\n",
        "#y_val_true = [np.argmax(y.numpy()) for y in y_val]\n",
        "\n",
        "# Extract predicted labels from the one-hot encoded predictions\n",
        "#y_val_pred = [np.argmax(y.numpy()) for y in predictions_oh_val]\n",
        "\n",
        "# Plot confusion matrix\n",
        "#plot_confusion_matrix(y_val_true, y_val_pred, classes=['N', 'S', 'V'])\n"
      ],
      "metadata": {
        "colab": {
          "base_uri": "https://localhost:8080/"
        },
        "id": "jWc57E_HUZhB",
        "outputId": "93e460fd-e5fc-43dd-e41c-d716889dae4b"
      },
      "execution_count": 76,
      "outputs": [
        {
          "output_type": "stream",
          "name": "stdout",
          "text": [
            "1517/1517 [==============================] - 7s 5ms/step\n"
          ]
        }
      ]
    },
    {
      "cell_type": "code",
      "source": [
        "# Assuming y_val is a TensorFlow tensor\n",
        "if isinstance(y_val, tf.Tensor):\n",
        "    # Convert TensorFlow tensor to a NumPy array\n",
        "    y_val_numpy = y_val.numpy()\n",
        "else:\n",
        "    # If y_val is already a NumPy array, no need for conversion\n",
        "    y_val_numpy = y_val\n",
        "\n",
        "# Extract true labels from the validation dataset\n",
        "y_val_true = [np.argmax(y) for y in y_val_numpy]\n",
        "\n",
        "# Extract predicted labels from the one-hot encoded predictions\n",
        "y_val_pred = [np.argmax(y) for y in predictions_oh_val]\n",
        "\n",
        "# Plot confusion matrix\n",
        "plot_confusion_matrix(y_val_true, y_val_pred, classes=['N', 'S', 'V'])\n"
      ],
      "metadata": {
        "id": "hVWURg9ub0De",
        "colab": {
          "base_uri": "https://localhost:8080/",
          "height": 695
        },
        "outputId": "dc6e58b4-2151-4797-fbf6-db488f0cd819"
      },
      "execution_count": 79,
      "outputs": [
        {
          "output_type": "stream",
          "name": "stdout",
          "text": [
            "Confusion matrix, without normalization\n",
            "[[44360     0     0]\n",
            " [ 2108     0     0]\n",
            " [ 2075     0     0]]\n"
          ]
        },
        {
          "output_type": "display_data",
          "data": {
            "text/plain": [
              "<Figure size 800x600 with 2 Axes>"
            ],
            "image/png": "[encoded data removed]"
          },
          "metadata": {}
        }
      ]
    },
    {
      "cell_type": "code",
      "source": [
        "def build_lstm_model(input_shape):\n",
        "    model = Sequential()\n",
        "    model.add(tf.keras.layers.LSTM(64, return_sequences=False, input_shape=input_shape))\n",
        "    model.add(tf.keras.layers.Dense(32, activation='relu'))\n",
        "    model.add(tf.keras.layers.Dense(3, activation='softmax'))\n",
        "\n",
        "    model.compile(optimizer=tf.keras.optimizers.Adam(learning_rate=1e-3),\n",
        "                  loss=tf.keras.losses.CategoricalCrossentropy(),\n",
        "                  metrics=['accuracy'])\n",
        "\n",
        "    return model\n"
      ],
      "metadata": {
        "id": "KUWVx4t2dKDR"
      },
      "execution_count": 80,
      "outputs": []
    },
    {
      "cell_type": "code",
      "source": [
        "def build_bi_lstm_model(input_shape):\n",
        "    model = Sequential()\n",
        "    model.add(tf.keras.layers.Bidirectional(tf.keras.layers.LSTM(64, return_sequences=False), input_shape=input_shape))\n",
        "    model.add(tf.keras.layers.Dense(32, activation='relu'))\n",
        "    model.add(tf.keras.layers.Dense(3, activation='softmax'))\n",
        "\n",
        "    model.compile(optimizer=tf.keras.optimizers.Adam(learning_rate=1e-3),\n",
        "                  loss=tf.keras.losses.CategoricalCrossentropy(),\n",
        "                  metrics=['accuracy'])\n",
        "\n",
        "    return model\n"
      ],
      "metadata": {
        "id": "AyHpnvQ4dLAU"
      },
      "execution_count": 81,
      "outputs": []
    },
    {
      "cell_type": "code",
      "source": [
        "def build_1d_cnn_model(input_shape):\n",
        "    model = Sequential()\n",
        "    model.add(tf.keras.layers.Conv1D(filters=64, kernel_size=5, input_shape=input_shape, activation='relu'))\n",
        "    model.add(tf.keras.layers.Dropout(0.3))\n",
        "    model.add(tf.keras.layers.Flatten())\n",
        "    model.add(tf.keras.layers.Dense(32, activation='relu'))\n",
        "    model.add(tf.keras.layers.Dense(3, activation='softmax'))\n",
        "\n",
        "    model.compile(optimizer=tf.keras.optimizers.Adam(learning_rate=1e-3),\n",
        "                  loss=tf.keras.losses.CategoricalCrossentropy(),\n",
        "                  metrics=['accuracy'])\n",
        "\n",
        "    return model\n"
      ],
      "metadata": {
        "id": "fHsV66iMdN-7"
      },
      "execution_count": 82,
      "outputs": []
    },
    {
      "cell_type": "code",
      "source": [
        "# Assuming you have X_train, y_train, X_val, y_val defined with appropriate shapes\n",
        "\n",
        "# Define input shape\n",
        "input_shape = (500, 1)  # Adjust according to your data\n",
        "\n",
        "# Build the models\n",
        "lstm_model = build_lstm_model(input_shape)\n",
        "bi_lstm_model = build_bi_lstm_model(input_shape)\n",
        "cnn_model = build_1d_cnn_model(input_shape)\n",
        "\n",
        "# Train the models\n",
        "lstm_history = lstm_model.fit(X_train, y_train, validation_data=(X_val, y_val), epochs=10, batch_size=32, verbose=1)\n",
        "bi_lstm_history = bi_lstm_model.fit(X_train, y_train, validation_data=(X_val, y_val), epochs=10, batch_size=32, verbose=1)\n",
        "cnn_history = cnn_model.fit(X_train, y_train, validation_data=(X_val, y_val), epochs=10, batch_size=32, verbose=1)\n",
        "\n",
        "# Evaluate the models\n",
        "lstm_loss, lstm_accuracy = lstm_model.evaluate(X_val, y_val)\n",
        "bi_lstm_loss, bi_lstm_accuracy = bi_lstm_model.evaluate(X_val, y_val)\n",
        "cnn_loss, cnn_accuracy = cnn_model.evaluate(X_val, y_val)\n",
        "\n",
        "# Print evaluation results\n",
        "print(\"LSTM Model:\")\n",
        "#print(\"Validation Loss:\", lstm_loss)\n",
        "#print(\"Validation Accuracy:\", lstm_accuracy)\n",
        "\n",
        "print(\"Bi-LSTM Model:\")\n",
        "#print(\"Validation Loss:\", bi_lstm_loss)\n",
        "#print(\"Validation Accuracy:\", bi_lstm_accuracy)\n",
        "\n",
        "print(\"1D CNN Model:\")\n",
        "#print(\"Validation Loss:\", cnn_loss)\n",
        "#print(\"Validation Accuracy:\", cnn_accuracy)\n"
      ],
      "metadata": {
        "id": "4QNl02YMdbcF"
      },
      "execution_count": null,
      "outputs": []
    },
    {
      "cell_type": "code",
      "source": [
        "import numpy as np\n",
        "from sklearn.metrics import confusion_matrix\n",
        "import itertools\n",
        "import matplotlib.pyplot as plt\n",
        "\n",
        "# Define the plot_confusion_matrix function\n",
        "def plot_confusion_matrix(y_true, y_pred, classes,\n",
        "                          normalize=False,\n",
        "                          title=None,\n",
        "                          cmap=plt.cm.Blues):\n",
        "    \"\"\"\n",
        "    This function prints and plots the confusion matrix.\n",
        "    Normalization can be applied by setting `normalize=True`.\n",
        "    \"\"\"\n",
        "    if not title:\n",
        "        if normalize:\n",
        "            title = 'Normalized confusion matrix'\n",
        "        else:\n",
        "            title = 'Confusion matrix, without normalization'\n",
        "\n",
        "    # Compute confusion matrix\n",
        "    cm = confusion_matrix(y_true, y_pred)\n",
        "\n",
        "    if normalize:\n",
        "        cm = cm.astype('float') / cm.sum(axis=1)[:, np.newaxis]\n",
        "        print(\"Normalized confusion matrix\")\n",
        "    else:\n",
        "        print('Confusion matrix, without normalization')\n",
        "\n",
        "    plt.imshow(cm, interpolation='nearest', cmap=cmap)\n",
        "    plt.title(title)\n",
        "    plt.colorbar()\n",
        "    tick_marks = np.arange(len(classes))\n",
        "    plt.xticks(tick_marks, classes, rotation=45)\n",
        "    plt.yticks(tick_marks, classes)\n",
        "\n",
        "    fmt = '.2f' if normalize else 'd'\n",
        "    thresh = cm.max() / 2.\n",
        "    for i, j in itertools.product(range(cm.shape[0]), range(cm.shape[1])):\n",
        "        plt.text(j, i, format(cm[i, j], fmt),\n",
        "                 horizontalalignment=\"center\",\n",
        "                 color=\"white\" if cm[i, j] > thresh else \"black\")\n",
        "\n",
        "    plt.ylabel('True label')\n",
        "    plt.xlabel('Predicted label')\n",
        "    plt.tight_layout()\n",
        "\n",
        "    # Show plot\n",
        "    plt.show()\n",
        "\n",
        "# Plot confusion matrix for LSTM model\n",
        "lstm_predictions = lstm_model.predict(X_val)\n",
        "lstm_predictions_classes = np.argmax(lstm_predictions, axis=1)\n",
        "plot_confusion_matrix(np.argmax(y_val, axis=1), lstm_predictions_classes, classes=['N', 'S', 'V'])\n",
        "\n",
        "# Plot confusion matrix for Bi-LSTM model\n",
        "bi_lstm_predictions = bi_lstm_model.predict(X_val)\n",
        "bi_lstm_predictions_classes = np.argmax(bi_lstm_predictions, axis=1)\n",
        "plot_confusion_matrix(np.argmax(y_val, axis=1), bi_lstm_predictions_classes, classes=['N', 'S', 'V'])\n",
        "\n",
        "# Plot confusion matrix for 1D CNN model\n",
        "cnn_predictions = cnn_model.predict(X_val)\n",
        "cnn_predictions_classes = np.argmax(cnn_predictions, axis=1)\n",
        "plot_confusion_matrix(np.argmax(y_val, axis=1), cnn_predictions_classes, classes=['N', 'S', 'V'])\n"
      ],
      "metadata": {
        "id": "K55S8gPUsKwI"
      },
      "execution_count": null,
      "outputs": []
    },
    {
      "cell_type": "code",
      "source": [
        "# @title Resampling\n",
        "y_l = y_train.tolist()\n",
        "len([i for i in y_l if i == [1,0,0]]), len([i for i in y_l if i == [0,1,0]]), len([i for i in y_l if i == [0,0,1]])\n"
      ],
      "metadata": {
        "id": "Um4YQI74jJuq",
        "colab": {
          "base_uri": "https://localhost:8080/"
        },
        "outputId": "47cdbec9-3145-4824-dbf9-4b11c367245f"
      },
      "execution_count": 85,
      "outputs": [
        {
          "output_type": "execute_result",
          "data": {
            "text/plain": [
              "(178168, 7402, 5724)"
            ]
          },
          "metadata": {},
          "execution_count": 85
        }
      ]
    },
    {
      "cell_type": "code",
      "source": [
        "from imblearn.over_sampling import SMOTE, RandomOverSampler\n",
        "from imblearn.under_sampling import NearMiss, RandomUnderSampler\n",
        "\n",
        "smote_dict = {1: 40000, 2: 40000}\n",
        "\n",
        "# Oversampling performed by SMOTE algorithm\n",
        "#X_train, y_train = SMOTE(random_state=SEED, sampling_strategy= smote_dict ).fit_resample(X_train, y_train)\n",
        "X_train, y_train = SMOTE(random_state=SEED, sampling_strategy={0: 178168, 1: int(7402 * 5), 2: int(5724 * 6)} ).fit_resample(X_train, y_train) # used on BEST\n"
      ],
      "metadata": {
        "id": "CkTKmE0mxApR"
      },
      "execution_count": 86,
      "outputs": []
    },
    {
      "cell_type": "code",
      "source": [
        "y_l = y_train.tolist()\n",
        "len([i for i in y_l if i == [1,0,0]]), len([i for i in y_l if i == [0,1,0]]), len([i for i in y_l if i == [0,0,1]])"
      ],
      "metadata": {
        "id": "dTG4E6VBzqOP",
        "colab": {
          "base_uri": "https://localhost:8080/"
        },
        "outputId": "bd782c3d-6d39-449a-a627-e62224b05a4a"
      },
      "execution_count": 87,
      "outputs": [
        {
          "output_type": "execute_result",
          "data": {
            "text/plain": [
              "(178168, 37010, 34344)"
            ]
          },
          "metadata": {},
          "execution_count": 87
        }
      ]
    },
    {
      "cell_type": "code",
      "source": [
        "near_miss_dict = {0: 40000}\n",
        "\n",
        "# Undersampling performed by NearMiss algorithm\n",
        "#X_train, y_train = NearMiss(sampling_strategy=near_miss_dict).fit_resample(X_train, y_train)\n",
        "X_train, y_train = RandomUnderSampler(random_state=SEED,sampling_strategy={0: int(178168*0.5), 1: int(7402 * 5), 2: int(5724 * 6)}).fit_resample(X_train, y_train) # used on BEST\n",
        "#X_train, y_train = RandomUnderSampler(sampling_strategy='majority').fit_resample(X_train, y_train)"
      ],
      "metadata": {
        "id": "uQQgvKsbzw3l"
      },
      "execution_count": 88,
      "outputs": []
    },
    {
      "cell_type": "code",
      "source": [
        "y_l = y_train.tolist()\n",
        "len([i for i in y_l if i == [1,0,0]]), len([i for i in y_l if i == [0,1,0]]), len([i for i in y_l if i == [0,0,1]])\n"
      ],
      "metadata": {
        "id": "eK9i-wzqz8Re",
        "colab": {
          "base_uri": "https://localhost:8080/"
        },
        "outputId": "ad40b944-1d36-45aa-a74d-aeb682c14c86"
      },
      "execution_count": 89,
      "outputs": [
        {
          "output_type": "execute_result",
          "data": {
            "text/plain": [
              "(89084, 37010, 34344)"
            ]
          },
          "metadata": {},
          "execution_count": 89
        }
      ]
    },
    {
      "cell_type": "code",
      "source": [
        "# if 2 leads where used we remap it to the correct shape\n",
        "X_train = X_train.reshape(-1, win*2)\n",
        "\n",
        "X_train.shape"
      ],
      "metadata": {
        "id": "pZIGn76Q0Aq-",
        "colab": {
          "base_uri": "https://localhost:8080/"
        },
        "outputId": "8e50b26a-fe84-46cf-c921-bc0ea4ad4ba0"
      },
      "execution_count": 90,
      "outputs": [
        {
          "output_type": "execute_result",
          "data": {
            "text/plain": [
              "(160438, 500)"
            ]
          },
          "metadata": {},
          "execution_count": 90
        }
      ]
    },
    {
      "cell_type": "code",
      "source": [
        "# Assuming you have X_train, y_train, X_val, y_val defined with appropriate shapes\n",
        "\n",
        "# Define input shape\n",
        "input_shape = (500, 1)  # Adjust according to your data\n",
        "\n",
        "# Build the models\n",
        "lstm_model = build_lstm_model(input_shape)\n",
        "bi_lstm_model = build_bi_lstm_model(input_shape)\n",
        "cnn_model = build_1d_cnn_model(input_shape)\n",
        "\n",
        "# Train the models\n",
        "lstm_history = lstm_model.fit(X_train, y_train, validation_data=(X_val, y_val), epochs=10, batch_size=32, verbose=1)\n",
        "#bi_lstm_history = bi_lstm_model.fit(X_train, y_train, validation_data=(X_val, y_val), epochs=10, batch_size=32, verbose=1)\n",
        "#cnn_history = cnn_model.fit(X_train, y_train, validation_data=(X_val, y_val), epochs=10, batch_size=32, verbose=1)\n",
        "\n",
        "# Evaluate the models\n",
        "lstm_loss, lstm_accuracy = lstm_model.evaluate(X_val, y_val)\n",
        "#bi_lstm_loss, bi_lstm_accuracy = bi_lstm_model.evaluate(X_val, y_val)\n",
        "#cnn_loss, cnn_accuracy = cnn_model.evaluate(X_val, y_val)\n",
        "\n",
        "# Print evaluation results\n",
        "print(\"LSTM Model:\")\n",
        "print(\"Validation Loss:\", lstm_loss)\n",
        "print(\"Validation Accuracy:\", lstm_accuracy)\n",
        "\n",
        "#print(\"Bi-LSTM Model:\")\n",
        "#print(\"Validation Loss:\", bi_lstm_loss)\n",
        "#print(\"Validation Accuracy:\", bi_lstm_accuracy)\n",
        "\n",
        "#print(\"1D CNN Model:\")\n",
        "#print(\"Validation Loss:\", cnn_loss)\n",
        "#print(\"Validation Accuracy:\", cnn_accuracy)\n"
      ],
      "metadata": {
        "id": "pfxig8fI02zk",
        "colab": {
          "base_uri": "https://localhost:8080/"
        },
        "outputId": "c257353b-4f5c-4a4c-df20-ad248a47d0cf"
      },
      "execution_count": 91,
      "outputs": [
        {
          "output_type": "stream",
          "name": "stdout",
          "text": [
            "Epoch 1/10\n",
            "5014/5014 [==============================] - 112s 22ms/step - loss: 0.9872 - accuracy: 0.5558 - val_loss: 0.6924 - val_accuracy: 0.9138\n",
            "Epoch 2/10\n",
            "5014/5014 [==============================] - 108s 22ms/step - loss: 0.9838 - accuracy: 0.5576 - val_loss: 0.7136 - val_accuracy: 0.9138\n",
            "Epoch 3/10\n",
            "5014/5014 [==============================] - 98s 20ms/step - loss: 0.9793 - accuracy: 0.5559 - val_loss: 0.6630 - val_accuracy: 0.9138\n",
            "Epoch 4/10\n",
            "5014/5014 [==============================] - 106s 21ms/step - loss: 0.9466 - accuracy: 0.5783 - val_loss: 0.6085 - val_accuracy: 0.8429\n",
            "Epoch 5/10\n",
            "5014/5014 [==============================] - 108s 22ms/step - loss: 0.8451 - accuracy: 0.6544 - val_loss: 0.5644 - val_accuracy: 0.8595\n",
            "Epoch 6/10\n",
            "5014/5014 [==============================] - 99s 20ms/step - loss: 0.8675 - accuracy: 0.6303 - val_loss: 0.6813 - val_accuracy: 0.7376\n",
            "Epoch 7/10\n",
            "5014/5014 [==============================] - 99s 20ms/step - loss: 0.8541 - accuracy: 0.6195 - val_loss: 0.7349 - val_accuracy: 0.9102\n",
            "Epoch 8/10\n",
            "5014/5014 [==============================] - 96s 19ms/step - loss: 0.9573 - accuracy: 0.5636 - val_loss: 0.7981 - val_accuracy: 0.6125\n",
            "Epoch 9/10\n",
            "5014/5014 [==============================] - 102s 20ms/step - loss: 0.9297 - accuracy: 0.5872 - val_loss: 0.6442 - val_accuracy: 0.9134\n",
            "Epoch 10/10\n",
            "5014/5014 [==============================] - 103s 21ms/step - loss: 0.9568 - accuracy: 0.5696 - val_loss: 0.6754 - val_accuracy: 0.8289\n",
            "1517/1517 [==============================] - 13s 9ms/step - loss: 0.6754 - accuracy: 0.8289\n",
            "LSTM Model:\n",
            "Validation Loss: 0.6753829121589661\n",
            "Validation Accuracy: 0.8289351463317871\n"
          ]
        }
      ]
    },
    {
      "cell_type": "code",
      "source": [
        "import numpy as np\n",
        "from sklearn.metrics import confusion_matrix\n",
        "import itertools\n",
        "import matplotlib.pyplot as plt\n",
        "\n",
        "# Define the plot_confusion_matrix function\n",
        "def plot_confusion_matrix(y_true, y_pred, classes,\n",
        "                          normalize=False,\n",
        "                          title=None,\n",
        "                          cmap=plt.cm.Blues):\n",
        "    \"\"\"\n",
        "    This function prints and plots the confusion matrix.\n",
        "    Normalization can be applied by setting `normalize=True`.\n",
        "    \"\"\"\n",
        "    if not title:\n",
        "        if normalize:\n",
        "            title = 'Normalized confusion matrix'\n",
        "        else:\n",
        "            title = 'Confusion matrix, without normalization'\n",
        "\n",
        "    # Compute confusion matrix\n",
        "    cm = confusion_matrix(y_true, y_pred)\n",
        "\n",
        "    if normalize:\n",
        "        cm = cm.astype('float') / cm.sum(axis=1)[:, np.newaxis]\n",
        "        print(\"Normalized confusion matrix\")\n",
        "    else:\n",
        "        print('Confusion matrix, without normalization')\n",
        "\n",
        "    plt.imshow(cm, interpolation='nearest', cmap=cmap)\n",
        "    plt.title(title)\n",
        "    plt.colorbar()\n",
        "    tick_marks = np.arange(len(classes))\n",
        "    plt.xticks(tick_marks, classes, rotation=45)\n",
        "    plt.yticks(tick_marks, classes)\n",
        "\n",
        "    fmt = '.2f' if normalize else 'd'\n",
        "    thresh = cm.max() / 2.\n",
        "    for i, j in itertools.product(range(cm.shape[0]), range(cm.shape[1])):\n",
        "        plt.text(j, i, format(cm[i, j], fmt),\n",
        "                 horizontalalignment=\"center\",\n",
        "                 color=\"white\" if cm[i, j] > thresh else \"black\")\n",
        "\n",
        "    plt.ylabel('True label')\n",
        "    plt.xlabel('Predicted label')\n",
        "    plt.tight_layout()\n",
        "\n",
        "    # Show plot\n",
        "    plt.show()\n",
        "\n",
        "# Plot confusion matrix for LSTM model\n",
        "lstm_predictions = lstm_model.predict(X_val)\n",
        "lstm_predictions_classes = np.argmax(lstm_predictions, axis=1)\n",
        "plot_confusion_matrix(np.argmax(y_val, axis=1), lstm_predictions_classes, classes=['N', 'S', 'V'])\n",
        "\n",
        "# Plot confusion matrix for Bi-LSTM model\n",
        "#bi_lstm_predictions = bi_lstm_model.predict(X_val)\n",
        "#bi_lstm_predictions_classes = np.argmax(bi_lstm_predictions, axis=1)\n",
        "#plot_confusion_matrix(np.argmax(y_val, axis=1), bi_lstm_predictions_classes, classes=['N', 'S', 'V'])\n",
        "\n",
        "# Plot confusion matrix for 1D CNN model\n",
        "#cnn_predictions = cnn_model.predict(X_val)\n",
        "#cnn_predictions_classes = np.argmax(cnn_predictions, axis=1)\n",
        "#plot_confusion_matrix(np.argmax(y_val, axis=1), cnn_predictions_classes, classes=['N', 'S', 'V'])\n"
      ],
      "metadata": {
        "id": "59BHUZ191JmP",
        "colab": {
          "base_uri": "https://localhost:8080/",
          "height": 522
        },
        "outputId": "b61ffab5-6b7c-4b5e-f3c4-2ced1e321b8b"
      },
      "execution_count": 92,
      "outputs": [
        {
          "output_type": "stream",
          "name": "stdout",
          "text": [
            "1517/1517 [==============================] - 13s 8ms/step\n",
            "Confusion matrix, without normalization\n"
          ]
        },
        {
          "output_type": "display_data",
          "data": {
            "text/plain": [
              "<Figure size 640x480 with 2 Axes>"
            ],
            "image/png": "[encoded data removed]"
          },
          "metadata": {}
        }
      ]
    },
    {
      "cell_type": "code",
      "source": [
        "# Train the models\n",
        "\n",
        "bi_lstm_history = bi_lstm_model.fit(X_train, y_train, validation_data=(X_val, y_val), epochs=10, batch_size=32, verbose=1)\n",
        "cnn_history = cnn_model.fit(X_train, y_train, validation_data=(X_val, y_val), epochs=10, batch_size=32, verbose=1)\n",
        "\n",
        "# Evaluate the models\n",
        "\n",
        "bi_lstm_loss, bi_lstm_accuracy = bi_lstm_model.evaluate(X_val, y_val)\n",
        "cnn_loss, cnn_accuracy = cnn_model.evaluate(X_val, y_val)\n",
        "\n",
        "\n",
        "\n",
        "print(\"Bi-LSTM Model:\")\n",
        "print(\"Validation Loss:\", bi_lstm_loss)\n",
        "print(\"Validation Accuracy:\", bi_lstm_accuracy)\n",
        "\n",
        "print(\"1D CNN Model:\")\n",
        "print(\"Validation Loss:\", cnn_loss)\n",
        "print(\"Validation Accuracy:\", cnn_accuracy)\n"
      ],
      "metadata": {
        "colab": {
          "base_uri": "https://localhost:8080/"
        },
        "id": "zq7RFB8raJoY",
        "outputId": "4642b6aa-0cd5-4cfe-cb37-c4424262d8a3"
      },
      "execution_count": 94,
      "outputs": [
        {
          "output_type": "stream",
          "name": "stdout",
          "text": [
            "Epoch 1/10\n",
            "5014/5014 [==============================] - 184s 36ms/step - loss: 0.8526 - accuracy: 0.6259 - val_loss: 0.6723 - val_accuracy: 0.7556\n",
            "Epoch 2/10\n",
            "5014/5014 [==============================] - 176s 35ms/step - loss: 0.6880 - accuracy: 0.7119 - val_loss: 0.7243 - val_accuracy: 0.7520\n",
            "Epoch 3/10\n",
            "5014/5014 [==============================] - 175s 35ms/step - loss: 0.8213 - accuracy: 0.6451 - val_loss: 0.5743 - val_accuracy: 0.8208\n",
            "Epoch 4/10\n",
            "5014/5014 [==============================] - 174s 35ms/step - loss: 0.8168 - accuracy: 0.6439 - val_loss: 0.6083 - val_accuracy: 0.7842\n",
            "Epoch 5/10\n",
            "5014/5014 [==============================] - 174s 35ms/step - loss: 0.6660 - accuracy: 0.7189 - val_loss: 0.5426 - val_accuracy: 0.8437\n",
            "Epoch 6/10\n",
            "5014/5014 [==============================] - 173s 35ms/step - loss: 0.6080 - accuracy: 0.7459 - val_loss: 0.4941 - val_accuracy: 0.8628\n",
            "Epoch 7/10\n",
            "5014/5014 [==============================] - 175s 35ms/step - loss: 0.5655 - accuracy: 0.7656 - val_loss: 0.4950 - val_accuracy: 0.8626\n",
            "Epoch 8/10\n",
            "5014/5014 [==============================] - 173s 34ms/step - loss: 0.5475 - accuracy: 0.7740 - val_loss: 0.4473 - val_accuracy: 0.8787\n",
            "Epoch 9/10\n",
            "5014/5014 [==============================] - 171s 34ms/step - loss: 0.5184 - accuracy: 0.7880 - val_loss: 0.4728 - val_accuracy: 0.8593\n",
            "Epoch 10/10\n",
            "5014/5014 [==============================] - 174s 35ms/step - loss: 0.5000 - accuracy: 0.7952 - val_loss: 0.4846 - val_accuracy: 0.8680\n",
            "Epoch 1/10\n",
            "5014/5014 [==============================] - 25s 5ms/step - loss: 0.6073 - accuracy: 0.7507 - val_loss: 0.5508 - val_accuracy: 0.8442\n",
            "Epoch 2/10\n",
            "5014/5014 [==============================] - 23s 5ms/step - loss: 0.5382 - accuracy: 0.7811 - val_loss: 0.5669 - val_accuracy: 0.8470\n",
            "Epoch 3/10\n",
            "5014/5014 [==============================] - 23s 5ms/step - loss: 0.5160 - accuracy: 0.7915 - val_loss: 0.5085 - val_accuracy: 0.8635\n",
            "Epoch 4/10\n",
            "5014/5014 [==============================] - 24s 5ms/step - loss: 0.5037 - accuracy: 0.7963 - val_loss: 0.5408 - val_accuracy: 0.8552\n",
            "Epoch 5/10\n",
            "5014/5014 [==============================] - 25s 5ms/step - loss: 0.4921 - accuracy: 0.8021 - val_loss: 0.5665 - val_accuracy: 0.8514\n",
            "Epoch 6/10\n",
            "5014/5014 [==============================] - 23s 5ms/step - loss: 0.4843 - accuracy: 0.8050 - val_loss: 0.5368 - val_accuracy: 0.8555\n",
            "Epoch 7/10\n",
            "5014/5014 [==============================] - 25s 5ms/step - loss: 0.4759 - accuracy: 0.8074 - val_loss: 0.5271 - val_accuracy: 0.8633\n",
            "Epoch 8/10\n",
            "5014/5014 [==============================] - 23s 5ms/step - loss: 0.4704 - accuracy: 0.8103 - val_loss: 0.5753 - val_accuracy: 0.8511\n",
            "Epoch 9/10\n",
            "5014/5014 [==============================] - 26s 5ms/step - loss: 0.4625 - accuracy: 0.8127 - val_loss: 0.6154 - val_accuracy: 0.8364\n",
            "Epoch 10/10\n",
            "5014/5014 [==============================] - 26s 5ms/step - loss: 0.4623 - accuracy: 0.8150 - val_loss: 0.5837 - val_accuracy: 0.8473\n",
            "1517/1517 [==============================] - 24s 16ms/step - loss: 0.4846 - accuracy: 0.8680\n",
            "1517/1517 [==============================] - 5s 3ms/step - loss: 0.5837 - accuracy: 0.8473\n",
            "Bi-LSTM Model:\n",
            "Validation Loss: 0.4846203029155731\n",
            "Validation Accuracy: 0.8680139183998108\n",
            "1D CNN Model:\n",
            "Validation Loss: 0.5837379097938538\n",
            "Validation Accuracy: 0.8472900390625\n"
          ]
        }
      ]
    },
    {
      "cell_type": "code",
      "source": [
        "# Plot confusion matrix for Bi-LSTM model\n",
        "bi_lstm_predictions = bi_lstm_model.predict(X_val)\n",
        "bi_lstm_predictions_classes = np.argmax(bi_lstm_predictions, axis=1)\n",
        "plot_confusion_matrix(np.argmax(y_val, axis=1), bi_lstm_predictions_classes, classes=['N', 'S', 'V'])\n",
        "\n",
        "# Plot confusion matrix for 1D CNN model\n",
        "cnn_predictions = cnn_model.predict(X_val)\n",
        "cnn_predictions_classes = np.argmax(cnn_predictions, axis=1)\n",
        "plot_confusion_matrix(np.argmax(y_val, axis=1), cnn_predictions_classes, classes=['N', 'S', 'V'])"
      ],
      "metadata": {
        "colab": {
          "base_uri": "https://localhost:8080/",
          "height": 1000
        },
        "id": "3m8ZRaPAadLO",
        "outputId": "d45f86b4-8b4d-4689-97f2-b2f1f8b276b3"
      },
      "execution_count": 95,
      "outputs": [
        {
          "output_type": "stream",
          "name": "stdout",
          "text": [
            "1517/1517 [==============================] - 26s 17ms/step\n",
            "Confusion matrix, without normalization\n"
          ]
        },
        {
          "output_type": "display_data",
          "data": {
            "text/plain": [
              "<Figure size 640x480 with 2 Axes>"
            ],
            "image/png": "[encoded data removed]"
          },
          "metadata": {}
        },
        {
          "output_type": "stream",
          "name": "stdout",
          "text": [
            "1517/1517 [==============================] - 3s 2ms/step\n",
            "Confusion matrix, without normalization\n"
          ]
        },
        {
          "output_type": "display_data",
          "data": {
            "text/plain": [
              "<Figure size 640x480 with 2 Axes>"
            ],
            "image/png": "[encoded data removed]"
          },
          "metadata": {}
        }
      ]
    }
  ],
  "metadata": {
    "accelerator": "GPU",
    "colab": {
      "gpuType": "T4",
      "provenance": []
    },
    "kernelspec": {
      "display_name": "Python 3",
      "name": "python3"
    },
    "language_info": {
      "name": "python"
    }
  },
  "nbformat": 4,
  "nbformat_minor": 0
}