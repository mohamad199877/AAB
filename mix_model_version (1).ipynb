{
  "cells": [
    {
      "cell_type": "code",
      "execution_count": 1,
      "metadata": {
        "colab": {
          "base_uri": "https://localhost:8080/"
        },
        "id": "wVGmBzmBs_2Q",
        "outputId": "4326d22c-15a1-4958-d2d8-61494e7f5522"
      },
      "outputs": [
        {
          "output_type": "stream",
          "name": "stdout",
          "text": [
            "Mounted at /gdrive\n",
            "/gdrive/My Drive/train\n"
          ]
        }
      ],
      "source": [
        "from google.colab import drive\n",
        "drive.mount('/gdrive')\n",
        "%cd /gdrive/My Drive/train"
      ]
    },
    {
      "cell_type": "code",
      "execution_count": 2,
      "metadata": {
        "id": "TKVLeathtJUv"
      },
      "outputs": [],
      "source": [
        "from scipy.io import loadmat\n",
        "import numpy as np, os, sys, joblib\n",
        "import matplotlib.pyplot as plt\n",
        "import math\n",
        "from tqdm import tqdm\n",
        "import pandas as pd\n",
        "import random\n",
        "import tensorflow as tf\n",
        "from tensorflow.keras.models import Sequential\n",
        "import sklearn\n",
        "from collections import Counter\n",
        "import matplotlib.pyplot as plt\n",
        "import seaborn as sns\n",
        "from sklearn.metrics import confusion_matrix\n",
        "import itertools\n",
        "\n",
        "\n",
        "\n",
        "SEED = 1234\n",
        "np.random.seed(SEED)\n",
        "pd.core.common._random_stat = SEED\n",
        "random.seed(SEED)\n",
        "os.environ['PYTHONHASHSEED'] = str(SEED)"
      ]
    },
    {
      "cell_type": "code",
      "execution_count": 3,
      "metadata": {
        "id": "YHNgk9_6tQR3"
      },
      "outputs": [],
      "source": [
        "from sklearn.model_selection import train_test_split\n",
        "import os\n",
        "import re"
      ]
    },
    {
      "cell_type": "code",
      "execution_count": 4,
      "metadata": {
        "id": "EE3aHHDftSmF"
      },
      "outputs": [],
      "source": [
        "path_to_data = \"/gdrive/My Drive/train\""
      ]
    },
    {
      "cell_type": "code",
      "execution_count": 5,
      "metadata": {
        "id": "lpFx7BJYtXh2"
      },
      "outputs": [],
      "source": [
        "def load_data(file):\n",
        "\n",
        "  original = loadmat(file) #  dictionary with variable names as keys, and loaded matrices as values\n",
        "\n",
        "  spk_file = file.replace('.mat', '_spk.mat')\n",
        "  spk = loadmat(spk_file)\n",
        "\n",
        "  ann_file = file.replace('.mat', '_ann.mat')\n",
        "  ann = loadmat(ann_file)\n",
        "\n",
        "  return original, spk, ann"
      ]
    },
    {
      "cell_type": "code",
      "execution_count": 6,
      "metadata": {
        "id": "Epu0GFrYta5W"
      },
      "outputs": [],
      "source": [
        "def filter_files_by_pattern(directory, pattern):\n",
        "    \"\"\"\n",
        "    Filter files in a directory based on a specified pattern.\n",
        "\n",
        "    Parameters:\n",
        "    - directory: The directory containing the files.\n",
        "    - pattern: The regular expression pattern to match filenames.\n",
        "\n",
        "    Returns:\n",
        "    - List of filenames matching the pattern.\n",
        "    \"\"\"\n",
        "    files = os.listdir(directory)\n",
        "    filtered_files = [file for file in files if re.match(pattern, file)]\n",
        "    return filtered_files"
      ]
    },
    {
      "cell_type": "code",
      "execution_count": 7,
      "metadata": {
        "colab": {
          "base_uri": "https://localhost:8080/"
        },
        "id": "kRJNY33Gtbft",
        "outputId": "c9fc9308-5cc3-441c-cdcb-2818826aaa0b"
      },
      "outputs": [
        {
          "output_type": "stream",
          "name": "stdout",
          "text": [
            "['S120_250.mat', 'S114_250.mat', 'S116_250.mat', 'S109_250.mat', 'S115_250.mat', 'S117_250.mat', 'S119_250.mat', 'S110_250.mat', 'S113_250.mat', 'S102_250.mat', 'S108_250.mat', 'S121_250.mat', 'S106_250.mat', 'S112_250.mat', 'S111_250.mat', 'S095_250.mat', 'S084_250.mat', 'S088_250.mat', 'S099_250.mat', 'S118_250.mat', 'S098_250.mat', 'S091_250.mat', 'S097_250.mat', 'S103_250.mat', 'S093_250.mat', 'S105_250.mat', 'S101_250.mat', 'S094_250.mat', 'S087_250.mat', 'S100_250.mat', 'S096_250.mat', 'S104_250.mat', 'S092_250.mat', 'S042_128.mat', 'S062_128.mat', 'S057_128.mat', 'S055_128.mat', 'S053_128.mat', 'S081_250.mat', 'S051_128.mat', 'S080_250.mat', 'S052_128.mat', 'S060_128.mat', 'S089_250.mat', 'S059_128.mat', 'S061_128.mat', 'S085_250.mat', 'S044_128.mat', 'S090_250.mat', 'S054_128.mat', 'S082_250.mat', 'S083_250.mat', 'S058_128.mat', 'S049_128.mat', 'S086_250.mat', 'S046_128.mat', 'S048_128.mat', 'S041_128.mat', 'S039_128.mat', 'S079_250.mat', 'S043_128.mat', 'S021_128.mat', 'S024_128.mat', 'S026_128.mat', 'S020_128.mat', 'S107_250.mat', 'S030_128.mat', 'S010_128.mat', 'S028_128.mat', 'S037_128.mat', 'S019_128.mat', 'S038_128.mat', 'S018_128.mat', 'S023_128.mat', 'S045_128.mat', 'S036_128.mat', 'S014_128.mat', 'S040_128.mat', 'S029_128.mat', 'S047_128.mat', 'S031_128.mat', 'S025_128.mat', 'S034_128.mat', 'S050_128.mat', 'S027_128.mat', 'S035_128.mat', 'S032_128.mat', 'S015_128.mat', 'S022_128.mat', 'S016_128.mat', 'S017_128.mat', 'S007_128.mat', 'S005_128.mat', 'S004_128.mat', 'S001_128.mat', 'S008_128.mat', 'S009_128.mat', 'S011_128.mat', 'S002_128.mat', 'S013_128.mat', 'S033_128.mat', 'S056_128.mat', 'S006_128.mat', 'S012_128.mat', 'S003_128.mat']\n"
          ]
        }
      ],
      "source": [
        "directory = path_to_data\n",
        "pattern = r'S\\d{3}_\\d{3}\\.mat'  # Regular expression pattern matching 'SXXX_YYY.mat'\n",
        "\n",
        "filtered_files = filter_files_by_pattern(directory, pattern)\n",
        "print(filtered_files)"
      ]
    },
    {
      "cell_type": "code",
      "execution_count": 8,
      "metadata": {
        "id": "FLUMQvvStgth"
      },
      "outputs": [],
      "source": [
        "train_files = filtered_files[:round(len(filtered_files)*0.8)]"
      ]
    },
    {
      "cell_type": "code",
      "execution_count": 9,
      "metadata": {
        "id": "bZ_v5zVHtjXR",
        "colab": {
          "base_uri": "https://localhost:8080/"
        },
        "outputId": "24641512-6cc0-4204-b3ad-fa508e8315fb"
      },
      "outputs": [
        {
          "output_type": "execute_result",
          "data": {
            "text/plain": [
              "['S120_250.mat',\n",
              " 'S114_250.mat',\n",
              " 'S116_250.mat',\n",
              " 'S109_250.mat',\n",
              " 'S115_250.mat',\n",
              " 'S117_250.mat',\n",
              " 'S119_250.mat',\n",
              " 'S110_250.mat',\n",
              " 'S113_250.mat',\n",
              " 'S102_250.mat',\n",
              " 'S108_250.mat',\n",
              " 'S121_250.mat',\n",
              " 'S106_250.mat',\n",
              " 'S112_250.mat',\n",
              " 'S111_250.mat',\n",
              " 'S095_250.mat',\n",
              " 'S084_250.mat',\n",
              " 'S088_250.mat',\n",
              " 'S099_250.mat',\n",
              " 'S118_250.mat',\n",
              " 'S098_250.mat',\n",
              " 'S091_250.mat',\n",
              " 'S097_250.mat',\n",
              " 'S103_250.mat',\n",
              " 'S093_250.mat',\n",
              " 'S105_250.mat',\n",
              " 'S101_250.mat',\n",
              " 'S094_250.mat',\n",
              " 'S087_250.mat',\n",
              " 'S100_250.mat',\n",
              " 'S096_250.mat',\n",
              " 'S104_250.mat',\n",
              " 'S092_250.mat',\n",
              " 'S042_128.mat',\n",
              " 'S062_128.mat',\n",
              " 'S057_128.mat',\n",
              " 'S055_128.mat',\n",
              " 'S053_128.mat',\n",
              " 'S081_250.mat',\n",
              " 'S051_128.mat',\n",
              " 'S080_250.mat',\n",
              " 'S052_128.mat',\n",
              " 'S060_128.mat',\n",
              " 'S089_250.mat',\n",
              " 'S059_128.mat',\n",
              " 'S061_128.mat',\n",
              " 'S085_250.mat',\n",
              " 'S044_128.mat',\n",
              " 'S090_250.mat',\n",
              " 'S054_128.mat',\n",
              " 'S082_250.mat',\n",
              " 'S083_250.mat',\n",
              " 'S058_128.mat',\n",
              " 'S049_128.mat',\n",
              " 'S086_250.mat',\n",
              " 'S046_128.mat',\n",
              " 'S048_128.mat',\n",
              " 'S041_128.mat',\n",
              " 'S039_128.mat',\n",
              " 'S079_250.mat',\n",
              " 'S043_128.mat',\n",
              " 'S021_128.mat',\n",
              " 'S024_128.mat',\n",
              " 'S026_128.mat',\n",
              " 'S020_128.mat',\n",
              " 'S107_250.mat',\n",
              " 'S030_128.mat',\n",
              " 'S010_128.mat',\n",
              " 'S028_128.mat',\n",
              " 'S037_128.mat',\n",
              " 'S019_128.mat',\n",
              " 'S038_128.mat',\n",
              " 'S018_128.mat',\n",
              " 'S023_128.mat',\n",
              " 'S045_128.mat',\n",
              " 'S036_128.mat',\n",
              " 'S014_128.mat',\n",
              " 'S040_128.mat',\n",
              " 'S029_128.mat',\n",
              " 'S047_128.mat',\n",
              " 'S031_128.mat',\n",
              " 'S025_128.mat',\n",
              " 'S034_128.mat',\n",
              " 'S050_128.mat']"
            ]
          },
          "metadata": {},
          "execution_count": 9
        }
      ],
      "source": [
        "train_files"
      ]
    },
    {
      "cell_type": "code",
      "execution_count": 10,
      "metadata": {
        "id": "HB_RgYs9tleR"
      },
      "outputs": [],
      "source": [
        "validation_files = filtered_files[(round(len(filtered_files)*0.8)):]"
      ]
    },
    {
      "cell_type": "code",
      "execution_count": 11,
      "metadata": {
        "id": "7eHFZxyutogQ",
        "colab": {
          "base_uri": "https://localhost:8080/"
        },
        "outputId": "2409cd85-0901-4d3a-88a8-dc812d3585ef"
      },
      "outputs": [
        {
          "output_type": "execute_result",
          "data": {
            "text/plain": [
              "['S027_128.mat',\n",
              " 'S035_128.mat',\n",
              " 'S032_128.mat',\n",
              " 'S015_128.mat',\n",
              " 'S022_128.mat',\n",
              " 'S016_128.mat',\n",
              " 'S017_128.mat',\n",
              " 'S007_128.mat',\n",
              " 'S005_128.mat',\n",
              " 'S004_128.mat',\n",
              " 'S001_128.mat',\n",
              " 'S008_128.mat',\n",
              " 'S009_128.mat',\n",
              " 'S011_128.mat',\n",
              " 'S002_128.mat',\n",
              " 'S013_128.mat',\n",
              " 'S033_128.mat',\n",
              " 'S056_128.mat',\n",
              " 'S006_128.mat',\n",
              " 'S012_128.mat',\n",
              " 'S003_128.mat']"
            ]
          },
          "metadata": {},
          "execution_count": 11
        }
      ],
      "source": [
        "validation_files"
      ]
    },
    {
      "cell_type": "code",
      "execution_count": 12,
      "metadata": {
        "id": "tI65XqvztrI4"
      },
      "outputs": [],
      "source": [
        "train = []\n",
        "ecg_train = []\n",
        "spk_train = []\n",
        "ann_train = []\n",
        "\n",
        "for file in train_files:\n",
        "  ecg, spk, ann = load_data(path_to_data + '/' + file)\n",
        "  ecg_train.append(ecg)\n",
        "  spk_train.append(spk)\n",
        "  ann_train.append(ann)\n",
        "\n",
        "  train.append(path_to_data + '/' + file)"
      ]
    },
    {
      "cell_type": "code",
      "execution_count": 13,
      "metadata": {
        "id": "Lr6F7mJEuydx"
      },
      "outputs": [],
      "source": [
        "validation = []\n",
        "ecg_validation = []\n",
        "spk_validation = []\n",
        "ann_validation = []\n",
        "\n",
        "for file in validation_files:\n",
        "\n",
        "  ecg, spk, ann = load_data(path_to_data + '/' + file)\n",
        "  ecg_validation.append(ecg)\n",
        "  spk_validation.append(spk)\n",
        "  ann_validation.append(ann)\n",
        "\n",
        "  validation.append(path_to_data + '/' + file)"
      ]
    },
    {
      "cell_type": "code",
      "execution_count": 14,
      "metadata": {
        "id": "NZFViw9bu03s",
        "colab": {
          "base_uri": "https://localhost:8080/"
        },
        "outputId": "4ff5e387-4f08-4272-f29d-436a2eade243"
      },
      "outputs": [
        {
          "output_type": "stream",
          "name": "stdout",
          "text": [
            "Collecting neurokit2\n",
            "  Downloading neurokit2-0.2.7-py2.py3-none-any.whl (1.3 MB)\n",
            "\u001b[2K     \u001b[90m━━━━━━━━━━━━━━━━━━━━━━━━━━━━━━━━━━━━━━━━\u001b[0m \u001b[32m1.3/1.3 MB\u001b[0m \u001b[31m12.7 MB/s\u001b[0m eta \u001b[36m0:00:00\u001b[0m\n",
            "\u001b[?25hCollecting tdqm\n",
            "  Downloading tdqm-0.0.1.tar.gz (1.4 kB)\n",
            "  Preparing metadata (setup.py) ... \u001b[?25l\u001b[?25hdone\n",
            "Requirement already satisfied: numpy in /usr/local/lib/python3.10/dist-packages (from neurokit2) (1.25.2)\n",
            "Requirement already satisfied: pandas in /usr/local/lib/python3.10/dist-packages (from neurokit2) (2.0.3)\n",
            "Requirement already satisfied: scipy in /usr/local/lib/python3.10/dist-packages (from neurokit2) (1.11.4)\n",
            "Requirement already satisfied: scikit-learn>=1.0.0 in /usr/local/lib/python3.10/dist-packages (from neurokit2) (1.2.2)\n",
            "Requirement already satisfied: matplotlib in /usr/local/lib/python3.10/dist-packages (from neurokit2) (3.7.1)\n",
            "Requirement already satisfied: tqdm in /usr/local/lib/python3.10/dist-packages (from tdqm) (4.66.2)\n",
            "Requirement already satisfied: joblib>=1.1.1 in /usr/local/lib/python3.10/dist-packages (from scikit-learn>=1.0.0->neurokit2) (1.4.0)\n",
            "Requirement already satisfied: threadpoolctl>=2.0.0 in /usr/local/lib/python3.10/dist-packages (from scikit-learn>=1.0.0->neurokit2) (3.4.0)\n",
            "Requirement already satisfied: contourpy>=1.0.1 in /usr/local/lib/python3.10/dist-packages (from matplotlib->neurokit2) (1.2.1)\n",
            "Requirement already satisfied: cycler>=0.10 in /usr/local/lib/python3.10/dist-packages (from matplotlib->neurokit2) (0.12.1)\n",
            "Requirement already satisfied: fonttools>=4.22.0 in /usr/local/lib/python3.10/dist-packages (from matplotlib->neurokit2) (4.51.0)\n",
            "Requirement already satisfied: kiwisolver>=1.0.1 in /usr/local/lib/python3.10/dist-packages (from matplotlib->neurokit2) (1.4.5)\n",
            "Requirement already satisfied: packaging>=20.0 in /usr/local/lib/python3.10/dist-packages (from matplotlib->neurokit2) (24.0)\n",
            "Requirement already satisfied: pillow>=6.2.0 in /usr/local/lib/python3.10/dist-packages (from matplotlib->neurokit2) (9.4.0)\n",
            "Requirement already satisfied: pyparsing>=2.3.1 in /usr/local/lib/python3.10/dist-packages (from matplotlib->neurokit2) (3.1.2)\n",
            "Requirement already satisfied: python-dateutil>=2.7 in /usr/local/lib/python3.10/dist-packages (from matplotlib->neurokit2) (2.8.2)\n",
            "Requirement already satisfied: pytz>=2020.1 in /usr/local/lib/python3.10/dist-packages (from pandas->neurokit2) (2023.4)\n",
            "Requirement already satisfied: tzdata>=2022.1 in /usr/local/lib/python3.10/dist-packages (from pandas->neurokit2) (2024.1)\n",
            "Requirement already satisfied: six>=1.5 in /usr/local/lib/python3.10/dist-packages (from python-dateutil>=2.7->matplotlib->neurokit2) (1.16.0)\n",
            "Building wheels for collected packages: tdqm\n",
            "  Building wheel for tdqm (setup.py) ... \u001b[?25l\u001b[?25hdone\n",
            "  Created wheel for tdqm: filename=tdqm-0.0.1-py3-none-any.whl size=1323 sha256=9c3a784ede6ec6ba5a7b8c023d1426c90481e35e8907d88c4e5b0f128e9d1fcb\n",
            "  Stored in directory: /root/.cache/pip/wheels/37/31/b8/7b711038035720ba0df14376af06e5e76b9bd61759c861ad92\n",
            "Successfully built tdqm\n",
            "Installing collected packages: tdqm, neurokit2\n",
            "Successfully installed neurokit2-0.2.7 tdqm-0.0.1\n"
          ]
        }
      ],
      "source": [
        "! pip install neurokit2 tdqm"
      ]
    },
    {
      "cell_type": "code",
      "execution_count": 15,
      "metadata": {
        "id": "35XDkwZXu37f"
      },
      "outputs": [],
      "source": [
        "def freq(filename):\n",
        "  if '128' in filename:\n",
        "    return 128\n",
        "  else:\n",
        "    return 250"
      ]
    },
    {
      "cell_type": "code",
      "execution_count": 16,
      "metadata": {
        "id": "iBQrn_PRu80I",
        "colab": {
          "base_uri": "https://localhost:8080/",
          "height": 447
        },
        "outputId": "2bd098ca-a386-444c-940b-50cd4d934028"
      },
      "outputs": [
        {
          "output_type": "execute_result",
          "data": {
            "text/plain": [
              "(-5.0, 5.0)"
            ]
          },
          "metadata": {},
          "execution_count": 16
        },
        {
          "output_type": "display_data",
          "data": {
            "text/plain": [
              "<Figure size 640x480 with 1 Axes>"
            ],
            "image/png": "[encoded data removed]"
          },
          "metadata": {}
        }
      ],
      "source": [
        "\n",
        "import matplotlib.pyplot as plt\n",
        "\n",
        "# plot a piece of one ECG signal\n",
        "plt.plot(ecg_train[1]['ppg'][:,0])\n",
        "plt.xlim(0,1000)\n",
        "plt.ylim(-5,5)"
      ]
    },
    {
      "cell_type": "code",
      "execution_count": 17,
      "metadata": {
        "id": "NDGBAARdvX3X"
      },
      "outputs": [],
      "source": [
        "# Utility: given the filename of a signal it returns the sampling frequency\n",
        "def ecg_freq(filename):\n",
        "  if '128' in filename:\n",
        "    return 128\n",
        "  else:\n",
        "    return 250"
      ]
    },
    {
      "cell_type": "code",
      "execution_count": 18,
      "metadata": {
        "id": "M9iEDFy2vc2T"
      },
      "outputs": [],
      "source": [
        "import scipy"
      ]
    },
    {
      "cell_type": "code",
      "execution_count": 19,
      "metadata": {
        "id": "HTus1ZAxvfeb"
      },
      "outputs": [],
      "source": [
        "# Resample to 250 Hz training ECG signals\n",
        "\n",
        "resampled_ecg_1_train = []\n",
        "\n",
        "for i in range(len(ecg_train)):\n",
        "   secs_1 = len(ecg_train[i]['ppg'][:,0])/ecg_freq(train[i]) # Number of seconds in signal X\n",
        "   samps_1 = secs_1*250     # Number of samples to downsample\n",
        "   resampled_ecg_1_train.append(scipy.signal.resample(ecg_train[i]['ppg'][:,0] , int(samps_1)))"
      ]
    },
    {
      "cell_type": "code",
      "execution_count": 20,
      "metadata": {
        "id": "EQZk69I-0f1j"
      },
      "outputs": [],
      "source": [
        "\n",
        "# Resample to 250 Hz validation ECG signals\n",
        "\n",
        "resampled_ecg_1_validation = []\n",
        "\n",
        "for i in range(len(ecg_validation)):\n",
        "   secs_1 = len(ecg_validation[i]['ppg'][:,0])/ecg_freq(validation[i]) # Number of seconds in signal X\n",
        "   samps_1 = secs_1*250     # Number of samples to downsample\n",
        "   resampled_ecg_1_validation.append(scipy.signal.resample(ecg_validation[i]['ppg'][:,0] , int(samps_1)))"
      ]
    },
    {
      "cell_type": "code",
      "execution_count": 21,
      "metadata": {
        "id": "GZJ9LagYyMBw",
        "colab": {
          "base_uri": "https://localhost:8080/",
          "height": 447
        },
        "outputId": "957124bc-73bf-4c79-895a-18b03243bbfe"
      },
      "outputs": [
        {
          "output_type": "execute_result",
          "data": {
            "text/plain": [
              "250"
            ]
          },
          "metadata": {},
          "execution_count": 21
        },
        {
          "output_type": "display_data",
          "data": {
            "text/plain": [
              "<Figure size 640x480 with 1 Axes>"
            ],
            "image/png": "[encoded data removed]"
          },
          "metadata": {}
        }
      ],
      "source": [
        "# look the effect of signal resampling\n",
        "beat = 50\n",
        "plt.plot(ecg_train[beat]['ppg'][:,0])\n",
        "plt.plot(resampled_ecg_1_train[beat])\n",
        "plt.legend(['original 128Hz', 'resampled 250Hz'])\n",
        "plt.xlim(0, 1000)\n",
        "plt.ylim(-5,5)\n",
        "\n",
        "ecg_freq(train[beat])"
      ]
    },
    {
      "cell_type": "code",
      "execution_count": 22,
      "metadata": {
        "id": "wUCEEpAdzRmi"
      },
      "outputs": [],
      "source": [
        "# Use firwin with a Kaiser window to create a lowpass FIR filter.\n",
        "taps = scipy.signal.firwin(12, 35/125, fs = 250)"
      ]
    },
    {
      "cell_type": "code",
      "execution_count": 23,
      "metadata": {
        "id": "SsPfEeOitcJz",
        "colab": {
          "base_uri": "https://localhost:8080/"
        },
        "outputId": "b9d261b8-0ac0-4187-bc43-35743d8f1fce"
      },
      "outputs": [
        {
          "output_type": "execute_result",
          "data": {
            "text/plain": [
              "84"
            ]
          },
          "metadata": {},
          "execution_count": 23
        }
      ],
      "source": [
        "len(resampled_ecg_1_train)"
      ]
    },
    {
      "cell_type": "code",
      "execution_count": 24,
      "metadata": {
        "id": "UR46Jy6Gtz9z",
        "colab": {
          "base_uri": "https://localhost:8080/"
        },
        "outputId": "24dde9bb-6fb2-401b-a00a-cd8a6f0c6f99"
      },
      "outputs": [
        {
          "output_type": "execute_result",
          "data": {
            "text/plain": [
              "21"
            ]
          },
          "metadata": {},
          "execution_count": 24
        }
      ],
      "source": [
        "len(resampled_ecg_1_validation)"
      ]
    },
    {
      "cell_type": "code",
      "execution_count": 25,
      "metadata": {
        "id": "iBI7YqcAzTJD"
      },
      "outputs": [],
      "source": [
        "mf600 = int(250 * 0.6) - 1\n",
        "mf200 = int(250 * 0.2) - 1\n",
        "for i in range(len(resampled_ecg_1_train)):\n",
        "  resampled_ecg_1_train[i] = scipy.signal.lfilter(taps, 1.0, resampled_ecg_1_train[i] - scipy.signal.medfilt(scipy.signal.medfilt(resampled_ecg_1_train[i], mf200), mf600))\n",
        "\n",
        "\n",
        "\n",
        "for i in range(len(resampled_ecg_1_validation)):\n",
        "  resampled_ecg_1_validation[i] = scipy.signal.lfilter(taps, 1.0, resampled_ecg_1_validation[i] - scipy.signal.medfilt(scipy.signal.medfilt(resampled_ecg_1_validation[i], mf200), mf600))\n"
      ]
    },
    {
      "cell_type": "code",
      "execution_count": 26,
      "metadata": {
        "id": "ICDrQiPBz2Fq",
        "colab": {
          "base_uri": "https://localhost:8080/",
          "height": 692
        },
        "outputId": "7deae28a-e6fc-4091-b4d2-28b61c206498"
      },
      "outputs": [
        {
          "output_type": "execute_result",
          "data": {
            "text/plain": [
              "250"
            ]
          },
          "metadata": {},
          "execution_count": 26
        },
        {
          "output_type": "display_data",
          "data": {
            "text/plain": [
              "<Figure size 2000x500 with 1 Axes>"
            ],
            "image/png": "[encoded data removed]"
          },
          "metadata": {}
        },
        {
          "output_type": "display_data",
          "data": {
            "text/plain": [
              "<Figure size 2000x500 with 1 Axes>"
            ],
            "image/png": "[encoded data removed]"
          },
          "metadata": {}
        }
      ],
      "source": [
        "# plot the effect of the denoising procedure showing a piece of ECG before and after the applications of filters\n",
        "\n",
        "x = 50\n",
        "plt.figure(figsize=(20, 5))\n",
        "plt.plot(ecg_train[x]['ppg'][:,0])\n",
        "plt.xlim(3500, 4000)\n",
        "plt.ylim(-10,10)\n",
        "plt.figure(figsize=(20, 5))\n",
        "plt.plot(resampled_ecg_1_train[x])\n",
        "plt.xlim(3500, 4000)\n",
        "plt.ylim(-10,10)\n",
        "ecg_freq(train[x])\n"
      ]
    },
    {
      "cell_type": "code",
      "execution_count": 27,
      "metadata": {
        "id": "U1pxOK5yvko4",
        "colab": {
          "base_uri": "https://localhost:8080/"
        },
        "outputId": "c7de7131-a011-46dd-9c82-c900a00de65c"
      },
      "outputs": [
        {
          "output_type": "execute_result",
          "data": {
            "text/plain": [
              "array([[   211],\n",
              "       [   430],\n",
              "       [   633],\n",
              "       ...,\n",
              "       [449512],\n",
              "       [449709],\n",
              "       [449911]], dtype=int32)"
            ]
          },
          "metadata": {},
          "execution_count": 27
        }
      ],
      "source": [
        "spk_train[0]['speaks']"
      ]
    },
    {
      "cell_type": "code",
      "source": [
        "spk_train[1]['speaks']"
      ],
      "metadata": {
        "id": "z8HUSu_YRL49",
        "colab": {
          "base_uri": "https://localhost:8080/"
        },
        "outputId": "f382cbc8-045b-492e-dd27-57bcbc46d7e8"
      },
      "execution_count": 28,
      "outputs": [
        {
          "output_type": "execute_result",
          "data": {
            "text/plain": [
              "array([[   223],\n",
              "       [   450],\n",
              "       [   674],\n",
              "       ...,\n",
              "       [449307],\n",
              "       [449541],\n",
              "       [449769]], dtype=int32)"
            ]
          },
          "metadata": {},
          "execution_count": 28
        }
      ]
    },
    {
      "cell_type": "code",
      "execution_count": 29,
      "metadata": {
        "id": "prMxzCdtuDw4"
      },
      "outputs": [],
      "source": [
        "def from_freq_to_freq(sample, ini_freq, freq = 250):\n",
        "   secs = sample/ini_freq # Number of seconds in signal X\n",
        "   samp = secs*freq       # Number of samples to downsample\n",
        "   return int(samp)"
      ]
    },
    {
      "cell_type": "code",
      "execution_count": 30,
      "metadata": {
        "id": "9PwaWshYwCMg"
      },
      "outputs": [],
      "source": [
        "# This parameter is the number of samples considered to segment the ECG signal (the segment will be the samples of current R peak +/- win)\n",
        "win = 250"
      ]
    },
    {
      "cell_type": "code",
      "execution_count": 31,
      "metadata": {
        "id": "VH67kTh5wINz",
        "colab": {
          "base_uri": "https://localhost:8080/"
        },
        "outputId": "f93668ec-7318-4789-8c30-a71a040f5405"
      },
      "outputs": [
        {
          "output_type": "stream",
          "name": "stderr",
          "text": [
            "<ipython-input-29-ead6d838464d>:4: DeprecationWarning: Conversion of an array with ndim > 0 to a scalar is deprecated, and will error in future. Ensure you extract a single element from your array before performing this operation. (Deprecated NumPy 1.25.)\n",
            "  return int(samp)\n"
          ]
        }
      ],
      "source": [
        "# Extract all the segments (single heartbeats) from the original raw signals\n",
        "\n",
        "heartbeats_train_1 = []\n",
        "heartbeats_validation_1 = []\n",
        "\n",
        "for i in range(len(ecg_train)):\n",
        "  for j in range(len(spk_train[i]['speaks'])):\n",
        "   if(from_freq_to_freq(spk_train[i]['speaks'][j],ecg_freq(train[i])) < win or from_freq_to_freq(spk_train[i]['speaks'][j],ecg_freq(train[i]))  + win > from_freq_to_freq(spk_train[i]['speaks'][-1],ecg_freq(train[i])) or j < 40 or (len(spk_train[i]['speaks']) - (j+1) < 40)): #skipping beats that are too much close to the initial and to the end of the signal\n",
        "    ann_train[i]['labels'][j] = 'A'\n",
        "    spk_train[i]['speaks'][j] = 0\n",
        "   else:\n",
        "    heartbeats_train_1.append(resampled_ecg_1_train[i][from_freq_to_freq(spk_train[i]['speaks'][j],ecg_freq(train[i]))  - win : from_freq_to_freq(spk_train[i]['speaks'][j],ecg_freq(train[i]))  + win])\n",
        "    #heartbeats_train_2.append(resampled_ecg_2_train[i][from_freq_to_freq(rpks_train[i]['rpeaks'][j],ecg_freq(filenames_train[i]))  - win : from_freq_to_freq(rpks_train[i]['rpeaks'][j],ecg_freq(filenames_train[i]))  + win])\n",
        "\n",
        "for i in range(len(ecg_validation)):\n",
        "  for j in range(len(spk_validation[i]['speaks'])):\n",
        "   if(from_freq_to_freq(spk_validation[i]['speaks'][j],ecg_freq(validation[i])) < win or from_freq_to_freq(spk_validation[i]['speaks'][j],ecg_freq(validation[i])) + win > from_freq_to_freq(spk_validation[i]['speaks'][-1],ecg_freq(validation[i]))): #skipping beats that are too much close to the initial and to the end of the signal\n",
        "    ann_validation[i]['labels'][j] = 'A'\n",
        "    spk_validation[i]['speaks'][j] = 0\n",
        "   else:\n",
        "    heartbeats_validation_1.append(resampled_ecg_1_validation[i][from_freq_to_freq(spk_validation[i]['speaks'][j],ecg_freq(validation[i]))  - win : from_freq_to_freq(spk_validation[i]['speaks'][j],ecg_freq(validation[i]))  + win])\n",
        "    #heartbeats_validation_2.append(resampled_ecg_2_validation[i][from_freq_to_freq(rpks_validation[i]['rpeaks'][j],ecg_freq(filenames_validation[i]))  - win : from_freq_to_freq(rpks_validation[i]['rpeaks'][j],ecg_freq(filenames_validation[i]))  + win])\n"
      ]
    },
    {
      "cell_type": "code",
      "execution_count": 32,
      "metadata": {
        "id": "8sIWCmY6x99l",
        "colab": {
          "base_uri": "https://localhost:8080/"
        },
        "outputId": "5b30ac93-8f9c-4144-cf75-1b05aead034b"
      },
      "outputs": [
        {
          "output_type": "execute_result",
          "data": {
            "text/plain": [
              "(1890, 1889)"
            ]
          },
          "metadata": {},
          "execution_count": 32
        }
      ],
      "source": [
        "len(spk_train[0]['speaks']), len(np.delete(spk_train[0]['speaks'], 0))"
      ]
    },
    {
      "cell_type": "code",
      "execution_count": 33,
      "metadata": {
        "id": "0ERBL3V9yBrq",
        "colab": {
          "base_uri": "https://localhost:8080/"
        },
        "outputId": "f33c2d96-fc63-48ea-c982-f2c3dff453de"
      },
      "outputs": [
        {
          "output_type": "execute_result",
          "data": {
            "text/plain": [
              "(191472, 48365)"
            ]
          },
          "metadata": {},
          "execution_count": 33
        }
      ],
      "source": [
        "len(heartbeats_train_1), len(heartbeats_validation_1)"
      ]
    },
    {
      "cell_type": "code",
      "execution_count": 34,
      "metadata": {
        "id": "_IYUacv_yOos",
        "colab": {
          "base_uri": "https://localhost:8080/",
          "height": 447
        },
        "outputId": "15f39c37-41b3-4c46-9d15-27ffb0febe09"
      },
      "outputs": [
        {
          "output_type": "execute_result",
          "data": {
            "text/plain": [
              "[<matplotlib.lines.Line2D at 0x7ce91064ece0>]"
            ]
          },
          "metadata": {},
          "execution_count": 34
        },
        {
          "output_type": "display_data",
          "data": {
            "text/plain": [
              "<Figure size 640x480 with 1 Axes>"
            ],
            "image/png": "[encoded data removed]"
          },
          "metadata": {}
        }
      ],
      "source": [
        "import matplotlib.pyplot as plt\n",
        "\n",
        "# plot an example of segment\n",
        "plt.plot(heartbeats_train_1[100])"
      ]
    },
    {
      "cell_type": "code",
      "execution_count": 35,
      "metadata": {
        "id": "3NDqbq30yRkr"
      },
      "outputs": [],
      "source": [
        "labels_train = []\n",
        "labels_validation = []\n",
        "\n",
        "for i in range(len(ecg_train)):\n",
        "  for j in range(len(ann_train[i]['labels'])):\n",
        "    if(ann_train[i]['labels'][j] != 'A'):\n",
        "     labels_train.append(ann_train[i]['labels'][j])\n",
        "\n",
        "for i in range(len(ecg_validation)):\n",
        "  for j in range(len(ann_validation[i]['labels'])):\n",
        "    if(ann_validation[i]['labels'][j] != 'A'):\n",
        "     labels_validation.append(ann_validation[i]['labels'][j])\n"
      ]
    },
    {
      "cell_type": "code",
      "execution_count": 36,
      "metadata": {
        "id": "fsTFT7lqyc5Y"
      },
      "outputs": [],
      "source": [
        "classes_name = ['N', 'S', 'V']"
      ]
    },
    {
      "cell_type": "code",
      "execution_count": 37,
      "metadata": {
        "id": "RCuW_z1kyhLi",
        "colab": {
          "base_uri": "https://localhost:8080/"
        },
        "outputId": "a3d7dd26-8931-401d-953f-2e129ad8696d"
      },
      "outputs": [
        {
          "output_type": "execute_result",
          "data": {
            "text/plain": [
              "(191472, 191472)"
            ]
          },
          "metadata": {},
          "execution_count": 37
        }
      ],
      "source": [
        "len(labels_train), len(heartbeats_train_1)"
      ]
    },
    {
      "cell_type": "code",
      "execution_count": 38,
      "metadata": {
        "id": "gUEpwHYgyiOO",
        "colab": {
          "base_uri": "https://localhost:8080/"
        },
        "outputId": "0355236c-0dd0-4c03-f00e-6bc23ca42e27"
      },
      "outputs": [
        {
          "output_type": "execute_result",
          "data": {
            "text/plain": [
              "(48365, 48365)"
            ]
          },
          "metadata": {},
          "execution_count": 38
        }
      ],
      "source": [
        "len(labels_validation), len(heartbeats_validation_1)"
      ]
    },
    {
      "cell_type": "code",
      "execution_count": 39,
      "metadata": {
        "id": "9-G6F-fHymsK",
        "colab": {
          "base_uri": "https://localhost:8080/"
        },
        "outputId": "25461bba-6346-4453-a57c-3902c96f916b"
      },
      "outputs": [
        {
          "output_type": "stream",
          "name": "stderr",
          "text": [
            "/usr/local/lib/python3.10/dist-packages/sklearn/preprocessing/_encoders.py:868: FutureWarning: `sparse` was renamed to `sparse_output` in version 1.2 and will be removed in 1.4. `sparse_output` is ignored unless you leave `sparse` to its default value.\n",
            "  warnings.warn(\n",
            "/usr/local/lib/python3.10/dist-packages/sklearn/preprocessing/_encoders.py:868: FutureWarning: `sparse` was renamed to `sparse_output` in version 1.2 and will be removed in 1.4. `sparse_output` is ignored unless you leave `sparse` to its default value.\n",
            "  warnings.warn(\n"
          ]
        }
      ],
      "source": [
        "from sklearn.preprocessing import OneHotEncoder, LabelEncoder\n",
        "\n",
        "label_encoder = LabelEncoder()\n",
        "integer_encoded = label_encoder.fit_transform(labels_train)\n",
        "\n",
        "#One hot encoding of the target values\n",
        "ohe = OneHotEncoder(sparse=False)\n",
        "integer_encoded = integer_encoded.reshape(len(integer_encoded), 1)\n",
        "target_ohe_train = ohe.fit_transform(integer_encoded)\n",
        "\n",
        "integer_encoded = label_encoder.fit_transform(labels_validation)\n",
        "\n",
        "#One hot encoding of the target values\n",
        "ohe = OneHotEncoder(sparse=False)\n",
        "integer_encoded = integer_encoded.reshape(len(integer_encoded), 1)\n",
        "target_ohe_validation = ohe.fit_transform(integer_encoded)\n"
      ]
    },
    {
      "cell_type": "code",
      "execution_count": 40,
      "metadata": {
        "id": "XpGrcPq_yrDZ",
        "colab": {
          "base_uri": "https://localhost:8080/"
        },
        "outputId": "f65f90f2-d920-44d1-9dd8-9e7b424c6672"
      },
      "outputs": [
        {
          "output_type": "execute_result",
          "data": {
            "text/plain": [
              "array(['N', 'S', 'V'], dtype='<U1')"
            ]
          },
          "metadata": {},
          "execution_count": 40
        }
      ],
      "source": [
        "label_encoder.inverse_transform([0,1,2])"
      ]
    },
    {
      "cell_type": "code",
      "execution_count": 41,
      "metadata": {
        "id": "Lj2sNBJOytsJ",
        "colab": {
          "base_uri": "https://localhost:8080/"
        },
        "outputId": "a8dc4e4e-1e74-441e-c3b0-bf23564fb793"
      },
      "outputs": [
        {
          "output_type": "execute_result",
          "data": {
            "text/plain": [
              "array([[0],\n",
              "       [1],\n",
              "       [2]])"
            ]
          },
          "metadata": {},
          "execution_count": 41
        }
      ],
      "source": [
        "ohe.inverse_transform([[1, 0, 0], [0,1,0], [0,0,1]])"
      ]
    },
    {
      "cell_type": "code",
      "execution_count": 42,
      "metadata": {
        "id": "FyVUjPbfywop"
      },
      "outputs": [],
      "source": [
        "y_train = target_ohe_train\n",
        "y_val = target_ohe_validation"
      ]
    },
    {
      "cell_type": "code",
      "execution_count": 43,
      "metadata": {
        "id": "VZrh2N7fyzPy"
      },
      "outputs": [],
      "source": [
        "X_train_1 = tf.keras.preprocessing.sequence.pad_sequences(heartbeats_train_1, maxlen=win * 2, dtype='float32', truncating='post',padding=\"post\")\n",
        "#X_train_2 = tf.keras.preprocessing.sequence.pad_sequences(heartbeats_train_2, maxlen=win * 2, dtype='float32', truncating='post',padding=\"post\")\n",
        "X_val_1 = tf.keras.preprocessing.sequence.pad_sequences(heartbeats_validation_1, maxlen=win * 2, dtype='float32', truncating='post',padding=\"post\")\n",
        "#X_val_2 = tf.keras.preprocessing.sequence.pad_sequences(heartbeats_validation_2, maxlen=win * 2, dtype='float32', truncating='post',padding=\"post\")\n"
      ]
    },
    {
      "cell_type": "code",
      "execution_count": 44,
      "metadata": {
        "id": "YdDVjQkRy6yE",
        "colab": {
          "base_uri": "https://localhost:8080/"
        },
        "outputId": "c6a38eb8-dc43-4ea4-abe2-af0cd2f71e7a"
      },
      "outputs": [
        {
          "output_type": "execute_result",
          "data": {
            "text/plain": [
              "(191472, 3)"
            ]
          },
          "metadata": {},
          "execution_count": 44
        }
      ],
      "source": [
        "y_train.shape"
      ]
    },
    {
      "cell_type": "code",
      "source": [
        "y_val.shape"
      ],
      "metadata": {
        "id": "ZN7OxaOuXFFr",
        "colab": {
          "base_uri": "https://localhost:8080/"
        },
        "outputId": "3469539a-c3e7-4cf2-b0bb-a3fad8085b72"
      },
      "execution_count": 45,
      "outputs": [
        {
          "output_type": "execute_result",
          "data": {
            "text/plain": [
              "(48365, 3)"
            ]
          },
          "metadata": {},
          "execution_count": 45
        }
      ]
    },
    {
      "cell_type": "code",
      "execution_count": 46,
      "metadata": {
        "id": "Xftbks2ky-Eg",
        "colab": {
          "base_uri": "https://localhost:8080/"
        },
        "outputId": "5f54824d-5e20-4533-c7fe-1291cbc8defa"
      },
      "outputs": [
        {
          "output_type": "execute_result",
          "data": {
            "text/plain": [
              "(191472, 500)"
            ]
          },
          "metadata": {},
          "execution_count": 46
        }
      ],
      "source": [
        "X_train_1.shape"
      ]
    },
    {
      "cell_type": "code",
      "source": [
        "X_val_1.shape"
      ],
      "metadata": {
        "id": "xN_hYx-yXK9q",
        "colab": {
          "base_uri": "https://localhost:8080/"
        },
        "outputId": "cdef1de1-3f97-40d2-fcd5-18b7eee76c45"
      },
      "execution_count": 47,
      "outputs": [
        {
          "output_type": "execute_result",
          "data": {
            "text/plain": [
              "(48365, 500)"
            ]
          },
          "metadata": {},
          "execution_count": 47
        }
      ]
    },
    {
      "cell_type": "code",
      "execution_count": 48,
      "metadata": {
        "id": "eoiWIt3NzCxg"
      },
      "outputs": [],
      "source": [
        "X_train = []\n",
        "for i in range(len(X_train_1)):\n",
        "  X_train.append(X_train_1[i])\n",
        "\n",
        "X_train = np.asarray(X_train)"
      ]
    },
    {
      "cell_type": "code",
      "execution_count": 49,
      "metadata": {
        "id": "cNSMKYM-zKmx"
      },
      "outputs": [],
      "source": [
        "\n",
        "X_val = []\n",
        "for i in range(len(X_val_1)):\n",
        "  X_val.append(X_val_1[i])\n",
        "\n",
        "X_val = np.asarray(X_val)"
      ]
    },
    {
      "cell_type": "code",
      "execution_count": 50,
      "metadata": {
        "id": "GveUSpo6zPgB",
        "colab": {
          "base_uri": "https://localhost:8080/",
          "height": 447
        },
        "outputId": "38f00f4f-ab1c-4631-9c64-400984f4f668"
      },
      "outputs": [
        {
          "output_type": "execute_result",
          "data": {
            "text/plain": [
              "(191472, 500)"
            ]
          },
          "metadata": {},
          "execution_count": 50
        },
        {
          "output_type": "display_data",
          "data": {
            "text/plain": [
              "<Figure size 640x480 with 1 Axes>"
            ],
            "image/png": "[encoded data removed]"
          },
          "metadata": {}
        }
      ],
      "source": [
        "plt.plot(X_train[900])\n",
        "\n",
        "X_train.shape\n"
      ]
    },
    {
      "cell_type": "code",
      "execution_count": 65,
      "metadata": {
        "id": "muaH-dZxzYQS",
        "colab": {
          "base_uri": "https://localhost:8080/"
        },
        "outputId": "b000ab59-5447-4685-beeb-4e84708cfd10"
      },
      "outputs": [
        {
          "output_type": "execute_result",
          "data": {
            "text/plain": [
              "(0.05529339, 2.472267)"
            ]
          },
          "metadata": {},
          "execution_count": 65
        }
      ],
      "source": [
        "X_train = np.asarray(X_train_1)\n",
        "X_val = np.asarray(X_val_1)\n",
        "mean = np.mean(X_train, axis=1).mean(axis=0)\n",
        "std = np.std(X_train, axis=1).mean(axis=0)\n",
        "mean , std"
      ]
    },
    {
      "cell_type": "code",
      "execution_count": 62,
      "metadata": {
        "id": "HSxX09ytz2RT",
        "colab": {
          "base_uri": "https://localhost:8080/"
        },
        "outputId": "85e28b78-b839-48ad-c5e4-7aac8055482c"
      },
      "outputs": [
        {
          "output_type": "execute_result",
          "data": {
            "text/plain": [
              "(-2.0321462e-09, 0.99999994)"
            ]
          },
          "metadata": {},
          "execution_count": 62
        }
      ],
      "source": [
        "# Normalize data (used for resnet, not for vgg)\n",
        "#mean = np.mean(X_train, axis=1).mean(axis=0)\n",
        "#std = np.std(X_train, axis=1).mean(axis=0)\n",
        "\n",
        "#X_train = (X_train - mean)/std\n",
        "#X_val = (X_val - mean)/std\n",
        "\n",
        "#mean, std"
      ]
    },
    {
      "cell_type": "code",
      "source": [
        "mean = np.mean(X_train)\n",
        "std = np.std(X_train)\n",
        "\n",
        "X_train = (X_train - mean) / std\n",
        "X_val = (X_val - mean) / std\n",
        "\n",
        "mean, std\n"
      ],
      "metadata": {
        "colab": {
          "base_uri": "https://localhost:8080/"
        },
        "id": "Jbf519P8fVFi",
        "outputId": "054acc2b-6b5a-4d48-c1b6-270591679680"
      },
      "execution_count": 66,
      "outputs": [
        {
          "output_type": "execute_result",
          "data": {
            "text/plain": [
              "(0.05529349, 5.7206445)"
            ]
          },
          "metadata": {},
          "execution_count": 66
        }
      ]
    },
    {
      "cell_type": "code",
      "source": [
        "mean = np.mean(X_train)\n",
        "std = np.std(X_train)\n",
        "mean, std"
      ],
      "metadata": {
        "colab": {
          "base_uri": "https://localhost:8080/"
        },
        "id": "Bdwj-h8Hh4lB",
        "outputId": "8e7f7bc5-4791-4300-c6aa-6b73e6b82529"
      },
      "execution_count": 67,
      "outputs": [
        {
          "output_type": "execute_result",
          "data": {
            "text/plain": [
              "(-1.680338e-08, 1.0000002)"
            ]
          },
          "metadata": {},
          "execution_count": 67
        }
      ]
    },
    {
      "cell_type": "code",
      "execution_count": 68,
      "metadata": {
        "id": "r_gM7LgEz5px",
        "colab": {
          "base_uri": "https://localhost:8080/"
        },
        "outputId": "39190de4-2a0d-4c17-b897-1aec7f35c84f"
      },
      "outputs": [
        {
          "output_type": "execute_result",
          "data": {
            "text/plain": [
              "(191472, 191472)"
            ]
          },
          "metadata": {},
          "execution_count": 68
        }
      ],
      "source": [
        "len(X_train), len(X_train > 3)"
      ]
    },
    {
      "cell_type": "code",
      "execution_count": 69,
      "metadata": {
        "id": "0uVF_ZxJz7R0",
        "colab": {
          "base_uri": "https://localhost:8080/",
          "height": 448
        },
        "outputId": "bbf6b7cb-975d-4b63-9011-944ef7c06e94"
      },
      "outputs": [
        {
          "output_type": "execute_result",
          "data": {
            "text/plain": [
              "'N'"
            ],
            "application/vnd.google.colaboratory.intrinsic+json": {
              "type": "string"
            }
          },
          "metadata": {},
          "execution_count": 69
        },
        {
          "output_type": "display_data",
          "data": {
            "text/plain": [
              "<Figure size 640x480 with 1 Axes>"
            ],
            "image/png": "[encoded data removed]"
          },
          "metadata": {}
        }
      ],
      "source": [
        "import matplotlib.pyplot as plt\n",
        "\n",
        "beat = 10000\n",
        "plt.plot(X_train[beat])\n",
        "labels_train[beat]\n"
      ]
    },
    {
      "cell_type": "code",
      "execution_count": 70,
      "metadata": {
        "id": "woNxbcro0Cnw",
        "colab": {
          "base_uri": "https://localhost:8080/"
        },
        "outputId": "65550e4a-4736-4f5e-c062-7adeea9de80e"
      },
      "outputs": [
        {
          "output_type": "execute_result",
          "data": {
            "text/plain": [
              "(177836, 7660, 5976)"
            ]
          },
          "metadata": {},
          "execution_count": 70
        }
      ],
      "source": [
        "y_l = y_train.tolist()\n",
        "len([i for i in y_l if i == [1,0,0]]), len([i for i in y_l if i == [0,1,0]]), len([i for i in y_l if i == [0,0,1]])"
      ]
    },
    {
      "cell_type": "code",
      "execution_count": 71,
      "metadata": {
        "id": "pzYMsnhARQSY"
      },
      "outputs": [],
      "source": [
        "import sklearn\n",
        "X_train, y_train = sklearn.utils.shuffle(X_train, y_train)\n"
      ]
    },
    {
      "cell_type": "code",
      "execution_count": 72,
      "metadata": {
        "id": "nDBUjpkkSIq_",
        "colab": {
          "base_uri": "https://localhost:8080/"
        },
        "outputId": "1602d6b1-1a24-485b-bce7-1c3c5fd3f7dc"
      },
      "outputs": [
        {
          "output_type": "execute_result",
          "data": {
            "text/plain": [
              "{0: 0.3588924627184597, 1: 8.332114882506527, 2: 10.680053547523427}"
            ]
          },
          "metadata": {},
          "execution_count": 72
        }
      ],
      "source": [
        "# Considering class imbalance: class weightning to reduce the bias in the dataset\n",
        "\n",
        "from sklearn.utils.class_weight import compute_class_weight\n",
        "\n",
        "y_integers = np.argmax(y_train, axis=1)\n",
        "\n",
        "class_weights = compute_class_weight(\n",
        "                                      class_weight = \"balanced\",\n",
        "                                      classes = np.unique(y_integers),\n",
        "                                      y = y_integers\n",
        "                                    )\n",
        "\n",
        "class_weights = dict(zip(np.unique(y_integers), class_weights))\n",
        "class_weights\n"
      ]
    },
    {
      "cell_type": "code",
      "execution_count": 73,
      "metadata": {
        "id": "i_v9ToqUSKuH",
        "colab": {
          "base_uri": "https://localhost:8080/"
        },
        "outputId": "6e2b9673-5cae-4766-f04f-2965b888d275"
      },
      "outputs": [
        {
          "output_type": "execute_result",
          "data": {
            "text/plain": [
              "((191472, 500), (191472, 3))"
            ]
          },
          "metadata": {},
          "execution_count": 73
        }
      ],
      "source": [
        "X_train.shape, y_train.shape"
      ]
    },
    {
      "cell_type": "code",
      "execution_count": 74,
      "metadata": {
        "id": "9rHEmOuGSW9J"
      },
      "outputs": [],
      "source": [
        "#class weights for validation set\n",
        "from sklearn.utils.class_weight import compute_class_weight\n",
        "\n",
        "y_integers = np.argmax(y_val, axis=1)\n",
        "\n",
        "class_weights_val = compute_class_weight(\n",
        "                                      class_weight = \"balanced\",\n",
        "                                      classes = np.unique(y_integers),\n",
        "                                      y = y_integers\n",
        "                                    )"
      ]
    },
    {
      "cell_type": "code",
      "execution_count": 75,
      "metadata": {
        "id": "qoE0_SDnSX43",
        "colab": {
          "base_uri": "https://localhost:8080/"
        },
        "outputId": "3746a059-e3f1-4cab-edbf-87c987a05852"
      },
      "outputs": [
        {
          "output_type": "execute_result",
          "data": {
            "text/plain": [
              "array([0.36057495, 8.75226203, 8.89716703])"
            ]
          },
          "metadata": {},
          "execution_count": 75
        }
      ],
      "source": [
        "class_weights_val"
      ]
    },
    {
      "cell_type": "code",
      "execution_count": 76,
      "metadata": {
        "id": "6CW6aF6ESddU"
      },
      "outputs": [],
      "source": [
        "decode = dict(N =  0, S = 1, V  = 2)"
      ]
    },
    {
      "cell_type": "code",
      "source": [
        "X_train.shape"
      ],
      "metadata": {
        "id": "2eLybYv7ZYiN",
        "colab": {
          "base_uri": "https://localhost:8080/"
        },
        "outputId": "305bee8e-a42c-436c-b291-b7549766f131"
      },
      "execution_count": 77,
      "outputs": [
        {
          "output_type": "execute_result",
          "data": {
            "text/plain": [
              "(191472, 500)"
            ]
          },
          "metadata": {},
          "execution_count": 77
        }
      ]
    },
    {
      "cell_type": "code",
      "execution_count": 78,
      "metadata": {
        "id": "v9aqX5BpSrYR"
      },
      "outputs": [],
      "source": [
        "samples_class_weights = []\n",
        "for y in y_val:\n",
        "  samples_class_weights.append(class_weights_val[ohe.inverse_transform([y])[0][0]])"
      ]
    },
    {
      "cell_type": "code",
      "execution_count": 79,
      "metadata": {
        "id": "6zLXhnQlSt3X"
      },
      "outputs": [],
      "source": [
        "# Here we load validation data, training data can be loaded with the batch generator below\n",
        "\n",
        "train_data = tf.data.Dataset.from_tensor_slices((X_train, y_train))\n",
        "validation_data = tf.data.Dataset.from_tensor_slices((X_val, y_val, samples_class_weights))\n"
      ]
    },
    {
      "cell_type": "code",
      "source": [
        "len(train_data)\n"
      ],
      "metadata": {
        "id": "H8tgIwt3YzzY",
        "colab": {
          "base_uri": "https://localhost:8080/"
        },
        "outputId": "284d9b4e-7974-4eee-8d67-4f68fce256e3"
      },
      "execution_count": 80,
      "outputs": [
        {
          "output_type": "execute_result",
          "data": {
            "text/plain": [
              "191472"
            ]
          },
          "metadata": {},
          "execution_count": 80
        }
      ]
    },
    {
      "cell_type": "code",
      "source": [
        "len(validation_data)"
      ],
      "metadata": {
        "id": "SdF_-uR2Y-Ti",
        "colab": {
          "base_uri": "https://localhost:8080/"
        },
        "outputId": "0508df13-948b-4ebf-b438-31cc78613223"
      },
      "execution_count": 81,
      "outputs": [
        {
          "output_type": "execute_result",
          "data": {
            "text/plain": [
              "48365"
            ]
          },
          "metadata": {},
          "execution_count": 81
        }
      ]
    },
    {
      "cell_type": "code",
      "execution_count": 83,
      "metadata": {
        "id": "RooeTXhFSxTw"
      },
      "outputs": [],
      "source": [
        "import seaborn as sns\n",
        "from sklearn.metrics import ConfusionMatrixDisplay, classification_report\n",
        "from sklearn.metrics import confusion_matrix\n",
        "\n",
        "#utility to plot confusion matrix and evaluation metrics\n",
        "def evaluate_on_valid(model, batch_size, valid_to_use):\n",
        "  #Computing the prediction of the model on the validation set\n",
        "  predictions = []\n",
        "  for element in valid_to_use.batch(batch_size).as_numpy_iterator():\n",
        "      predictions.append(model.predict(element[0]))\n",
        "\n",
        "  predictions_f = [item for sublist in predictions for item in sublist]\n",
        "\n",
        "  predictions_oh = []\n",
        "  #transform prediction into one-hot-encoding\n",
        "  for i in range(len(predictions_f)):\n",
        "      predictions_oh.append(tf.one_hot(tf.argmax(predictions_f[i]), depth=3))\n",
        "\n",
        "  #Compute the true and prediction array in order to plot the confusion matrix\n",
        "  y = []\n",
        "\n",
        "  for y_t in y_val.tolist():\n",
        "      if(y_t == [1, 0, 0]):\n",
        "          y.append('N')\n",
        "      if(y_t == [0, 1 ,0]):\n",
        "          y.append('S')\n",
        "      if(y_t == [0, 0 ,1]):\n",
        "          y.append('V')\n",
        "\n",
        "  y_pred = []\n",
        "\n",
        "  for y_t in predictions_oh:\n",
        "      if(all(tf.equal(y_t, tf.constant([1, 0, 0], dtype=np.float32)))):\n",
        "          y_pred.append('N')\n",
        "      elif(all(tf.equal(y_t, tf.constant([0, 1, 0], dtype=np.float32)))):\n",
        "          y_pred.append('S')\n",
        "      elif(all(tf.equal(y_t, tf.constant([0, 0, 1], dtype=np.float32)))):\n",
        "          y_pred.append('V')\n",
        "      else:\n",
        "          print(y_t)\n",
        "\n",
        "  # Plot confusion matrix and metrics\n",
        "  ConfusionMatrixDisplay.from_predictions(y, y_pred, labels = ['N', 'S', 'V'])\n",
        "  ConfusionMatrixDisplay.from_predictions(y, y_pred, normalize='true', labels = ['N', 'S', 'V'])\n",
        "\n",
        "  print(classification_report(y,y_pred))"
      ]
    },
    {
      "cell_type": "code",
      "execution_count": 84,
      "metadata": {
        "id": "wgq5atdjSzyu"
      },
      "outputs": [],
      "source": [
        "import tensorflow as tf\n",
        "\n",
        "# Assuming win is defined somewhere earlier in your code\n",
        "win = 250\n",
        "\n",
        "# Define the seed for reproducibility\n",
        "SEED = 42\n",
        "\n",
        "vgg = tf.keras.Sequential()\n",
        "\n",
        "vgg.add(tf.keras.layers.Conv1D(input_shape=(500, 1), filters=32, kernel_size=3, padding=\"same\", activation=\"relu\", kernel_initializer=tf.keras.initializers.GlorotUniform(SEED)))\n",
        "vgg.add(tf.keras.layers.Conv1D(filters=32, kernel_size=3, padding=\"same\", activation=\"relu\", kernel_initializer=tf.keras.initializers.GlorotUniform(SEED)))\n",
        "vgg.add(tf.keras.layers.MaxPooling1D(pool_size=2, strides=2))\n",
        "vgg.add(tf.keras.layers.Conv1D(filters=64, kernel_size=3, padding=\"same\", activation=\"relu\", kernel_initializer=tf.keras.initializers.GlorotUniform(SEED)))\n",
        "vgg.add(tf.keras.layers.Conv1D(filters=64, kernel_size=3, padding=\"same\", activation=\"relu\", kernel_initializer=tf.keras.initializers.GlorotUniform(SEED)))\n",
        "vgg.add(tf.keras.layers.MaxPooling1D(pool_size=2, strides=2))\n",
        "vgg.add(tf.keras.layers.Conv1D(filters=128, kernel_size=3, padding=\"same\", activation=\"relu\", kernel_initializer=tf.keras.initializers.GlorotUniform(SEED)))\n",
        "vgg.add(tf.keras.layers.Conv1D(filters=128, kernel_size=3, padding=\"same\", activation=\"relu\", kernel_initializer=tf.keras.initializers.GlorotUniform(SEED)))\n",
        "vgg.add(tf.keras.layers.Conv1D(filters=128, kernel_size=3, padding=\"same\", activation=\"relu\", kernel_initializer=tf.keras.initializers.GlorotUniform(SEED)))\n",
        "vgg.add(tf.keras.layers.MaxPooling1D(pool_size=2, strides=2))\n",
        "vgg.add(tf.keras.layers.Conv1D(filters=256, kernel_size=3, padding=\"same\", activation=\"relu\", kernel_initializer=tf.keras.initializers.GlorotUniform(SEED)))\n",
        "vgg.add(tf.keras.layers.Conv1D(filters=256, kernel_size=3, padding=\"same\", activation=\"relu\", kernel_initializer=tf.keras.initializers.GlorotUniform(SEED)))\n",
        "vgg.add(tf.keras.layers.Conv1D(filters=256, kernel_size=3, padding=\"same\", activation=\"relu\", kernel_initializer=tf.keras.initializers.GlorotUniform(SEED)))\n",
        "vgg.add(tf.keras.layers.MaxPooling1D(pool_size=2, strides=2))\n",
        "vgg.add(tf.keras.layers.Conv1D(filters=256, kernel_size=3, padding=\"same\", activation=\"relu\", kernel_initializer=tf.keras.initializers.GlorotUniform(SEED)))\n",
        "vgg.add(tf.keras.layers.Conv1D(filters=256, kernel_size=3, padding=\"same\", activation=\"relu\", kernel_initializer=tf.keras.initializers.GlorotUniform(SEED)))\n",
        "vgg.add(tf.keras.layers.Conv1D(filters=256, kernel_size=3, padding=\"same\", activation=\"relu\", kernel_initializer=tf.keras.initializers.GlorotUniform(SEED)))\n",
        "vgg.add(tf.keras.layers.MaxPooling1D(pool_size=2, strides=2))\n",
        "vgg.add(tf.keras.layers.Flatten())\n",
        "vgg.add(tf.keras.layers.Dense(128, activation='relu', kernel_initializer=tf.keras.initializers.GlorotUniform(SEED)))\n",
        "vgg.add(tf.keras.layers.Dropout(0.3, seed=SEED))\n",
        "vgg.add(tf.keras.layers.Dense(3, activation='softmax'))\n",
        "\n",
        "vgg.compile(\n",
        "    optimizer=tf.keras.optimizers.Adam(learning_rate=1e-6),\n",
        "    loss='categorical_crossentropy',\n",
        "    metrics=['accuracy',\n",
        "             tf.keras.metrics.Precision(class_id=0),\n",
        "             tf.keras.metrics.Recall(class_id=0),\n",
        "             tf.keras.metrics.Precision(class_id=1),\n",
        "             tf.keras.metrics.Recall(class_id=1),\n",
        "             tf.keras.metrics.Precision(class_id=2),\n",
        "             tf.keras.metrics.Recall(class_id=2)]\n",
        ")"
      ]
    },
    {
      "cell_type": "code",
      "execution_count": 85,
      "metadata": {
        "id": "x5kTxsC9S1g_",
        "colab": {
          "base_uri": "https://localhost:8080/"
        },
        "outputId": "f09cb440-9f5e-4bbe-8512-ebde803fe278"
      },
      "outputs": [
        {
          "output_type": "stream",
          "name": "stdout",
          "text": [
            "Model: \"sequential\"\n",
            "_________________________________________________________________\n",
            " Layer (type)                Output Shape              Param #   \n",
            "=================================================================\n",
            " conv1d (Conv1D)             (None, 500, 32)           128       \n",
            "                                                                 \n",
            " conv1d_1 (Conv1D)           (None, 500, 32)           3104      \n",
            "                                                                 \n",
            " max_pooling1d (MaxPooling1  (None, 250, 32)           0         \n",
            " D)                                                              \n",
            "                                                                 \n",
            " conv1d_2 (Conv1D)           (None, 250, 64)           6208      \n",
            "                                                                 \n",
            " conv1d_3 (Conv1D)           (None, 250, 64)           12352     \n",
            "                                                                 \n",
            " max_pooling1d_1 (MaxPoolin  (None, 125, 64)           0         \n",
            " g1D)                                                            \n",
            "                                                                 \n",
            " conv1d_4 (Conv1D)           (None, 125, 128)          24704     \n",
            "                                                                 \n",
            " conv1d_5 (Conv1D)           (None, 125, 128)          49280     \n",
            "                                                                 \n",
            " conv1d_6 (Conv1D)           (None, 125, 128)          49280     \n",
            "                                                                 \n",
            " max_pooling1d_2 (MaxPoolin  (None, 62, 128)           0         \n",
            " g1D)                                                            \n",
            "                                                                 \n",
            " conv1d_7 (Conv1D)           (None, 62, 256)           98560     \n",
            "                                                                 \n",
            " conv1d_8 (Conv1D)           (None, 62, 256)           196864    \n",
            "                                                                 \n",
            " conv1d_9 (Conv1D)           (None, 62, 256)           196864    \n",
            "                                                                 \n",
            " max_pooling1d_3 (MaxPoolin  (None, 31, 256)           0         \n",
            " g1D)                                                            \n",
            "                                                                 \n",
            " conv1d_10 (Conv1D)          (None, 31, 256)           196864    \n",
            "                                                                 \n",
            " conv1d_11 (Conv1D)          (None, 31, 256)           196864    \n",
            "                                                                 \n",
            " conv1d_12 (Conv1D)          (None, 31, 256)           196864    \n",
            "                                                                 \n",
            " max_pooling1d_4 (MaxPoolin  (None, 15, 256)           0         \n",
            " g1D)                                                            \n",
            "                                                                 \n",
            " flatten (Flatten)           (None, 3840)              0         \n",
            "                                                                 \n",
            " dense (Dense)               (None, 128)               491648    \n",
            "                                                                 \n",
            " dropout (Dropout)           (None, 128)               0         \n",
            "                                                                 \n",
            " dense_1 (Dense)             (None, 3)                 387       \n",
            "                                                                 \n",
            "=================================================================\n",
            "Total params: 1719971 (6.56 MB)\n",
            "Trainable params: 1719971 (6.56 MB)\n",
            "Non-trainable params: 0 (0.00 Byte)\n",
            "_________________________________________________________________\n"
          ]
        }
      ],
      "source": [
        "vgg.summary()"
      ]
    },
    {
      "cell_type": "code",
      "source": [
        "train_data"
      ],
      "metadata": {
        "id": "cCpCGf4Aavvs",
        "colab": {
          "base_uri": "https://localhost:8080/"
        },
        "outputId": "81484011-ac93-443e-abd1-913b4507722a"
      },
      "execution_count": 86,
      "outputs": [
        {
          "output_type": "execute_result",
          "data": {
            "text/plain": [
              "<_TensorSliceDataset element_spec=(TensorSpec(shape=(500,), dtype=tf.float32, name=None), TensorSpec(shape=(3,), dtype=tf.float64, name=None))>"
            ]
          },
          "metadata": {},
          "execution_count": 86
        }
      ]
    },
    {
      "cell_type": "code",
      "source": [
        "def build_lstm_model(input_shape):\n",
        "    model = Sequential()\n",
        "    model.add(tf.keras.layers.LSTM(64, return_sequences=False, input_shape=input_shape))\n",
        "    model.add(tf.keras.layers.Dense(32, activation='relu'))\n",
        "    model.add(tf.keras.layers.Dense(3, activation='softmax'))\n",
        "\n",
        "    model.compile(optimizer=tf.keras.optimizers.Adam(learning_rate=1e-3),\n",
        "                  loss=tf.keras.losses.CategoricalCrossentropy(),\n",
        "                  metrics=['accuracy'])\n",
        "\n",
        "    return model\n"
      ],
      "metadata": {
        "id": "KUWVx4t2dKDR"
      },
      "execution_count": 89,
      "outputs": []
    },
    {
      "cell_type": "code",
      "source": [
        "def build_bi_lstm_model(input_shape):\n",
        "    model = Sequential()\n",
        "    model.add(tf.keras.layers.Bidirectional(tf.keras.layers.LSTM(64, return_sequences=False), input_shape=input_shape))\n",
        "    model.add(tf.keras.layers.Dense(32, activation='relu'))\n",
        "    model.add(tf.keras.layers.Dense(3, activation='softmax'))\n",
        "\n",
        "    model.compile(optimizer=tf.keras.optimizers.Adam(learning_rate=1e-3),\n",
        "                  loss=tf.keras.losses.CategoricalCrossentropy(),\n",
        "                  metrics=['accuracy'])\n",
        "\n",
        "    return model\n"
      ],
      "metadata": {
        "id": "AyHpnvQ4dLAU"
      },
      "execution_count": 90,
      "outputs": []
    },
    {
      "cell_type": "code",
      "source": [
        "def build_1d_cnn_model(input_shape):\n",
        "    model = Sequential()\n",
        "    model.add(tf.keras.layers.Conv1D(filters=64, kernel_size=5, input_shape=input_shape, activation='relu'))\n",
        "    model.add(tf.keras.layers.Dropout(0.3))\n",
        "    model.add(tf.keras.layers.Flatten())\n",
        "    model.add(tf.keras.layers.Dense(32, activation='relu'))\n",
        "    model.add(tf.keras.layers.Dense(3, activation='softmax'))\n",
        "\n",
        "    model.compile(optimizer=tf.keras.optimizers.AdamW(),\n",
        "                  loss=tf.keras.losses.CategoricalCrossentropy(),\n",
        "                  metrics=['accuracy'])\n",
        "\n",
        "    return model\n"
      ],
      "metadata": {
        "id": "fHsV66iMdN-7"
      },
      "execution_count": 91,
      "outputs": []
    },
    {
      "cell_type": "code",
      "source": [
        "# @title Resampling\n",
        "y_l = y_train.tolist()\n",
        "len([i for i in y_l if i == [1,0,0]]), len([i for i in y_l if i == [0,1,0]]), len([i for i in y_l if i == [0,0,1]])\n"
      ],
      "metadata": {
        "id": "Um4YQI74jJuq",
        "colab": {
          "base_uri": "https://localhost:8080/"
        },
        "outputId": "4a272c88-a959-443f-d93b-c37ad2fbee52"
      },
      "execution_count": 94,
      "outputs": [
        {
          "output_type": "execute_result",
          "data": {
            "text/plain": [
              "(177836, 7660, 5976)"
            ]
          },
          "metadata": {},
          "execution_count": 94
        }
      ]
    },
    {
      "cell_type": "code",
      "source": [
        "from imblearn.over_sampling import SMOTE, RandomOverSampler\n",
        "from imblearn.under_sampling import NearMiss, RandomUnderSampler\n",
        "\n",
        "smote_dict = {1: 40000, 2: 40000}\n",
        "\n",
        "# Oversampling performed by SMOTE algorithm\n",
        "#X_train, y_train = SMOTE(random_state=SEED, sampling_strategy= smote_dict ).fit_resample(X_train, y_train)\n",
        "X_train, y_train = SMOTE(random_state=SEED, sampling_strategy={0: 178168, 1: int(7402 * 5), 2: int(5724 * 6)} ).fit_resample(X_train, y_train) # used on BEST\n"
      ],
      "metadata": {
        "id": "CkTKmE0mxApR",
        "colab": {
          "base_uri": "https://localhost:8080/"
        },
        "outputId": "fb891f28-0847-4d84-a2ba-23da4e77fdb4"
      },
      "execution_count": 95,
      "outputs": [
        {
          "output_type": "stream",
          "name": "stderr",
          "text": [
            "/usr/local/lib/python3.10/dist-packages/imblearn/utils/_validation.py:313: UserWarning: After over-sampling, the number of samples (178168) in class 0 will be larger than the number of samples in the majority class (class #0 -> 177836)\n",
            "  warnings.warn(\n"
          ]
        }
      ]
    },
    {
      "cell_type": "code",
      "source": [
        "y_l = y_train.tolist()\n",
        "len([i for i in y_l if i == [1,0,0]]), len([i for i in y_l if i == [0,1,0]]), len([i for i in y_l if i == [0,0,1]])"
      ],
      "metadata": {
        "id": "dTG4E6VBzqOP",
        "colab": {
          "base_uri": "https://localhost:8080/"
        },
        "outputId": "ca6c1e46-3fbf-4317-8d7d-36574c0868a7"
      },
      "execution_count": 96,
      "outputs": [
        {
          "output_type": "execute_result",
          "data": {
            "text/plain": [
              "(178168, 37010, 34344)"
            ]
          },
          "metadata": {},
          "execution_count": 96
        }
      ]
    },
    {
      "cell_type": "code",
      "source": [
        "near_miss_dict = {0: 40000}\n",
        "\n",
        "# Undersampling performed by NearMiss algorithm\n",
        "#X_train, y_train = NearMiss(sampling_strategy=near_miss_dict).fit_resample(X_train, y_train)\n",
        "X_train, y_train = RandomUnderSampler(random_state=SEED,sampling_strategy={0: int(178168*0.5), 1: int(7402 * 5), 2: int(5724 * 6)}).fit_resample(X_train, y_train) # used on BEST\n",
        "#X_train, y_train = RandomUnderSampler(sampling_strategy='majority').fit_resample(X_train, y_train)"
      ],
      "metadata": {
        "id": "uQQgvKsbzw3l"
      },
      "execution_count": 97,
      "outputs": []
    },
    {
      "cell_type": "code",
      "source": [
        "y_l = y_train.tolist()\n",
        "len([i for i in y_l if i == [1,0,0]]), len([i for i in y_l if i == [0,1,0]]), len([i for i in y_l if i == [0,0,1]])\n"
      ],
      "metadata": {
        "id": "eK9i-wzqz8Re",
        "colab": {
          "base_uri": "https://localhost:8080/"
        },
        "outputId": "f424ac2d-97a7-450e-8065-285261995f0d"
      },
      "execution_count": 98,
      "outputs": [
        {
          "output_type": "execute_result",
          "data": {
            "text/plain": [
              "(89084, 37010, 34344)"
            ]
          },
          "metadata": {},
          "execution_count": 98
        }
      ]
    },
    {
      "cell_type": "code",
      "source": [
        "# if 2 leads where used we remap it to the correct shape\n",
        "X_train = X_train.reshape(-1, win*2)\n",
        "\n",
        "X_train.shape"
      ],
      "metadata": {
        "id": "pZIGn76Q0Aq-",
        "colab": {
          "base_uri": "https://localhost:8080/"
        },
        "outputId": "d40ccc86-e14c-4a8b-d0d2-117aee235adb"
      },
      "execution_count": 99,
      "outputs": [
        {
          "output_type": "execute_result",
          "data": {
            "text/plain": [
              "(160438, 500)"
            ]
          },
          "metadata": {},
          "execution_count": 99
        }
      ]
    },
    {
      "cell_type": "code",
      "source": [
        "# Assuming you have X_train, y_train, X_val, y_val defined with appropriate shapes\n",
        "\n",
        "# Define input shape\n",
        "input_shape = (500, 1)  # Adjust according to your data\n",
        "\n",
        "# Build the models\n",
        "lstm_model = build_lstm_model(input_shape)\n",
        "bi_lstm_model = build_bi_lstm_model(input_shape)\n",
        "cnn_model = build_1d_cnn_model(input_shape)\n",
        "\n",
        "# Train the models\n",
        "#lstm_history = lstm_model.fit(X_train, y_train, validation_data=(X_val, y_val), epochs=10, batch_size=32, verbose=1)\n",
        "#bi_lstm_history = bi_lstm_model.fit(X_train, y_train, validation_data=(X_val, y_val), epochs=10, batch_size=32, verbose=1)\n",
        "cnn_history = cnn_model.fit(X_train, y_train, validation_data=(X_val, y_val), epochs=20, batch_size=16, verbose=1)\n",
        "\n",
        "# Evaluate the models\n",
        "#lstm_loss, lstm_accuracy = lstm_model.evaluate(X_val, y_val)\n",
        "#bi_lstm_loss, bi_lstm_accuracy = bi_lstm_model.evaluate(X_val, y_val)\n",
        "cnn_loss, cnn_accuracy = cnn_model.evaluate(X_val, y_val)\n",
        "\n",
        "# Print evaluation results\n",
        "#print(\"LSTM Model:\")\n",
        "#print(\"Validation Loss:\", lstm_loss)\n",
        "#print(\"Validation Accuracy:\", lstm_accuracy)\n",
        "\n",
        "#print(\"Bi-LSTM Model:\")\n",
        "#print(\"Validation Loss:\", bi_lstm_loss)\n",
        "#print(\"Validation Accuracy:\", bi_lstm_accuracy)\n",
        "\n",
        "print(\"1D CNN Model:\")\n",
        "print(\"Validation Loss:\", cnn_loss)\n",
        "print(\"Validation Accuracy:\", cnn_accuracy)\n"
      ],
      "metadata": {
        "id": "pfxig8fI02zk",
        "colab": {
          "base_uri": "https://localhost:8080/"
        },
        "outputId": "54a690ee-a5e1-41f5-da5d-6ec222608f12"
      },
      "execution_count": 100,
      "outputs": [
        {
          "output_type": "stream",
          "name": "stdout",
          "text": [
            "Epoch 1/20\n",
            "10028/10028 [==============================] - 49s 5ms/step - loss: 0.6191 - accuracy: 0.7459 - val_loss: 0.5081 - val_accuracy: 0.8703\n",
            "Epoch 2/20\n",
            "10028/10028 [==============================] - 50s 5ms/step - loss: 0.5619 - accuracy: 0.7706 - val_loss: 0.5226 - val_accuracy: 0.8646\n",
            "Epoch 3/20\n",
            "10028/10028 [==============================] - 50s 5ms/step - loss: 0.5463 - accuracy: 0.7782 - val_loss: 0.4554 - val_accuracy: 0.8825\n",
            "Epoch 4/20\n",
            "10028/10028 [==============================] - 50s 5ms/step - loss: 0.5373 - accuracy: 0.7821 - val_loss: 0.5382 - val_accuracy: 0.8573\n",
            "Epoch 5/20\n",
            "10028/10028 [==============================] - 50s 5ms/step - loss: 0.5314 - accuracy: 0.7846 - val_loss: 0.5099 - val_accuracy: 0.8709\n",
            "Epoch 6/20\n",
            "10028/10028 [==============================] - 46s 5ms/step - loss: 0.5254 - accuracy: 0.7869 - val_loss: 0.5191 - val_accuracy: 0.8671\n",
            "Epoch 7/20\n",
            "10028/10028 [==============================] - 49s 5ms/step - loss: 0.5228 - accuracy: 0.7894 - val_loss: 0.5273 - val_accuracy: 0.8715\n",
            "Epoch 8/20\n",
            "10028/10028 [==============================] - 50s 5ms/step - loss: 0.5177 - accuracy: 0.7905 - val_loss: 0.5312 - val_accuracy: 0.8624\n",
            "Epoch 9/20\n",
            "10028/10028 [==============================] - 45s 4ms/step - loss: 0.5138 - accuracy: 0.7913 - val_loss: 0.5385 - val_accuracy: 0.8635\n",
            "Epoch 10/20\n",
            "10028/10028 [==============================] - 47s 5ms/step - loss: 0.5121 - accuracy: 0.7929 - val_loss: 0.5392 - val_accuracy: 0.8625\n",
            "Epoch 11/20\n",
            "10028/10028 [==============================] - 46s 5ms/step - loss: 0.5093 - accuracy: 0.7935 - val_loss: 0.6310 - val_accuracy: 0.8360\n",
            "Epoch 12/20\n",
            "10028/10028 [==============================] - 49s 5ms/step - loss: 0.5077 - accuracy: 0.7941 - val_loss: 0.5774 - val_accuracy: 0.8555\n",
            "Epoch 13/20\n",
            "10028/10028 [==============================] - 46s 5ms/step - loss: 0.5060 - accuracy: 0.7951 - val_loss: 0.5762 - val_accuracy: 0.8528\n",
            "Epoch 14/20\n",
            "10028/10028 [==============================] - 50s 5ms/step - loss: 0.5055 - accuracy: 0.7950 - val_loss: 0.5026 - val_accuracy: 0.8703\n",
            "Epoch 15/20\n",
            "10028/10028 [==============================] - 46s 5ms/step - loss: 0.5024 - accuracy: 0.7967 - val_loss: 0.5238 - val_accuracy: 0.8695\n",
            "Epoch 16/20\n",
            "10028/10028 [==============================] - 50s 5ms/step - loss: 0.5000 - accuracy: 0.7983 - val_loss: 0.5663 - val_accuracy: 0.8509\n",
            "Epoch 17/20\n",
            "10028/10028 [==============================] - 51s 5ms/step - loss: 0.4989 - accuracy: 0.7981 - val_loss: 0.5972 - val_accuracy: 0.8459\n",
            "Epoch 18/20\n",
            "10028/10028 [==============================] - 50s 5ms/step - loss: 0.4991 - accuracy: 0.7984 - val_loss: 0.5711 - val_accuracy: 0.8538\n",
            "Epoch 19/20\n",
            "10028/10028 [==============================] - 45s 5ms/step - loss: 0.4960 - accuracy: 0.8000 - val_loss: 0.5717 - val_accuracy: 0.8418\n",
            "Epoch 20/20\n",
            "10028/10028 [==============================] - 49s 5ms/step - loss: 0.4951 - accuracy: 0.8001 - val_loss: 0.5865 - val_accuracy: 0.8435\n",
            "1512/1512 [==============================] - 4s 3ms/step - loss: 0.5865 - accuracy: 0.8435\n",
            "1D CNN Model:\n",
            "Validation Loss: 0.5864835381507874\n",
            "Validation Accuracy: 0.8435232043266296\n"
          ]
        }
      ]
    },
    {
      "cell_type": "code",
      "source": [
        "import numpy as np\n",
        "from sklearn.metrics import confusion_matrix\n",
        "import itertools\n",
        "import matplotlib.pyplot as plt\n",
        "\n",
        "# Define the plot_confusion_matrix function\n",
        "def plot_confusion_matrix(y_true, y_pred, classes,\n",
        "                          normalize=False,\n",
        "                          title=None,\n",
        "                          cmap=plt.cm.Blues):\n",
        "    \"\"\"\n",
        "    This function prints and plots the confusion matrix.\n",
        "    Normalization can be applied by setting `normalize=True`.\n",
        "    \"\"\"\n",
        "    if not title:\n",
        "        if normalize:\n",
        "            title = 'Normalized confusion matrix'\n",
        "        else:\n",
        "            title = 'Confusion matrix, without normalization'\n",
        "\n",
        "    # Compute confusion matrix\n",
        "    cm = confusion_matrix(y_true, y_pred)\n",
        "\n",
        "    if normalize:\n",
        "        cm = cm.astype('float') / cm.sum(axis=1)[:, np.newaxis]\n",
        "        print(\"Normalized confusion matrix\")\n",
        "    else:\n",
        "        print('Confusion matrix, without normalization')\n",
        "\n",
        "    plt.imshow(cm, interpolation='nearest', cmap=cmap)\n",
        "    plt.title(title)\n",
        "    plt.colorbar()\n",
        "    tick_marks = np.arange(len(classes))\n",
        "    plt.xticks(tick_marks, classes, rotation=45)\n",
        "    plt.yticks(tick_marks, classes)\n",
        "\n",
        "    fmt = '.2f' if normalize else 'd'\n",
        "    thresh = cm.max() / 2.\n",
        "    for i, j in itertools.product(range(cm.shape[0]), range(cm.shape[1])):\n",
        "        plt.text(j, i, format(cm[i, j], fmt),\n",
        "                 horizontalalignment=\"center\",\n",
        "                 color=\"white\" if cm[i, j] > thresh else \"black\")\n",
        "\n",
        "    plt.ylabel('True label')\n",
        "    plt.xlabel('Predicted label')\n",
        "    plt.tight_layout()\n",
        "\n",
        "    # Show plot\n",
        "    plt.show()\n",
        "\n",
        "# Plot confusion matrix for LSTM model\n",
        "#lstm_predictions = lstm_model.predict(X_val)\n",
        "#lstm_predictions_classes = np.argmax(lstm_predictions, axis=1)\n",
        "#plot_confusion_matrix(np.argmax(y_val, axis=1), lstm_predictions_classes, classes=['N', 'S', 'V'])\n",
        "\n",
        "# Plot confusion matrix for Bi-LSTM model\n",
        "#bi_lstm_predictions = bi_lstm_model.predict(X_val)\n",
        "#bi_lstm_predictions_classes = np.argmax(bi_lstm_predictions, axis=1)\n",
        "#plot_confusion_matrix(np.argmax(y_val, axis=1), bi_lstm_predictions_classes, classes=['N', 'S', 'V'])\n",
        "\n",
        "# Plot confusion matrix for 1D CNN model\n",
        "cnn_predictions = cnn_model.predict(X_val)\n",
        "cnn_predictions_classes = np.argmax(cnn_predictions, axis=1)\n",
        "plot_confusion_matrix(np.argmax(y_val, axis=1), cnn_predictions_classes, classes=['N', 'S', 'V'])\n"
      ],
      "metadata": {
        "id": "59BHUZ191JmP",
        "colab": {
          "base_uri": "https://localhost:8080/",
          "height": 522
        },
        "outputId": "cd12812d-e501-4031-f33d-d00222ce983e"
      },
      "execution_count": 101,
      "outputs": [
        {
          "output_type": "stream",
          "name": "stdout",
          "text": [
            "1512/1512 [==============================] - 3s 2ms/step\n",
            "Confusion matrix, without normalization\n"
          ]
        },
        {
          "output_type": "display_data",
          "data": {
            "text/plain": [
              "<Figure size 640x480 with 2 Axes>"
            ],
            "image/png": "[encoded data removed]"
          },
          "metadata": {}
        }
      ]
    },
    {
      "cell_type": "code",
      "source": [
        "from keras.models import Model\n",
        "from keras.layers import Input, Conv1D, MaxPooling1D, LSTM, Dense, Dropout, concatenate\n",
        "\n",
        "def create_mix_model(input_shape, output_shape):\n",
        "    # Input layer for sequence data\n",
        "    sequence_input = Input(shape=input_shape, name='sequence_input')\n",
        "\n",
        "    # Layer 1: 1D Convolution\n",
        "    conv1d_1 = Conv1D(filters=20, kernel_size=3, activation='relu', padding='valid')(sequence_input)\n",
        "\n",
        "    # Layer 2: 1D Maxpooling\n",
        "    maxpool_1 = MaxPooling1D(pool_size=2, strides=2)(conv1d_1)\n",
        "\n",
        "    # Layer 3: 1D Convolution\n",
        "    conv1d_2 = Conv1D(filters=6, kernel_size=10, activation='relu', padding='valid')(maxpool_1)\n",
        "\n",
        "    # Layer 4: 1D Maxpooling\n",
        "    maxpool_2 = MaxPooling1D(pool_size=2, strides=2)(conv1d_2)\n",
        "\n",
        "    # Layer 5: 1D Convolution\n",
        "    conv1d_3 = Conv1D(filters=6, kernel_size=5, activation='relu', padding='valid')(maxpool_2)\n",
        "\n",
        "    # Layer 6: 1D Maxpooling\n",
        "    maxpool_3 = MaxPooling1D(pool_size=2, strides=2)(conv1d_3)\n",
        "\n",
        "    # Layer 7: LSTM\n",
        "    lstm = LSTM(units=20, recurrent_dropout=0.2, dropout=0.2)(maxpool_3)\n",
        "\n",
        "    # Output layer\n",
        "    output = Dense(units=output_shape, activation='softmax')(lstm)\n",
        "\n",
        "    # Model\n",
        "    mix_model = Model(inputs=sequence_input, outputs=output)\n",
        "\n",
        "    return mix_model\n",
        "\n",
        "# Define input and output shapes based on your data\n",
        "input_shape = (500, 1)  # Shape of sequence input\n",
        "output_shape = 3        # Shape of output\n",
        "\n",
        "# Create the model\n",
        "mix_model = create_mix_model(input_shape, output_shape)\n",
        "\n",
        "# Compile the model\n",
        "mix_model.compile(optimizer='adam', loss='categorical_crossentropy', metrics=['accuracy'])\n",
        "\n",
        "# Display model summary\n",
        "mix_model.summary()\n"
      ],
      "metadata": {
        "colab": {
          "base_uri": "https://localhost:8080/"
        },
        "id": "8MrKhCHylzDJ",
        "outputId": "ca7ada2d-0b91-43eb-d6c2-22fe1ea46705"
      },
      "execution_count": 102,
      "outputs": [
        {
          "output_type": "stream",
          "name": "stderr",
          "text": [
            "WARNING:tensorflow:Layer lstm_4 will not use cuDNN kernels since it doesn't meet the criteria. It will use a generic GPU kernel as fallback when running on GPU.\n"
          ]
        },
        {
          "output_type": "stream",
          "name": "stdout",
          "text": [
            "Model: \"model\"\n",
            "_________________________________________________________________\n",
            " Layer (type)                Output Shape              Param #   \n",
            "=================================================================\n",
            " sequence_input (InputLayer  [(None, 500, 1)]          0         \n",
            " )                                                               \n",
            "                                                                 \n",
            " conv1d_15 (Conv1D)          (None, 498, 20)           80        \n",
            "                                                                 \n",
            " max_pooling1d_5 (MaxPoolin  (None, 249, 20)           0         \n",
            " g1D)                                                            \n",
            "                                                                 \n",
            " conv1d_16 (Conv1D)          (None, 240, 6)            1206      \n",
            "                                                                 \n",
            " max_pooling1d_6 (MaxPoolin  (None, 120, 6)            0         \n",
            " g1D)                                                            \n",
            "                                                                 \n",
            " conv1d_17 (Conv1D)          (None, 116, 6)            186       \n",
            "                                                                 \n",
            " max_pooling1d_7 (MaxPoolin  (None, 58, 6)             0         \n",
            " g1D)                                                            \n",
            "                                                                 \n",
            " lstm_4 (LSTM)               (None, 20)                2160      \n",
            "                                                                 \n",
            " dense_14 (Dense)            (None, 3)                 63        \n",
            "                                                                 \n",
            "=================================================================\n",
            "Total params: 3695 (14.43 KB)\n",
            "Trainable params: 3695 (14.43 KB)\n",
            "Non-trainable params: 0 (0.00 Byte)\n",
            "_________________________________________________________________\n"
          ]
        }
      ]
    },
    {
      "cell_type": "code",
      "source": [
        "# Define input and output shapes based on your data\n",
        "input_shape = (500, 1)  # Shape of sequence input\n",
        "output_shape = 3        # Shape of output\n",
        "\n",
        "# Create the model\n",
        "mix_model = create_mix_model(input_shape, output_shape)\n",
        "\n",
        "# Compile the model before training\n",
        "mix_model.compile(optimizer='adam', loss='categorical_crossentropy', metrics=['accuracy'])\n",
        "\n",
        "# Now you can fit the model to your training data\n",
        "mix_model_history = mix_model.fit(X_train, y_train, validation_data=(X_val, y_val), epochs=10, batch_size=32, verbose=1)\n"
      ],
      "metadata": {
        "colab": {
          "base_uri": "https://localhost:8080/"
        },
        "id": "qNTSiL0Hl_pX",
        "outputId": "cc62539a-6f2e-4ebe-bb60-945a294c028d"
      },
      "execution_count": null,
      "outputs": [
        {
          "output_type": "stream",
          "name": "stderr",
          "text": [
            "WARNING:tensorflow:Layer lstm_5 will not use cuDNN kernels since it doesn't meet the criteria. It will use a generic GPU kernel as fallback when running on GPU.\n"
          ]
        },
        {
          "output_type": "stream",
          "name": "stdout",
          "text": [
            "Epoch 1/10\n",
            "5014/5014 [==============================] - 1040s 206ms/step - loss: 0.7368 - accuracy: 0.6882 - val_loss: 0.4443 - val_accuracy: 0.8909\n",
            "Epoch 2/10\n",
            " 586/5014 [==>...........................] - ETA: 17:34 - loss: 0.6786 - accuracy: 0.7071"
          ]
        }
      ]
    },
    {
      "cell_type": "code",
      "source": [
        "import numpy as np\n",
        "import matplotlib.pyplot as plt\n",
        "from sklearn.metrics import confusion_matrix, classification_report\n",
        "\n",
        "# Assuming mix_model_history contains the training history\n",
        "\n",
        "# Predict classes for validation set\n",
        "y_pred = mix_model.predict(X_val)\n",
        "y_pred_classes = np.argmax(y_pred, axis=1)\n",
        "y_true_classes = np.argmax(y_val, axis=1)\n",
        "\n",
        "# Compute confusion matrix\n",
        "conf_matrix = confusion_matrix(y_true_classes, y_pred_classes)\n",
        "\n",
        "# Plot confusion matrix\n",
        "plt.figure(figsize=(8, 6))\n",
        "plt.imshow(conf_matrix, interpolation='nearest', cmap=plt.cm.Blues)\n",
        "plt.title('Confusion Matrix')\n",
        "plt.colorbar()\n",
        "tick_marks = np.arange(output_shape)\n",
        "plt.xticks(tick_marks, range(output_shape))\n",
        "plt.yticks(tick_marks, range(output_shape))\n",
        "plt.xlabel('Predicted Label')\n",
        "plt.ylabel('True Label')\n",
        "plt.tight_layout()\n",
        "\n",
        "# Print classification report\n",
        "print(classification_report(y_true_classes, y_pred_classes))\n",
        "\n",
        "# Show plot\n",
        "plt.show()\n"
      ],
      "metadata": {
        "id": "8IWbaOdSCRDi"
      },
      "execution_count": null,
      "outputs": []
    },
    {
      "cell_type": "code",
      "source": [
        "mix_model.save(\"/gdrive/My Drive/Applied_AI/\")"
      ],
      "metadata": {
        "id": "1_uF6Q3Ysuh4"
      },
      "execution_count": null,
      "outputs": []
    }
  ],
  "metadata": {
    "accelerator": "GPU",
    "colab": {
      "gpuType": "T4",
      "provenance": []
    },
    "kernelspec": {
      "display_name": "Python 3",
      "name": "python3"
    },
    "language_info": {
      "name": "python"
    }
  },
  "nbformat": 4,
  "nbformat_minor": 0
}